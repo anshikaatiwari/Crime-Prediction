{
 "cells": [
  {
   "cell_type": "code",
   "execution_count": 1,
   "id": "d6ca7969",
   "metadata": {
    "_cell_guid": "b1076dfc-b9ad-4769-8c92-a6c4dae69d19",
    "_uuid": "8f2839f25d086af736a60e9eeb907d3b93b6e0e5",
    "execution": {
     "iopub.execute_input": "2024-08-02T11:40:24.610914Z",
     "iopub.status.busy": "2024-08-02T11:40:24.610517Z",
     "iopub.status.idle": "2024-08-02T11:40:25.430039Z",
     "shell.execute_reply": "2024-08-02T11:40:25.428844Z"
    },
    "papermill": {
     "duration": 0.839539,
     "end_time": "2024-08-02T11:40:25.432721",
     "exception": false,
     "start_time": "2024-08-02T11:40:24.593182",
     "status": "completed"
    },
    "tags": []
   },
   "outputs": [
    {
     "name": "stdout",
     "output_type": "stream",
     "text": [
      "/kaggle/input/crime-cast-forecasting-crime-categories/sample.csv\n",
      "/kaggle/input/crime-cast-forecasting-crime-categories/train.csv\n",
      "/kaggle/input/crime-cast-forecasting-crime-categories/test.csv\n"
     ]
    }
   ],
   "source": [
    "# This Python 3 environment comes with many helpful analytics libraries installed\n",
    "# It is defined by the kaggle/python Docker image: https://github.com/kaggle/docker-python\n",
    "# For example, here's several helpful packages to load\n",
    "\n",
    "import numpy as np # linear algebra\n",
    "import pandas as pd # data processing, CSV file I/O (e.g. pd.read_csv)\n",
    "\n",
    "# Input data files are available in the read-only \"../input/\" directory\n",
    "# For example, running this (by clicking run or pressing Shift+Enter) will list all files under the input directory\n",
    "\n",
    "import os\n",
    "for dirname, _, filenames in os.walk('/kaggle/input'):\n",
    "    for filename in filenames:\n",
    "        print(os.path.join(dirname, filename))\n",
    "\n",
    "# You can write up to 20GB to the current directory (/kaggle/working/) that gets preserved as output when you create a version using \"Save & Run All\" \n",
    "# You can also write temporary files to /kaggle/temp/, but they won't be saved outside of the current session"
   ]
  },
  {
   "cell_type": "markdown",
   "id": "e780e7d3",
   "metadata": {
    "papermill": {
     "duration": 0.015483,
     "end_time": "2024-08-02T11:40:25.464234",
     "exception": false,
     "start_time": "2024-08-02T11:40:25.448751",
     "status": "completed"
    },
    "tags": []
   },
   "source": [
    "#  **Loading the Dataset**"
   ]
  },
  {
   "cell_type": "code",
   "execution_count": 2,
   "id": "a643526e",
   "metadata": {
    "execution": {
     "iopub.execute_input": "2024-08-02T11:40:25.501305Z",
     "iopub.status.busy": "2024-08-02T11:40:25.499962Z",
     "iopub.status.idle": "2024-08-02T11:40:25.696017Z",
     "shell.execute_reply": "2024-08-02T11:40:25.694919Z"
    },
    "papermill": {
     "duration": 0.217421,
     "end_time": "2024-08-02T11:40:25.698603",
     "exception": false,
     "start_time": "2024-08-02T11:40:25.481182",
     "status": "completed"
    },
    "tags": []
   },
   "outputs": [],
   "source": [
    "training_data = pd.read_csv('/kaggle/input/crime-cast-forecasting-crime-categories/train.csv')\n"
   ]
  },
  {
   "cell_type": "code",
   "execution_count": 3,
   "id": "b73cc215",
   "metadata": {
    "execution": {
     "iopub.execute_input": "2024-08-02T11:40:25.733682Z",
     "iopub.status.busy": "2024-08-02T11:40:25.732742Z",
     "iopub.status.idle": "2024-08-02T11:40:25.740316Z",
     "shell.execute_reply": "2024-08-02T11:40:25.739260Z"
    },
    "papermill": {
     "duration": 0.027179,
     "end_time": "2024-08-02T11:40:25.742514",
     "exception": false,
     "start_time": "2024-08-02T11:40:25.715335",
     "status": "completed"
    },
    "tags": []
   },
   "outputs": [
    {
     "data": {
      "text/plain": [
       "(20000, 22)"
      ]
     },
     "execution_count": 3,
     "metadata": {},
     "output_type": "execute_result"
    }
   ],
   "source": [
    "training_data.shape"
   ]
  },
  {
   "cell_type": "code",
   "execution_count": 4,
   "id": "528c7b95",
   "metadata": {
    "execution": {
     "iopub.execute_input": "2024-08-02T11:40:25.775751Z",
     "iopub.status.busy": "2024-08-02T11:40:25.775346Z",
     "iopub.status.idle": "2024-08-02T11:40:25.816987Z",
     "shell.execute_reply": "2024-08-02T11:40:25.815906Z"
    },
    "papermill": {
     "duration": 0.061171,
     "end_time": "2024-08-02T11:40:25.819505",
     "exception": false,
     "start_time": "2024-08-02T11:40:25.758334",
     "status": "completed"
    },
    "tags": []
   },
   "outputs": [
    {
     "data": {
      "text/html": [
       "<div>\n",
       "<style scoped>\n",
       "    .dataframe tbody tr th:only-of-type {\n",
       "        vertical-align: middle;\n",
       "    }\n",
       "\n",
       "    .dataframe tbody tr th {\n",
       "        vertical-align: top;\n",
       "    }\n",
       "\n",
       "    .dataframe thead th {\n",
       "        text-align: right;\n",
       "    }\n",
       "</style>\n",
       "<table border=\"1\" class=\"dataframe\">\n",
       "  <thead>\n",
       "    <tr style=\"text-align: right;\">\n",
       "      <th></th>\n",
       "      <th>Location</th>\n",
       "      <th>Cross_Street</th>\n",
       "      <th>Latitude</th>\n",
       "      <th>Longitude</th>\n",
       "      <th>Date_Reported</th>\n",
       "      <th>Date_Occurred</th>\n",
       "      <th>Time_Occurred</th>\n",
       "      <th>Area_ID</th>\n",
       "      <th>Area_Name</th>\n",
       "      <th>Reporting_District_no</th>\n",
       "      <th>...</th>\n",
       "      <th>Victim_Age</th>\n",
       "      <th>Victim_Sex</th>\n",
       "      <th>Victim_Descent</th>\n",
       "      <th>Premise_Code</th>\n",
       "      <th>Premise_Description</th>\n",
       "      <th>Weapon_Used_Code</th>\n",
       "      <th>Weapon_Description</th>\n",
       "      <th>Status</th>\n",
       "      <th>Status_Description</th>\n",
       "      <th>Crime_Category</th>\n",
       "    </tr>\n",
       "  </thead>\n",
       "  <tbody>\n",
       "    <tr>\n",
       "      <th>0</th>\n",
       "      <td>4500    CARPENTER                    AV</td>\n",
       "      <td>NaN</td>\n",
       "      <td>34.1522</td>\n",
       "      <td>-118.3910</td>\n",
       "      <td>03/09/2020 12:00:00 AM</td>\n",
       "      <td>03/06/2020 12:00:00 AM</td>\n",
       "      <td>1800.0</td>\n",
       "      <td>15.0</td>\n",
       "      <td>N Hollywood</td>\n",
       "      <td>1563.0</td>\n",
       "      <td>...</td>\n",
       "      <td>75.0</td>\n",
       "      <td>M</td>\n",
       "      <td>W</td>\n",
       "      <td>101.0</td>\n",
       "      <td>STREET</td>\n",
       "      <td>NaN</td>\n",
       "      <td>NaN</td>\n",
       "      <td>IC</td>\n",
       "      <td>Invest Cont</td>\n",
       "      <td>Property Crimes</td>\n",
       "    </tr>\n",
       "    <tr>\n",
       "      <th>1</th>\n",
       "      <td>45TH                         ST</td>\n",
       "      <td>ALAMEDA                      ST</td>\n",
       "      <td>34.0028</td>\n",
       "      <td>-118.2391</td>\n",
       "      <td>02/27/2020 12:00:00 AM</td>\n",
       "      <td>02/27/2020 12:00:00 AM</td>\n",
       "      <td>1345.0</td>\n",
       "      <td>13.0</td>\n",
       "      <td>Newton</td>\n",
       "      <td>1367.0</td>\n",
       "      <td>...</td>\n",
       "      <td>41.0</td>\n",
       "      <td>M</td>\n",
       "      <td>H</td>\n",
       "      <td>216.0</td>\n",
       "      <td>SWAP MEET</td>\n",
       "      <td>400.0</td>\n",
       "      <td>STRONG-ARM (HANDS, FIST, FEET OR BODILY FORCE)</td>\n",
       "      <td>IC</td>\n",
       "      <td>Invest Cont</td>\n",
       "      <td>Property Crimes</td>\n",
       "    </tr>\n",
       "    <tr>\n",
       "      <th>2</th>\n",
       "      <td>600 E  MARTIN LUTHER KING JR        BL</td>\n",
       "      <td>NaN</td>\n",
       "      <td>34.0111</td>\n",
       "      <td>-118.2653</td>\n",
       "      <td>08/21/2020 12:00:00 AM</td>\n",
       "      <td>08/21/2020 12:00:00 AM</td>\n",
       "      <td>605.0</td>\n",
       "      <td>13.0</td>\n",
       "      <td>Newton</td>\n",
       "      <td>1343.0</td>\n",
       "      <td>...</td>\n",
       "      <td>67.0</td>\n",
       "      <td>M</td>\n",
       "      <td>B</td>\n",
       "      <td>501.0</td>\n",
       "      <td>SINGLE FAMILY DWELLING</td>\n",
       "      <td>NaN</td>\n",
       "      <td>NaN</td>\n",
       "      <td>IC</td>\n",
       "      <td>Invest Cont</td>\n",
       "      <td>Property Crimes</td>\n",
       "    </tr>\n",
       "    <tr>\n",
       "      <th>3</th>\n",
       "      <td>14900    ORO GRANDE                   ST</td>\n",
       "      <td>NaN</td>\n",
       "      <td>34.2953</td>\n",
       "      <td>-118.4590</td>\n",
       "      <td>11/08/2020 12:00:00 AM</td>\n",
       "      <td>11/06/2020 12:00:00 AM</td>\n",
       "      <td>1800.0</td>\n",
       "      <td>19.0</td>\n",
       "      <td>Mission</td>\n",
       "      <td>1924.0</td>\n",
       "      <td>...</td>\n",
       "      <td>61.0</td>\n",
       "      <td>M</td>\n",
       "      <td>H</td>\n",
       "      <td>101.0</td>\n",
       "      <td>STREET</td>\n",
       "      <td>NaN</td>\n",
       "      <td>NaN</td>\n",
       "      <td>IC</td>\n",
       "      <td>Invest Cont</td>\n",
       "      <td>Property Crimes</td>\n",
       "    </tr>\n",
       "    <tr>\n",
       "      <th>4</th>\n",
       "      <td>7100 S  VERMONT                      AV</td>\n",
       "      <td>NaN</td>\n",
       "      <td>33.9787</td>\n",
       "      <td>-118.2918</td>\n",
       "      <td>02/25/2020 12:00:00 AM</td>\n",
       "      <td>02/25/2020 12:00:00 AM</td>\n",
       "      <td>1130.0</td>\n",
       "      <td>12.0</td>\n",
       "      <td>77th Street</td>\n",
       "      <td>1245.0</td>\n",
       "      <td>...</td>\n",
       "      <td>0.0</td>\n",
       "      <td>X</td>\n",
       "      <td>X</td>\n",
       "      <td>401.0</td>\n",
       "      <td>MINI-MART</td>\n",
       "      <td>400.0</td>\n",
       "      <td>STRONG-ARM (HANDS, FIST, FEET OR BODILY FORCE)</td>\n",
       "      <td>IC</td>\n",
       "      <td>Invest Cont</td>\n",
       "      <td>Property Crimes</td>\n",
       "    </tr>\n",
       "  </tbody>\n",
       "</table>\n",
       "<p>5 rows × 22 columns</p>\n",
       "</div>"
      ],
      "text/plain": [
       "                                   Location                     Cross_Street  \\\n",
       "0   4500    CARPENTER                    AV                              NaN   \n",
       "1           45TH                         ST  ALAMEDA                      ST   \n",
       "2    600 E  MARTIN LUTHER KING JR        BL                              NaN   \n",
       "3  14900    ORO GRANDE                   ST                              NaN   \n",
       "4   7100 S  VERMONT                      AV                              NaN   \n",
       "\n",
       "   Latitude  Longitude           Date_Reported           Date_Occurred  \\\n",
       "0   34.1522  -118.3910  03/09/2020 12:00:00 AM  03/06/2020 12:00:00 AM   \n",
       "1   34.0028  -118.2391  02/27/2020 12:00:00 AM  02/27/2020 12:00:00 AM   \n",
       "2   34.0111  -118.2653  08/21/2020 12:00:00 AM  08/21/2020 12:00:00 AM   \n",
       "3   34.2953  -118.4590  11/08/2020 12:00:00 AM  11/06/2020 12:00:00 AM   \n",
       "4   33.9787  -118.2918  02/25/2020 12:00:00 AM  02/25/2020 12:00:00 AM   \n",
       "\n",
       "   Time_Occurred  Area_ID    Area_Name  Reporting_District_no  ...  \\\n",
       "0         1800.0     15.0  N Hollywood                 1563.0  ...   \n",
       "1         1345.0     13.0       Newton                 1367.0  ...   \n",
       "2          605.0     13.0       Newton                 1343.0  ...   \n",
       "3         1800.0     19.0      Mission                 1924.0  ...   \n",
       "4         1130.0     12.0  77th Street                 1245.0  ...   \n",
       "\n",
       "   Victim_Age Victim_Sex  Victim_Descent Premise_Code     Premise_Description  \\\n",
       "0        75.0          M               W        101.0                  STREET   \n",
       "1        41.0          M               H        216.0               SWAP MEET   \n",
       "2        67.0          M               B        501.0  SINGLE FAMILY DWELLING   \n",
       "3        61.0          M               H        101.0                  STREET   \n",
       "4         0.0          X               X        401.0               MINI-MART   \n",
       "\n",
       "   Weapon_Used_Code                              Weapon_Description  Status  \\\n",
       "0               NaN                                             NaN      IC   \n",
       "1             400.0  STRONG-ARM (HANDS, FIST, FEET OR BODILY FORCE)      IC   \n",
       "2               NaN                                             NaN      IC   \n",
       "3               NaN                                             NaN      IC   \n",
       "4             400.0  STRONG-ARM (HANDS, FIST, FEET OR BODILY FORCE)      IC   \n",
       "\n",
       "  Status_Description   Crime_Category  \n",
       "0        Invest Cont  Property Crimes  \n",
       "1        Invest Cont  Property Crimes  \n",
       "2        Invest Cont  Property Crimes  \n",
       "3        Invest Cont  Property Crimes  \n",
       "4        Invest Cont  Property Crimes  \n",
       "\n",
       "[5 rows x 22 columns]"
      ]
     },
     "execution_count": 4,
     "metadata": {},
     "output_type": "execute_result"
    }
   ],
   "source": [
    "training_data.head()"
   ]
  },
  {
   "cell_type": "code",
   "execution_count": 5,
   "id": "76fe3d04",
   "metadata": {
    "execution": {
     "iopub.execute_input": "2024-08-02T11:40:25.853710Z",
     "iopub.status.busy": "2024-08-02T11:40:25.853340Z",
     "iopub.status.idle": "2024-08-02T11:40:25.861792Z",
     "shell.execute_reply": "2024-08-02T11:40:25.860706Z"
    },
    "papermill": {
     "duration": 0.028014,
     "end_time": "2024-08-02T11:40:25.863874",
     "exception": false,
     "start_time": "2024-08-02T11:40:25.835860",
     "status": "completed"
    },
    "tags": []
   },
   "outputs": [
    {
     "data": {
      "text/plain": [
       "Location                  object\n",
       "Cross_Street              object\n",
       "Latitude                 float64\n",
       "Longitude                float64\n",
       "Date_Reported             object\n",
       "Date_Occurred             object\n",
       "Time_Occurred            float64\n",
       "Area_ID                  float64\n",
       "Area_Name                 object\n",
       "Reporting_District_no    float64\n",
       "Part 1-2                 float64\n",
       "Modus_Operandi            object\n",
       "Victim_Age               float64\n",
       "Victim_Sex                object\n",
       "Victim_Descent            object\n",
       "Premise_Code             float64\n",
       "Premise_Description       object\n",
       "Weapon_Used_Code         float64\n",
       "Weapon_Description        object\n",
       "Status                    object\n",
       "Status_Description        object\n",
       "Crime_Category            object\n",
       "dtype: object"
      ]
     },
     "execution_count": 5,
     "metadata": {},
     "output_type": "execute_result"
    }
   ],
   "source": [
    "training_data.dtypes"
   ]
  },
  {
   "cell_type": "code",
   "execution_count": 6,
   "id": "5cfa40fb",
   "metadata": {
    "execution": {
     "iopub.execute_input": "2024-08-02T11:40:25.899206Z",
     "iopub.status.busy": "2024-08-02T11:40:25.898786Z",
     "iopub.status.idle": "2024-08-02T11:40:26.054038Z",
     "shell.execute_reply": "2024-08-02T11:40:26.052890Z"
    },
    "papermill": {
     "duration": 0.175677,
     "end_time": "2024-08-02T11:40:26.056658",
     "exception": false,
     "start_time": "2024-08-02T11:40:25.880981",
     "status": "completed"
    },
    "tags": []
   },
   "outputs": [
    {
     "name": "stderr",
     "output_type": "stream",
     "text": [
      "/tmp/ipykernel_17/37356444.py:1: UserWarning: Could not infer format, so each element will be parsed individually, falling back to `dateutil`. To ensure parsing is consistent and as-expected, please specify a format.\n",
      "  training_data['Date_Occurred']=pd.to_datetime(training_data['Date_Occurred'])\n",
      "/tmp/ipykernel_17/37356444.py:2: UserWarning: Could not infer format, so each element will be parsed individually, falling back to `dateutil`. To ensure parsing is consistent and as-expected, please specify a format.\n",
      "  training_data['Date_Reported']=pd.to_datetime(training_data['Date_Reported'])\n"
     ]
    }
   ],
   "source": [
    "training_data['Date_Occurred']=pd.to_datetime(training_data['Date_Occurred'])\n",
    "training_data['Date_Reported']=pd.to_datetime(training_data['Date_Reported'])\n"
   ]
  },
  {
   "cell_type": "code",
   "execution_count": 7,
   "id": "51baedd9",
   "metadata": {
    "execution": {
     "iopub.execute_input": "2024-08-02T11:40:26.091374Z",
     "iopub.status.busy": "2024-08-02T11:40:26.091003Z",
     "iopub.status.idle": "2024-08-02T11:40:26.099670Z",
     "shell.execute_reply": "2024-08-02T11:40:26.098637Z"
    },
    "papermill": {
     "duration": 0.028592,
     "end_time": "2024-08-02T11:40:26.101801",
     "exception": false,
     "start_time": "2024-08-02T11:40:26.073209",
     "status": "completed"
    },
    "tags": []
   },
   "outputs": [
    {
     "data": {
      "text/plain": [
       "Location                         object\n",
       "Cross_Street                     object\n",
       "Latitude                        float64\n",
       "Longitude                       float64\n",
       "Date_Reported            datetime64[ns]\n",
       "Date_Occurred            datetime64[ns]\n",
       "Time_Occurred                   float64\n",
       "Area_ID                         float64\n",
       "Area_Name                        object\n",
       "Reporting_District_no           float64\n",
       "Part 1-2                        float64\n",
       "Modus_Operandi                   object\n",
       "Victim_Age                      float64\n",
       "Victim_Sex                       object\n",
       "Victim_Descent                   object\n",
       "Premise_Code                    float64\n",
       "Premise_Description              object\n",
       "Weapon_Used_Code                float64\n",
       "Weapon_Description               object\n",
       "Status                           object\n",
       "Status_Description               object\n",
       "Crime_Category                   object\n",
       "dtype: object"
      ]
     },
     "execution_count": 7,
     "metadata": {},
     "output_type": "execute_result"
    }
   ],
   "source": [
    "training_data.dtypes"
   ]
  },
  {
   "cell_type": "code",
   "execution_count": 8,
   "id": "fa58d159",
   "metadata": {
    "execution": {
     "iopub.execute_input": "2024-08-02T11:40:26.136952Z",
     "iopub.status.busy": "2024-08-02T11:40:26.136547Z",
     "iopub.status.idle": "2024-08-02T11:40:26.150633Z",
     "shell.execute_reply": "2024-08-02T11:40:26.149515Z"
    },
    "papermill": {
     "duration": 0.034529,
     "end_time": "2024-08-02T11:40:26.153115",
     "exception": false,
     "start_time": "2024-08-02T11:40:26.118586",
     "status": "completed"
    },
    "tags": []
   },
   "outputs": [],
   "source": [
    "\n",
    "training_data['Month_Occurred'] = training_data['Date_Occurred'].dt.month_name()\n"
   ]
  },
  {
   "cell_type": "code",
   "execution_count": 9,
   "id": "5a2798cf",
   "metadata": {
    "execution": {
     "iopub.execute_input": "2024-08-02T11:40:26.188011Z",
     "iopub.status.busy": "2024-08-02T11:40:26.187603Z",
     "iopub.status.idle": "2024-08-02T11:40:26.192464Z",
     "shell.execute_reply": "2024-08-02T11:40:26.191317Z"
    },
    "papermill": {
     "duration": 0.024836,
     "end_time": "2024-08-02T11:40:26.194558",
     "exception": false,
     "start_time": "2024-08-02T11:40:26.169722",
     "status": "completed"
    },
    "tags": []
   },
   "outputs": [],
   "source": [
    "td=training_data"
   ]
  },
  {
   "cell_type": "code",
   "execution_count": 10,
   "id": "99b39fe8",
   "metadata": {
    "execution": {
     "iopub.execute_input": "2024-08-02T11:40:26.229951Z",
     "iopub.status.busy": "2024-08-02T11:40:26.228959Z",
     "iopub.status.idle": "2024-08-02T11:40:26.290642Z",
     "shell.execute_reply": "2024-08-02T11:40:26.289619Z"
    },
    "papermill": {
     "duration": 0.082269,
     "end_time": "2024-08-02T11:40:26.293346",
     "exception": false,
     "start_time": "2024-08-02T11:40:26.211077",
     "status": "completed"
    },
    "tags": []
   },
   "outputs": [
    {
     "data": {
      "text/html": [
       "<div>\n",
       "<style scoped>\n",
       "    .dataframe tbody tr th:only-of-type {\n",
       "        vertical-align: middle;\n",
       "    }\n",
       "\n",
       "    .dataframe tbody tr th {\n",
       "        vertical-align: top;\n",
       "    }\n",
       "\n",
       "    .dataframe thead th {\n",
       "        text-align: right;\n",
       "    }\n",
       "</style>\n",
       "<table border=\"1\" class=\"dataframe\">\n",
       "  <thead>\n",
       "    <tr style=\"text-align: right;\">\n",
       "      <th></th>\n",
       "      <th>Location</th>\n",
       "      <th>Cross_Street</th>\n",
       "      <th>Latitude</th>\n",
       "      <th>Longitude</th>\n",
       "      <th>Date_Reported</th>\n",
       "      <th>Date_Occurred</th>\n",
       "      <th>Time_Occurred</th>\n",
       "      <th>Area_ID</th>\n",
       "      <th>Area_Name</th>\n",
       "      <th>Reporting_District_no</th>\n",
       "      <th>...</th>\n",
       "      <th>Victim_Sex</th>\n",
       "      <th>Victim_Descent</th>\n",
       "      <th>Premise_Code</th>\n",
       "      <th>Premise_Description</th>\n",
       "      <th>Weapon_Used_Code</th>\n",
       "      <th>Weapon_Description</th>\n",
       "      <th>Status</th>\n",
       "      <th>Status_Description</th>\n",
       "      <th>Crime_Category</th>\n",
       "      <th>Month_Occurred</th>\n",
       "    </tr>\n",
       "  </thead>\n",
       "  <tbody>\n",
       "    <tr>\n",
       "      <th>0</th>\n",
       "      <td>4500    CARPENTER                    AV</td>\n",
       "      <td>NaN</td>\n",
       "      <td>34.1522</td>\n",
       "      <td>-118.3910</td>\n",
       "      <td>2020-03-09</td>\n",
       "      <td>2020-03-06</td>\n",
       "      <td>1800.0</td>\n",
       "      <td>15.0</td>\n",
       "      <td>N Hollywood</td>\n",
       "      <td>1563.0</td>\n",
       "      <td>...</td>\n",
       "      <td>M</td>\n",
       "      <td>W</td>\n",
       "      <td>101.0</td>\n",
       "      <td>STREET</td>\n",
       "      <td>NaN</td>\n",
       "      <td>NaN</td>\n",
       "      <td>IC</td>\n",
       "      <td>Invest Cont</td>\n",
       "      <td>Property Crimes</td>\n",
       "      <td>March</td>\n",
       "    </tr>\n",
       "    <tr>\n",
       "      <th>1</th>\n",
       "      <td>45TH                         ST</td>\n",
       "      <td>ALAMEDA                      ST</td>\n",
       "      <td>34.0028</td>\n",
       "      <td>-118.2391</td>\n",
       "      <td>2020-02-27</td>\n",
       "      <td>2020-02-27</td>\n",
       "      <td>1345.0</td>\n",
       "      <td>13.0</td>\n",
       "      <td>Newton</td>\n",
       "      <td>1367.0</td>\n",
       "      <td>...</td>\n",
       "      <td>M</td>\n",
       "      <td>H</td>\n",
       "      <td>216.0</td>\n",
       "      <td>SWAP MEET</td>\n",
       "      <td>400.0</td>\n",
       "      <td>STRONG-ARM (HANDS, FIST, FEET OR BODILY FORCE)</td>\n",
       "      <td>IC</td>\n",
       "      <td>Invest Cont</td>\n",
       "      <td>Property Crimes</td>\n",
       "      <td>February</td>\n",
       "    </tr>\n",
       "    <tr>\n",
       "      <th>2</th>\n",
       "      <td>600 E  MARTIN LUTHER KING JR        BL</td>\n",
       "      <td>NaN</td>\n",
       "      <td>34.0111</td>\n",
       "      <td>-118.2653</td>\n",
       "      <td>2020-08-21</td>\n",
       "      <td>2020-08-21</td>\n",
       "      <td>605.0</td>\n",
       "      <td>13.0</td>\n",
       "      <td>Newton</td>\n",
       "      <td>1343.0</td>\n",
       "      <td>...</td>\n",
       "      <td>M</td>\n",
       "      <td>B</td>\n",
       "      <td>501.0</td>\n",
       "      <td>SINGLE FAMILY DWELLING</td>\n",
       "      <td>NaN</td>\n",
       "      <td>NaN</td>\n",
       "      <td>IC</td>\n",
       "      <td>Invest Cont</td>\n",
       "      <td>Property Crimes</td>\n",
       "      <td>August</td>\n",
       "    </tr>\n",
       "    <tr>\n",
       "      <th>3</th>\n",
       "      <td>14900    ORO GRANDE                   ST</td>\n",
       "      <td>NaN</td>\n",
       "      <td>34.2953</td>\n",
       "      <td>-118.4590</td>\n",
       "      <td>2020-11-08</td>\n",
       "      <td>2020-11-06</td>\n",
       "      <td>1800.0</td>\n",
       "      <td>19.0</td>\n",
       "      <td>Mission</td>\n",
       "      <td>1924.0</td>\n",
       "      <td>...</td>\n",
       "      <td>M</td>\n",
       "      <td>H</td>\n",
       "      <td>101.0</td>\n",
       "      <td>STREET</td>\n",
       "      <td>NaN</td>\n",
       "      <td>NaN</td>\n",
       "      <td>IC</td>\n",
       "      <td>Invest Cont</td>\n",
       "      <td>Property Crimes</td>\n",
       "      <td>November</td>\n",
       "    </tr>\n",
       "    <tr>\n",
       "      <th>4</th>\n",
       "      <td>7100 S  VERMONT                      AV</td>\n",
       "      <td>NaN</td>\n",
       "      <td>33.9787</td>\n",
       "      <td>-118.2918</td>\n",
       "      <td>2020-02-25</td>\n",
       "      <td>2020-02-25</td>\n",
       "      <td>1130.0</td>\n",
       "      <td>12.0</td>\n",
       "      <td>77th Street</td>\n",
       "      <td>1245.0</td>\n",
       "      <td>...</td>\n",
       "      <td>X</td>\n",
       "      <td>X</td>\n",
       "      <td>401.0</td>\n",
       "      <td>MINI-MART</td>\n",
       "      <td>400.0</td>\n",
       "      <td>STRONG-ARM (HANDS, FIST, FEET OR BODILY FORCE)</td>\n",
       "      <td>IC</td>\n",
       "      <td>Invest Cont</td>\n",
       "      <td>Property Crimes</td>\n",
       "      <td>February</td>\n",
       "    </tr>\n",
       "    <tr>\n",
       "      <th>...</th>\n",
       "      <td>...</td>\n",
       "      <td>...</td>\n",
       "      <td>...</td>\n",
       "      <td>...</td>\n",
       "      <td>...</td>\n",
       "      <td>...</td>\n",
       "      <td>...</td>\n",
       "      <td>...</td>\n",
       "      <td>...</td>\n",
       "      <td>...</td>\n",
       "      <td>...</td>\n",
       "      <td>...</td>\n",
       "      <td>...</td>\n",
       "      <td>...</td>\n",
       "      <td>...</td>\n",
       "      <td>...</td>\n",
       "      <td>...</td>\n",
       "      <td>...</td>\n",
       "      <td>...</td>\n",
       "      <td>...</td>\n",
       "      <td>...</td>\n",
       "    </tr>\n",
       "    <tr>\n",
       "      <th>19995</th>\n",
       "      <td>5100 W  ADAMS                        BL</td>\n",
       "      <td>NaN</td>\n",
       "      <td>34.0334</td>\n",
       "      <td>-118.3523</td>\n",
       "      <td>2020-05-24</td>\n",
       "      <td>2020-05-24</td>\n",
       "      <td>700.0</td>\n",
       "      <td>3.0</td>\n",
       "      <td>Southwest</td>\n",
       "      <td>303.0</td>\n",
       "      <td>...</td>\n",
       "      <td>M</td>\n",
       "      <td>H</td>\n",
       "      <td>501.0</td>\n",
       "      <td>SINGLE FAMILY DWELLING</td>\n",
       "      <td>400.0</td>\n",
       "      <td>STRONG-ARM (HANDS, FIST, FEET OR BODILY FORCE)</td>\n",
       "      <td>IC</td>\n",
       "      <td>Invest Cont</td>\n",
       "      <td>Violent Crimes</td>\n",
       "      <td>May</td>\n",
       "    </tr>\n",
       "    <tr>\n",
       "      <th>19996</th>\n",
       "      <td>16900    ROSCOE                       BL</td>\n",
       "      <td>NaN</td>\n",
       "      <td>34.2212</td>\n",
       "      <td>-118.5011</td>\n",
       "      <td>2020-12-25</td>\n",
       "      <td>2020-12-25</td>\n",
       "      <td>259.0</td>\n",
       "      <td>10.0</td>\n",
       "      <td>West Valley</td>\n",
       "      <td>1008.0</td>\n",
       "      <td>...</td>\n",
       "      <td>M</td>\n",
       "      <td>W</td>\n",
       "      <td>301.0</td>\n",
       "      <td>GAS STATION</td>\n",
       "      <td>NaN</td>\n",
       "      <td>NaN</td>\n",
       "      <td>IC</td>\n",
       "      <td>Invest Cont</td>\n",
       "      <td>Property Crimes</td>\n",
       "      <td>December</td>\n",
       "    </tr>\n",
       "    <tr>\n",
       "      <th>19997</th>\n",
       "      <td>1000 S  SHENANDOAH                   ST</td>\n",
       "      <td>NaN</td>\n",
       "      <td>34.0571</td>\n",
       "      <td>-118.3815</td>\n",
       "      <td>2020-09-25</td>\n",
       "      <td>2020-09-25</td>\n",
       "      <td>1400.0</td>\n",
       "      <td>8.0</td>\n",
       "      <td>West LA</td>\n",
       "      <td>849.0</td>\n",
       "      <td>...</td>\n",
       "      <td>M</td>\n",
       "      <td>H</td>\n",
       "      <td>102.0</td>\n",
       "      <td>SIDEWALK</td>\n",
       "      <td>NaN</td>\n",
       "      <td>NaN</td>\n",
       "      <td>IC</td>\n",
       "      <td>Invest Cont</td>\n",
       "      <td>Property Crimes</td>\n",
       "      <td>September</td>\n",
       "    </tr>\n",
       "    <tr>\n",
       "      <th>19998</th>\n",
       "      <td>300 W  SEPULVEDA                    ST</td>\n",
       "      <td>NaN</td>\n",
       "      <td>33.7451</td>\n",
       "      <td>-118.2835</td>\n",
       "      <td>2020-06-10</td>\n",
       "      <td>2020-06-10</td>\n",
       "      <td>600.0</td>\n",
       "      <td>5.0</td>\n",
       "      <td>Harbor</td>\n",
       "      <td>558.0</td>\n",
       "      <td>...</td>\n",
       "      <td>F</td>\n",
       "      <td>H</td>\n",
       "      <td>501.0</td>\n",
       "      <td>SINGLE FAMILY DWELLING</td>\n",
       "      <td>NaN</td>\n",
       "      <td>NaN</td>\n",
       "      <td>IC</td>\n",
       "      <td>Invest Cont</td>\n",
       "      <td>Crimes against Public Order</td>\n",
       "      <td>June</td>\n",
       "    </tr>\n",
       "    <tr>\n",
       "      <th>19999</th>\n",
       "      <td>DALTON                       AV</td>\n",
       "      <td>VERNON                       AV</td>\n",
       "      <td>34.0037</td>\n",
       "      <td>-118.3034</td>\n",
       "      <td>2020-02-18</td>\n",
       "      <td>2020-02-17</td>\n",
       "      <td>1800.0</td>\n",
       "      <td>3.0</td>\n",
       "      <td>Southwest</td>\n",
       "      <td>397.0</td>\n",
       "      <td>...</td>\n",
       "      <td>NaN</td>\n",
       "      <td>NaN</td>\n",
       "      <td>101.0</td>\n",
       "      <td>STREET</td>\n",
       "      <td>NaN</td>\n",
       "      <td>NaN</td>\n",
       "      <td>IC</td>\n",
       "      <td>Invest Cont</td>\n",
       "      <td>Property Crimes</td>\n",
       "      <td>February</td>\n",
       "    </tr>\n",
       "  </tbody>\n",
       "</table>\n",
       "<p>20000 rows × 23 columns</p>\n",
       "</div>"
      ],
      "text/plain": [
       "                                       Location  \\\n",
       "0       4500    CARPENTER                    AV   \n",
       "1               45TH                         ST   \n",
       "2        600 E  MARTIN LUTHER KING JR        BL   \n",
       "3      14900    ORO GRANDE                   ST   \n",
       "4       7100 S  VERMONT                      AV   \n",
       "...                                         ...   \n",
       "19995   5100 W  ADAMS                        BL   \n",
       "19996  16900    ROSCOE                       BL   \n",
       "19997   1000 S  SHENANDOAH                   ST   \n",
       "19998    300 W  SEPULVEDA                    ST   \n",
       "19999           DALTON                       AV   \n",
       "\n",
       "                          Cross_Street  Latitude  Longitude Date_Reported  \\\n",
       "0                                  NaN   34.1522  -118.3910    2020-03-09   \n",
       "1      ALAMEDA                      ST   34.0028  -118.2391    2020-02-27   \n",
       "2                                  NaN   34.0111  -118.2653    2020-08-21   \n",
       "3                                  NaN   34.2953  -118.4590    2020-11-08   \n",
       "4                                  NaN   33.9787  -118.2918    2020-02-25   \n",
       "...                                ...       ...        ...           ...   \n",
       "19995                              NaN   34.0334  -118.3523    2020-05-24   \n",
       "19996                              NaN   34.2212  -118.5011    2020-12-25   \n",
       "19997                              NaN   34.0571  -118.3815    2020-09-25   \n",
       "19998                              NaN   33.7451  -118.2835    2020-06-10   \n",
       "19999  VERNON                       AV   34.0037  -118.3034    2020-02-18   \n",
       "\n",
       "      Date_Occurred  Time_Occurred  Area_ID    Area_Name  \\\n",
       "0        2020-03-06         1800.0     15.0  N Hollywood   \n",
       "1        2020-02-27         1345.0     13.0       Newton   \n",
       "2        2020-08-21          605.0     13.0       Newton   \n",
       "3        2020-11-06         1800.0     19.0      Mission   \n",
       "4        2020-02-25         1130.0     12.0  77th Street   \n",
       "...             ...            ...      ...          ...   \n",
       "19995    2020-05-24          700.0      3.0    Southwest   \n",
       "19996    2020-12-25          259.0     10.0  West Valley   \n",
       "19997    2020-09-25         1400.0      8.0      West LA   \n",
       "19998    2020-06-10          600.0      5.0       Harbor   \n",
       "19999    2020-02-17         1800.0      3.0    Southwest   \n",
       "\n",
       "       Reporting_District_no  ...  Victim_Sex Victim_Descent  Premise_Code  \\\n",
       "0                     1563.0  ...           M              W         101.0   \n",
       "1                     1367.0  ...           M              H         216.0   \n",
       "2                     1343.0  ...           M              B         501.0   \n",
       "3                     1924.0  ...           M              H         101.0   \n",
       "4                     1245.0  ...           X              X         401.0   \n",
       "...                      ...  ...         ...            ...           ...   \n",
       "19995                  303.0  ...           M              H         501.0   \n",
       "19996                 1008.0  ...           M              W         301.0   \n",
       "19997                  849.0  ...           M              H         102.0   \n",
       "19998                  558.0  ...           F              H         501.0   \n",
       "19999                  397.0  ...         NaN            NaN         101.0   \n",
       "\n",
       "          Premise_Description Weapon_Used_Code  \\\n",
       "0                      STREET              NaN   \n",
       "1                   SWAP MEET            400.0   \n",
       "2      SINGLE FAMILY DWELLING              NaN   \n",
       "3                      STREET              NaN   \n",
       "4                   MINI-MART            400.0   \n",
       "...                       ...              ...   \n",
       "19995  SINGLE FAMILY DWELLING            400.0   \n",
       "19996             GAS STATION              NaN   \n",
       "19997                SIDEWALK              NaN   \n",
       "19998  SINGLE FAMILY DWELLING              NaN   \n",
       "19999                  STREET              NaN   \n",
       "\n",
       "                                   Weapon_Description Status  \\\n",
       "0                                                 NaN     IC   \n",
       "1      STRONG-ARM (HANDS, FIST, FEET OR BODILY FORCE)     IC   \n",
       "2                                                 NaN     IC   \n",
       "3                                                 NaN     IC   \n",
       "4      STRONG-ARM (HANDS, FIST, FEET OR BODILY FORCE)     IC   \n",
       "...                                               ...    ...   \n",
       "19995  STRONG-ARM (HANDS, FIST, FEET OR BODILY FORCE)     IC   \n",
       "19996                                             NaN     IC   \n",
       "19997                                             NaN     IC   \n",
       "19998                                             NaN     IC   \n",
       "19999                                             NaN     IC   \n",
       "\n",
       "       Status_Description               Crime_Category Month_Occurred  \n",
       "0             Invest Cont              Property Crimes          March  \n",
       "1             Invest Cont              Property Crimes       February  \n",
       "2             Invest Cont              Property Crimes         August  \n",
       "3             Invest Cont              Property Crimes       November  \n",
       "4             Invest Cont              Property Crimes       February  \n",
       "...                   ...                          ...            ...  \n",
       "19995         Invest Cont               Violent Crimes            May  \n",
       "19996         Invest Cont              Property Crimes       December  \n",
       "19997         Invest Cont              Property Crimes      September  \n",
       "19998         Invest Cont  Crimes against Public Order           June  \n",
       "19999         Invest Cont              Property Crimes       February  \n",
       "\n",
       "[20000 rows x 23 columns]"
      ]
     },
     "execution_count": 10,
     "metadata": {},
     "output_type": "execute_result"
    }
   ],
   "source": [
    "td"
   ]
  },
  {
   "cell_type": "markdown",
   "id": "2714f072",
   "metadata": {
    "papermill": {
     "duration": 0.016856,
     "end_time": "2024-08-02T11:40:26.327246",
     "exception": false,
     "start_time": "2024-08-02T11:40:26.310390",
     "status": "completed"
    },
    "tags": []
   },
   "source": [
    "# **EDA**"
   ]
  },
  {
   "cell_type": "code",
   "execution_count": 11,
   "id": "d0b3a9a3",
   "metadata": {
    "execution": {
     "iopub.execute_input": "2024-08-02T11:40:26.363072Z",
     "iopub.status.busy": "2024-08-02T11:40:26.362662Z",
     "iopub.status.idle": "2024-08-02T11:40:27.619528Z",
     "shell.execute_reply": "2024-08-02T11:40:27.618355Z"
    },
    "papermill": {
     "duration": 1.278104,
     "end_time": "2024-08-02T11:40:27.622339",
     "exception": false,
     "start_time": "2024-08-02T11:40:26.344235",
     "status": "completed"
    },
    "tags": []
   },
   "outputs": [],
   "source": [
    "import matplotlib.pyplot as plt\n",
    "import seaborn as sns\n",
    "\n"
   ]
  },
  {
   "cell_type": "code",
   "execution_count": 12,
   "id": "8a2dce1e",
   "metadata": {
    "execution": {
     "iopub.execute_input": "2024-08-02T11:40:27.659956Z",
     "iopub.status.busy": "2024-08-02T11:40:27.658647Z",
     "iopub.status.idle": "2024-08-02T11:40:27.672614Z",
     "shell.execute_reply": "2024-08-02T11:40:27.671579Z"
    },
    "papermill": {
     "duration": 0.034611,
     "end_time": "2024-08-02T11:40:27.674728",
     "exception": false,
     "start_time": "2024-08-02T11:40:27.640117",
     "status": "completed"
    },
    "tags": []
   },
   "outputs": [
    {
     "data": {
      "text/plain": [
       "Crime_Category\n",
       "Property Crimes                  11666\n",
       "Violent Crimes                    4767\n",
       "Crimes against Public Order       1808\n",
       "Fraud and White-Collar Crimes     1355\n",
       "Crimes against Persons             225\n",
       "Other Crimes                       179\n",
       "Name: count, dtype: int64"
      ]
     },
     "execution_count": 12,
     "metadata": {},
     "output_type": "execute_result"
    }
   ],
   "source": [
    "td['Crime_Category'].value_counts()"
   ]
  },
  {
   "cell_type": "code",
   "execution_count": 13,
   "id": "bb569f20",
   "metadata": {
    "execution": {
     "iopub.execute_input": "2024-08-02T11:40:27.711709Z",
     "iopub.status.busy": "2024-08-02T11:40:27.710745Z",
     "iopub.status.idle": "2024-08-02T11:40:28.101547Z",
     "shell.execute_reply": "2024-08-02T11:40:28.100318Z"
    },
    "papermill": {
     "duration": 0.411777,
     "end_time": "2024-08-02T11:40:28.103865",
     "exception": false,
     "start_time": "2024-08-02T11:40:27.692088",
     "status": "completed"
    },
    "tags": []
   },
   "outputs": [
    {
     "data": {
      "image/png": "[encoded data removed]",
      "text/plain": [
       "<Figure size 1600x400 with 1 Axes>"
      ]
     },
     "metadata": {},
     "output_type": "display_data"
    }
   ],
   "source": [
    "plt.figure(figsize=(16,4))\n",
    "sns.countplot(data=td, x='Crime_Category',order=td['Crime_Category'].value_counts().index)\n",
    "plt.title(\"Comparison between Various Crime Categories on the basis of  Count of Crimes\")           \n",
    "plt.show()\n"
   ]
  },
  {
   "cell_type": "code",
   "execution_count": 14,
   "id": "9f684149",
   "metadata": {
    "execution": {
     "iopub.execute_input": "2024-08-02T11:40:28.141710Z",
     "iopub.status.busy": "2024-08-02T11:40:28.140740Z",
     "iopub.status.idle": "2024-08-02T11:40:28.581248Z",
     "shell.execute_reply": "2024-08-02T11:40:28.579781Z"
    },
    "papermill": {
     "duration": 0.462293,
     "end_time": "2024-08-02T11:40:28.584024",
     "exception": false,
     "start_time": "2024-08-02T11:40:28.121731",
     "status": "completed"
    },
    "tags": []
   },
   "outputs": [
    {
     "data": {
      "image/png": "[encoded data removed]",
      "text/plain": [
       "<Figure size 1700x900 with 1 Axes>"
      ]
     },
     "metadata": {},
     "output_type": "display_data"
    }
   ],
   "source": [
    "plt.figure(figsize=(17,9))\n",
    "sns.countplot(data=td, x='Area_Name',order=td['Area_Name'].value_counts().index)\n",
    "plt.title(\"Comparison between Different Areas on the basis of Count of Crimes\")\n",
    "plt.show()\n"
   ]
  },
  {
   "cell_type": "code",
   "execution_count": 15,
   "id": "f3644ae1",
   "metadata": {
    "execution": {
     "iopub.execute_input": "2024-08-02T11:40:28.627315Z",
     "iopub.status.busy": "2024-08-02T11:40:28.626507Z",
     "iopub.status.idle": "2024-08-02T11:40:28.640227Z",
     "shell.execute_reply": "2024-08-02T11:40:28.639126Z"
    },
    "papermill": {
     "duration": 0.038414,
     "end_time": "2024-08-02T11:40:28.642480",
     "exception": false,
     "start_time": "2024-08-02T11:40:28.604066",
     "status": "completed"
    },
    "tags": []
   },
   "outputs": [
    {
     "data": {
      "text/plain": [
       "Weapon_Description\n",
       "STRONG-ARM (HANDS, FIST, FEET OR BODILY FORCE)    3990\n",
       "UNKNOWN WEAPON/OTHER WEAPON                        789\n",
       "VERBAL THREAT                                      546\n",
       "HAND GUN                                           388\n",
       "KNIFE WITH BLADE 6INCHES OR LESS                   160\n",
       "SEMI-AUTOMATIC PISTOL                              154\n",
       "UNKNOWN FIREARM                                    131\n",
       "OTHER KNIFE                                        125\n",
       "VEHICLE                                             84\n",
       "MACE/PEPPER SPRAY                                   80\n",
       "ROCK/THROWN OBJECT                                  63\n",
       "BOTTLE                                              55\n",
       "PIPE/METAL PIPE                                     52\n",
       "CLUB/BAT                                            51\n",
       "STICK                                               49\n",
       "KITCHEN KNIFE                                       45\n",
       "KNIFE WITH BLADE OVER 6 INCHES IN LENGTH            43\n",
       "AIR PISTOL/REVOLVER/RIFLE/BB GUN                    41\n",
       "FOLDING KNIFE                                       37\n",
       "BLUNT INSTRUMENT                                    37\n",
       "SIMULATED GUN                                       35\n",
       "REVOLVER                                            34\n",
       "BELT FLAILING INSTRUMENT/CHAIN                      26\n",
       "CONCRETE BLOCK/BRICK                                26\n",
       "MACHETE                                             25\n",
       "UNKNOWN TYPE CUTTING INSTRUMENT                     24\n",
       "HAMMER                                              23\n",
       "SCREWDRIVER                                         23\n",
       "FIRE                                                22\n",
       "OTHER FIREARM                                       18\n",
       "PHYSICAL PRESENCE                                   18\n",
       "OTHER CUTTING INSTRUMENT                            17\n",
       "FIXED OBJECT                                        16\n",
       "GLASS                                               14\n",
       "SCISSORS                                            13\n",
       "RIFLE                                               12\n",
       "BOARD                                               11\n",
       "TOY GUN                                              8\n",
       "SHOTGUN                                              7\n",
       "TIRE IRON                                            7\n",
       "AXE                                                  6\n",
       "STUN GUN                                             4\n",
       "BRASS KNUCKLES                                       4\n",
       "SCALDING LIQUID                                      3\n",
       "SWITCH BLADE                                         3\n",
       "MARTIAL ARTS WEAPONS                                 2\n",
       "DEMAND NOTE                                          2\n",
       "SAWED OFF RIFLE/SHOTGUN                              2\n",
       "ICE PICK                                             2\n",
       "CAUSTIC CHEMICAL/POISON                              1\n",
       "BOMB THREAT                                          1\n",
       "BOWIE KNIFE                                          1\n",
       "STARTER PISTOL/REVOLVER                              1\n",
       "RAZOR BLADE                                          1\n",
       "HECKLER & KOCH 93 SEMIAUTOMATIC ASSAULT RIFLE        1\n",
       "ASSAULT WEAPON/UZI/AK47/ETC                          1\n",
       "CLEAVER                                              1\n",
       "Name: count, dtype: int64"
      ]
     },
     "execution_count": 15,
     "metadata": {},
     "output_type": "execute_result"
    }
   ],
   "source": [
    "td.Weapon_Description.value_counts()\n",
    "#Most used weapon is STRONG-ARM (HANDS, FIST, FEET OR BODILY FORCE)"
   ]
  },
  {
   "cell_type": "code",
   "execution_count": 16,
   "id": "c9a34693",
   "metadata": {
    "execution": {
     "iopub.execute_input": "2024-08-02T11:40:28.695660Z",
     "iopub.status.busy": "2024-08-02T11:40:28.694925Z",
     "iopub.status.idle": "2024-08-02T11:40:29.179338Z",
     "shell.execute_reply": "2024-08-02T11:40:29.178248Z"
    },
    "papermill": {
     "duration": 0.511734,
     "end_time": "2024-08-02T11:40:29.181771",
     "exception": false,
     "start_time": "2024-08-02T11:40:28.670037",
     "status": "completed"
    },
    "tags": []
   },
   "outputs": [
    {
     "data": {
      "text/plain": [
       "Text(0.5, 1.0, 'Heat map showing frequency of different status descriptions for each crime category')"
      ]
     },
     "execution_count": 16,
     "metadata": {},
     "output_type": "execute_result"
    },
    {
     "data": {
      "image/png": "[encoded data removed]",
      "text/plain": [
       "<Figure size 640x480 with 2 Axes>"
      ]
     },
     "metadata": {},
     "output_type": "display_data"
    }
   ],
   "source": [
    "cross_tab1 = pd.crosstab(td['Crime_Category'], td['Status_Description'])\n",
    "sns.heatmap(cross_tab1,annot=True, cmap='Reds')\n",
    "plt.title(\"Heat map showing frequency of different status descriptions for each crime category\")"
   ]
  },
  {
   "cell_type": "code",
   "execution_count": 17,
   "id": "f7dd7925",
   "metadata": {
    "execution": {
     "iopub.execute_input": "2024-08-02T11:40:29.223770Z",
     "iopub.status.busy": "2024-08-02T11:40:29.222761Z",
     "iopub.status.idle": "2024-08-02T11:40:29.761045Z",
     "shell.execute_reply": "2024-08-02T11:40:29.759902Z"
    },
    "papermill": {
     "duration": 0.561596,
     "end_time": "2024-08-02T11:40:29.763365",
     "exception": false,
     "start_time": "2024-08-02T11:40:29.201769",
     "status": "completed"
    },
    "tags": []
   },
   "outputs": [
    {
     "data": {
      "text/plain": [
       "Text(0.5, 1.0, 'Heat map showing frequency of crimes in different Area for each crime category')"
      ]
     },
     "execution_count": 17,
     "metadata": {},
     "output_type": "execute_result"
    },
    {
     "data": {
      "image/png": "[encoded data removed]",
      "text/plain": [
       "<Figure size 640x480 with 2 Axes>"
      ]
     },
     "metadata": {},
     "output_type": "display_data"
    }
   ],
   "source": [
    "cross_tab2 = pd.crosstab(td['Crime_Category'], td['Area_Name'])\n",
    "sns.heatmap(cross_tab2, cmap='Blues')\n",
    "plt.title(\"Heat map showing frequency of crimes in different Area for each crime category\")"
   ]
  },
  {
   "cell_type": "code",
   "execution_count": 18,
   "id": "917a9009",
   "metadata": {
    "execution": {
     "iopub.execute_input": "2024-08-02T11:40:29.866047Z",
     "iopub.status.busy": "2024-08-02T11:40:29.865625Z",
     "iopub.status.idle": "2024-08-02T11:40:29.873989Z",
     "shell.execute_reply": "2024-08-02T11:40:29.872926Z"
    },
    "papermill": {
     "duration": 0.034828,
     "end_time": "2024-08-02T11:40:29.876187",
     "exception": false,
     "start_time": "2024-08-02T11:40:29.841359",
     "status": "completed"
    },
    "tags": []
   },
   "outputs": [],
   "source": [
    "timeseries=td.groupby(td['Date_Occurred'])['Date_Occurred'].value_counts()\n"
   ]
  },
  {
   "cell_type": "code",
   "execution_count": 19,
   "id": "75cae7c8",
   "metadata": {
    "execution": {
     "iopub.execute_input": "2024-08-02T11:40:29.923088Z",
     "iopub.status.busy": "2024-08-02T11:40:29.922678Z",
     "iopub.status.idle": "2024-08-02T11:40:29.932074Z",
     "shell.execute_reply": "2024-08-02T11:40:29.930620Z"
    },
    "papermill": {
     "duration": 0.035808,
     "end_time": "2024-08-02T11:40:29.934561",
     "exception": false,
     "start_time": "2024-08-02T11:40:29.898753",
     "status": "completed"
    },
    "tags": []
   },
   "outputs": [
    {
     "data": {
      "text/plain": [
       "Date_Occurred\n",
       "2020-01-01    137\n",
       "2020-01-02     43\n",
       "2020-01-03     57\n",
       "2020-01-04     53\n",
       "2020-01-05     59\n",
       "             ... \n",
       "2020-12-27     48\n",
       "2020-12-28     55\n",
       "2020-12-29     45\n",
       "2020-12-30     47\n",
       "2020-12-31     67\n",
       "Name: count, Length: 366, dtype: int64"
      ]
     },
     "execution_count": 19,
     "metadata": {},
     "output_type": "execute_result"
    }
   ],
   "source": [
    "timeseries"
   ]
  },
  {
   "cell_type": "code",
   "execution_count": 20,
   "id": "838ee6a1",
   "metadata": {
    "execution": {
     "iopub.execute_input": "2024-08-02T11:40:29.980248Z",
     "iopub.status.busy": "2024-08-02T11:40:29.979291Z",
     "iopub.status.idle": "2024-08-02T11:40:30.372982Z",
     "shell.execute_reply": "2024-08-02T11:40:30.371846Z"
    },
    "papermill": {
     "duration": 0.420422,
     "end_time": "2024-08-02T11:40:30.376708",
     "exception": false,
     "start_time": "2024-08-02T11:40:29.956286",
     "status": "completed"
    },
    "tags": []
   },
   "outputs": [
    {
     "name": "stderr",
     "output_type": "stream",
     "text": [
      "/opt/conda/lib/python3.10/site-packages/seaborn/_oldcore.py:1119: FutureWarning: use_inf_as_na option is deprecated and will be removed in a future version. Convert inf values to NaN before operating instead.\n",
      "  with pd.option_context('mode.use_inf_as_na', True):\n",
      "/opt/conda/lib/python3.10/site-packages/seaborn/_oldcore.py:1119: FutureWarning: use_inf_as_na option is deprecated and will be removed in a future version. Convert inf values to NaN before operating instead.\n",
      "  with pd.option_context('mode.use_inf_as_na', True):\n"
     ]
    },
    {
     "data": {
      "image/png": "[encoded data removed]",
      "text/plain": [
       "<Figure size 1700x1000 with 1 Axes>"
      ]
     },
     "metadata": {},
     "output_type": "display_data"
    }
   ],
   "source": [
    "plt.figure(figsize=(17,10))\n",
    "sns.lineplot(data=timeseries)\n",
    "plt.title(\"Time series graph showing Count of Crime on different Dates\")\n",
    "plt.show()"
   ]
  },
  {
   "cell_type": "code",
   "execution_count": 21,
   "id": "0d66d44c",
   "metadata": {
    "execution": {
     "iopub.execute_input": "2024-08-02T11:40:30.426224Z",
     "iopub.status.busy": "2024-08-02T11:40:30.425846Z",
     "iopub.status.idle": "2024-08-02T11:40:30.436968Z",
     "shell.execute_reply": "2024-08-02T11:40:30.435907Z"
    },
    "papermill": {
     "duration": 0.038816,
     "end_time": "2024-08-02T11:40:30.439364",
     "exception": false,
     "start_time": "2024-08-02T11:40:30.400548",
     "status": "completed"
    },
    "tags": []
   },
   "outputs": [
    {
     "data": {
      "text/plain": [
       "Month_Occurred\n",
       "January      1835\n",
       "May          1755\n",
       "June         1697\n",
       "October      1685\n",
       "July         1670\n",
       "February     1663\n",
       "August       1662\n",
       "September    1643\n",
       "December     1638\n",
       "March        1630\n",
       "April        1569\n",
       "November     1553\n",
       "Name: count, dtype: int64"
      ]
     },
     "execution_count": 21,
     "metadata": {},
     "output_type": "execute_result"
    }
   ],
   "source": [
    "td.Month_Occurred.value_counts()"
   ]
  },
  {
   "cell_type": "code",
   "execution_count": 22,
   "id": "75233da1",
   "metadata": {
    "execution": {
     "iopub.execute_input": "2024-08-02T11:40:30.490006Z",
     "iopub.status.busy": "2024-08-02T11:40:30.489184Z",
     "iopub.status.idle": "2024-08-02T11:40:30.753862Z",
     "shell.execute_reply": "2024-08-02T11:40:30.752555Z"
    },
    "papermill": {
     "duration": 0.29256,
     "end_time": "2024-08-02T11:40:30.756323",
     "exception": false,
     "start_time": "2024-08-02T11:40:30.463763",
     "status": "completed"
    },
    "tags": []
   },
   "outputs": [
    {
     "data": {
      "image/png": "[encoded data removed]",
      "text/plain": [
       "<Figure size 1000x500 with 1 Axes>"
      ]
     },
     "metadata": {},
     "output_type": "display_data"
    }
   ],
   "source": [
    "plt.figure(figsize=(10,5))\n",
    "sns.countplot(data=td, x='Month_Occurred',order=td['Month_Occurred'].value_counts().index)\n",
    "plt.title(\"Count of Crime in different Months\")\n",
    "plt.show()"
   ]
  },
  {
   "cell_type": "markdown",
   "id": "cbeb879c",
   "metadata": {
    "papermill": {
     "duration": 0.024454,
     "end_time": "2024-08-02T11:40:30.805718",
     "exception": false,
     "start_time": "2024-08-02T11:40:30.781264",
     "status": "completed"
    },
    "tags": []
   },
   "source": [
    "# **Data Preprocessing**"
   ]
  },
  {
   "cell_type": "code",
   "execution_count": 23,
   "id": "5a816249",
   "metadata": {
    "execution": {
     "iopub.execute_input": "2024-08-02T11:40:30.857667Z",
     "iopub.status.busy": "2024-08-02T11:40:30.857221Z",
     "iopub.status.idle": "2024-08-02T11:40:30.913989Z",
     "shell.execute_reply": "2024-08-02T11:40:30.912896Z"
    },
    "papermill": {
     "duration": 0.085493,
     "end_time": "2024-08-02T11:40:30.916516",
     "exception": false,
     "start_time": "2024-08-02T11:40:30.831023",
     "status": "completed"
    },
    "tags": []
   },
   "outputs": [
    {
     "data": {
      "text/html": [
       "<div>\n",
       "<style scoped>\n",
       "    .dataframe tbody tr th:only-of-type {\n",
       "        vertical-align: middle;\n",
       "    }\n",
       "\n",
       "    .dataframe tbody tr th {\n",
       "        vertical-align: top;\n",
       "    }\n",
       "\n",
       "    .dataframe thead th {\n",
       "        text-align: right;\n",
       "    }\n",
       "</style>\n",
       "<table border=\"1\" class=\"dataframe\">\n",
       "  <thead>\n",
       "    <tr style=\"text-align: right;\">\n",
       "      <th></th>\n",
       "      <th>Location</th>\n",
       "      <th>Cross_Street</th>\n",
       "      <th>Latitude</th>\n",
       "      <th>Longitude</th>\n",
       "      <th>Date_Reported</th>\n",
       "      <th>Date_Occurred</th>\n",
       "      <th>Time_Occurred</th>\n",
       "      <th>Area_ID</th>\n",
       "      <th>Area_Name</th>\n",
       "      <th>Reporting_District_no</th>\n",
       "      <th>...</th>\n",
       "      <th>Victim_Sex</th>\n",
       "      <th>Victim_Descent</th>\n",
       "      <th>Premise_Code</th>\n",
       "      <th>Premise_Description</th>\n",
       "      <th>Weapon_Used_Code</th>\n",
       "      <th>Weapon_Description</th>\n",
       "      <th>Status</th>\n",
       "      <th>Status_Description</th>\n",
       "      <th>Crime_Category</th>\n",
       "      <th>Month_Occurred</th>\n",
       "    </tr>\n",
       "  </thead>\n",
       "  <tbody>\n",
       "    <tr>\n",
       "      <th>0</th>\n",
       "      <td>4500    CARPENTER                    AV</td>\n",
       "      <td>NaN</td>\n",
       "      <td>34.1522</td>\n",
       "      <td>-118.3910</td>\n",
       "      <td>2020-03-09</td>\n",
       "      <td>2020-03-06</td>\n",
       "      <td>1800.0</td>\n",
       "      <td>15.0</td>\n",
       "      <td>N Hollywood</td>\n",
       "      <td>1563.0</td>\n",
       "      <td>...</td>\n",
       "      <td>M</td>\n",
       "      <td>W</td>\n",
       "      <td>101.0</td>\n",
       "      <td>STREET</td>\n",
       "      <td>NaN</td>\n",
       "      <td>NaN</td>\n",
       "      <td>IC</td>\n",
       "      <td>Invest Cont</td>\n",
       "      <td>Property Crimes</td>\n",
       "      <td>March</td>\n",
       "    </tr>\n",
       "    <tr>\n",
       "      <th>1</th>\n",
       "      <td>45TH                         ST</td>\n",
       "      <td>ALAMEDA                      ST</td>\n",
       "      <td>34.0028</td>\n",
       "      <td>-118.2391</td>\n",
       "      <td>2020-02-27</td>\n",
       "      <td>2020-02-27</td>\n",
       "      <td>1345.0</td>\n",
       "      <td>13.0</td>\n",
       "      <td>Newton</td>\n",
       "      <td>1367.0</td>\n",
       "      <td>...</td>\n",
       "      <td>M</td>\n",
       "      <td>H</td>\n",
       "      <td>216.0</td>\n",
       "      <td>SWAP MEET</td>\n",
       "      <td>400.0</td>\n",
       "      <td>STRONG-ARM (HANDS, FIST, FEET OR BODILY FORCE)</td>\n",
       "      <td>IC</td>\n",
       "      <td>Invest Cont</td>\n",
       "      <td>Property Crimes</td>\n",
       "      <td>February</td>\n",
       "    </tr>\n",
       "    <tr>\n",
       "      <th>2</th>\n",
       "      <td>600 E  MARTIN LUTHER KING JR        BL</td>\n",
       "      <td>NaN</td>\n",
       "      <td>34.0111</td>\n",
       "      <td>-118.2653</td>\n",
       "      <td>2020-08-21</td>\n",
       "      <td>2020-08-21</td>\n",
       "      <td>605.0</td>\n",
       "      <td>13.0</td>\n",
       "      <td>Newton</td>\n",
       "      <td>1343.0</td>\n",
       "      <td>...</td>\n",
       "      <td>M</td>\n",
       "      <td>B</td>\n",
       "      <td>501.0</td>\n",
       "      <td>SINGLE FAMILY DWELLING</td>\n",
       "      <td>NaN</td>\n",
       "      <td>NaN</td>\n",
       "      <td>IC</td>\n",
       "      <td>Invest Cont</td>\n",
       "      <td>Property Crimes</td>\n",
       "      <td>August</td>\n",
       "    </tr>\n",
       "    <tr>\n",
       "      <th>3</th>\n",
       "      <td>14900    ORO GRANDE                   ST</td>\n",
       "      <td>NaN</td>\n",
       "      <td>34.2953</td>\n",
       "      <td>-118.4590</td>\n",
       "      <td>2020-11-08</td>\n",
       "      <td>2020-11-06</td>\n",
       "      <td>1800.0</td>\n",
       "      <td>19.0</td>\n",
       "      <td>Mission</td>\n",
       "      <td>1924.0</td>\n",
       "      <td>...</td>\n",
       "      <td>M</td>\n",
       "      <td>H</td>\n",
       "      <td>101.0</td>\n",
       "      <td>STREET</td>\n",
       "      <td>NaN</td>\n",
       "      <td>NaN</td>\n",
       "      <td>IC</td>\n",
       "      <td>Invest Cont</td>\n",
       "      <td>Property Crimes</td>\n",
       "      <td>November</td>\n",
       "    </tr>\n",
       "    <tr>\n",
       "      <th>4</th>\n",
       "      <td>7100 S  VERMONT                      AV</td>\n",
       "      <td>NaN</td>\n",
       "      <td>33.9787</td>\n",
       "      <td>-118.2918</td>\n",
       "      <td>2020-02-25</td>\n",
       "      <td>2020-02-25</td>\n",
       "      <td>1130.0</td>\n",
       "      <td>12.0</td>\n",
       "      <td>77th Street</td>\n",
       "      <td>1245.0</td>\n",
       "      <td>...</td>\n",
       "      <td>X</td>\n",
       "      <td>X</td>\n",
       "      <td>401.0</td>\n",
       "      <td>MINI-MART</td>\n",
       "      <td>400.0</td>\n",
       "      <td>STRONG-ARM (HANDS, FIST, FEET OR BODILY FORCE)</td>\n",
       "      <td>IC</td>\n",
       "      <td>Invest Cont</td>\n",
       "      <td>Property Crimes</td>\n",
       "      <td>February</td>\n",
       "    </tr>\n",
       "    <tr>\n",
       "      <th>...</th>\n",
       "      <td>...</td>\n",
       "      <td>...</td>\n",
       "      <td>...</td>\n",
       "      <td>...</td>\n",
       "      <td>...</td>\n",
       "      <td>...</td>\n",
       "      <td>...</td>\n",
       "      <td>...</td>\n",
       "      <td>...</td>\n",
       "      <td>...</td>\n",
       "      <td>...</td>\n",
       "      <td>...</td>\n",
       "      <td>...</td>\n",
       "      <td>...</td>\n",
       "      <td>...</td>\n",
       "      <td>...</td>\n",
       "      <td>...</td>\n",
       "      <td>...</td>\n",
       "      <td>...</td>\n",
       "      <td>...</td>\n",
       "      <td>...</td>\n",
       "    </tr>\n",
       "    <tr>\n",
       "      <th>19995</th>\n",
       "      <td>5100 W  ADAMS                        BL</td>\n",
       "      <td>NaN</td>\n",
       "      <td>34.0334</td>\n",
       "      <td>-118.3523</td>\n",
       "      <td>2020-05-24</td>\n",
       "      <td>2020-05-24</td>\n",
       "      <td>700.0</td>\n",
       "      <td>3.0</td>\n",
       "      <td>Southwest</td>\n",
       "      <td>303.0</td>\n",
       "      <td>...</td>\n",
       "      <td>M</td>\n",
       "      <td>H</td>\n",
       "      <td>501.0</td>\n",
       "      <td>SINGLE FAMILY DWELLING</td>\n",
       "      <td>400.0</td>\n",
       "      <td>STRONG-ARM (HANDS, FIST, FEET OR BODILY FORCE)</td>\n",
       "      <td>IC</td>\n",
       "      <td>Invest Cont</td>\n",
       "      <td>Violent Crimes</td>\n",
       "      <td>May</td>\n",
       "    </tr>\n",
       "    <tr>\n",
       "      <th>19996</th>\n",
       "      <td>16900    ROSCOE                       BL</td>\n",
       "      <td>NaN</td>\n",
       "      <td>34.2212</td>\n",
       "      <td>-118.5011</td>\n",
       "      <td>2020-12-25</td>\n",
       "      <td>2020-12-25</td>\n",
       "      <td>259.0</td>\n",
       "      <td>10.0</td>\n",
       "      <td>West Valley</td>\n",
       "      <td>1008.0</td>\n",
       "      <td>...</td>\n",
       "      <td>M</td>\n",
       "      <td>W</td>\n",
       "      <td>301.0</td>\n",
       "      <td>GAS STATION</td>\n",
       "      <td>NaN</td>\n",
       "      <td>NaN</td>\n",
       "      <td>IC</td>\n",
       "      <td>Invest Cont</td>\n",
       "      <td>Property Crimes</td>\n",
       "      <td>December</td>\n",
       "    </tr>\n",
       "    <tr>\n",
       "      <th>19997</th>\n",
       "      <td>1000 S  SHENANDOAH                   ST</td>\n",
       "      <td>NaN</td>\n",
       "      <td>34.0571</td>\n",
       "      <td>-118.3815</td>\n",
       "      <td>2020-09-25</td>\n",
       "      <td>2020-09-25</td>\n",
       "      <td>1400.0</td>\n",
       "      <td>8.0</td>\n",
       "      <td>West LA</td>\n",
       "      <td>849.0</td>\n",
       "      <td>...</td>\n",
       "      <td>M</td>\n",
       "      <td>H</td>\n",
       "      <td>102.0</td>\n",
       "      <td>SIDEWALK</td>\n",
       "      <td>NaN</td>\n",
       "      <td>NaN</td>\n",
       "      <td>IC</td>\n",
       "      <td>Invest Cont</td>\n",
       "      <td>Property Crimes</td>\n",
       "      <td>September</td>\n",
       "    </tr>\n",
       "    <tr>\n",
       "      <th>19998</th>\n",
       "      <td>300 W  SEPULVEDA                    ST</td>\n",
       "      <td>NaN</td>\n",
       "      <td>33.7451</td>\n",
       "      <td>-118.2835</td>\n",
       "      <td>2020-06-10</td>\n",
       "      <td>2020-06-10</td>\n",
       "      <td>600.0</td>\n",
       "      <td>5.0</td>\n",
       "      <td>Harbor</td>\n",
       "      <td>558.0</td>\n",
       "      <td>...</td>\n",
       "      <td>F</td>\n",
       "      <td>H</td>\n",
       "      <td>501.0</td>\n",
       "      <td>SINGLE FAMILY DWELLING</td>\n",
       "      <td>NaN</td>\n",
       "      <td>NaN</td>\n",
       "      <td>IC</td>\n",
       "      <td>Invest Cont</td>\n",
       "      <td>Crimes against Public Order</td>\n",
       "      <td>June</td>\n",
       "    </tr>\n",
       "    <tr>\n",
       "      <th>19999</th>\n",
       "      <td>DALTON                       AV</td>\n",
       "      <td>VERNON                       AV</td>\n",
       "      <td>34.0037</td>\n",
       "      <td>-118.3034</td>\n",
       "      <td>2020-02-18</td>\n",
       "      <td>2020-02-17</td>\n",
       "      <td>1800.0</td>\n",
       "      <td>3.0</td>\n",
       "      <td>Southwest</td>\n",
       "      <td>397.0</td>\n",
       "      <td>...</td>\n",
       "      <td>NaN</td>\n",
       "      <td>NaN</td>\n",
       "      <td>101.0</td>\n",
       "      <td>STREET</td>\n",
       "      <td>NaN</td>\n",
       "      <td>NaN</td>\n",
       "      <td>IC</td>\n",
       "      <td>Invest Cont</td>\n",
       "      <td>Property Crimes</td>\n",
       "      <td>February</td>\n",
       "    </tr>\n",
       "  </tbody>\n",
       "</table>\n",
       "<p>20000 rows × 23 columns</p>\n",
       "</div>"
      ],
      "text/plain": [
       "                                       Location  \\\n",
       "0       4500    CARPENTER                    AV   \n",
       "1               45TH                         ST   \n",
       "2        600 E  MARTIN LUTHER KING JR        BL   \n",
       "3      14900    ORO GRANDE                   ST   \n",
       "4       7100 S  VERMONT                      AV   \n",
       "...                                         ...   \n",
       "19995   5100 W  ADAMS                        BL   \n",
       "19996  16900    ROSCOE                       BL   \n",
       "19997   1000 S  SHENANDOAH                   ST   \n",
       "19998    300 W  SEPULVEDA                    ST   \n",
       "19999           DALTON                       AV   \n",
       "\n",
       "                          Cross_Street  Latitude  Longitude Date_Reported  \\\n",
       "0                                  NaN   34.1522  -118.3910    2020-03-09   \n",
       "1      ALAMEDA                      ST   34.0028  -118.2391    2020-02-27   \n",
       "2                                  NaN   34.0111  -118.2653    2020-08-21   \n",
       "3                                  NaN   34.2953  -118.4590    2020-11-08   \n",
       "4                                  NaN   33.9787  -118.2918    2020-02-25   \n",
       "...                                ...       ...        ...           ...   \n",
       "19995                              NaN   34.0334  -118.3523    2020-05-24   \n",
       "19996                              NaN   34.2212  -118.5011    2020-12-25   \n",
       "19997                              NaN   34.0571  -118.3815    2020-09-25   \n",
       "19998                              NaN   33.7451  -118.2835    2020-06-10   \n",
       "19999  VERNON                       AV   34.0037  -118.3034    2020-02-18   \n",
       "\n",
       "      Date_Occurred  Time_Occurred  Area_ID    Area_Name  \\\n",
       "0        2020-03-06         1800.0     15.0  N Hollywood   \n",
       "1        2020-02-27         1345.0     13.0       Newton   \n",
       "2        2020-08-21          605.0     13.0       Newton   \n",
       "3        2020-11-06         1800.0     19.0      Mission   \n",
       "4        2020-02-25         1130.0     12.0  77th Street   \n",
       "...             ...            ...      ...          ...   \n",
       "19995    2020-05-24          700.0      3.0    Southwest   \n",
       "19996    2020-12-25          259.0     10.0  West Valley   \n",
       "19997    2020-09-25         1400.0      8.0      West LA   \n",
       "19998    2020-06-10          600.0      5.0       Harbor   \n",
       "19999    2020-02-17         1800.0      3.0    Southwest   \n",
       "\n",
       "       Reporting_District_no  ...  Victim_Sex Victim_Descent  Premise_Code  \\\n",
       "0                     1563.0  ...           M              W         101.0   \n",
       "1                     1367.0  ...           M              H         216.0   \n",
       "2                     1343.0  ...           M              B         501.0   \n",
       "3                     1924.0  ...           M              H         101.0   \n",
       "4                     1245.0  ...           X              X         401.0   \n",
       "...                      ...  ...         ...            ...           ...   \n",
       "19995                  303.0  ...           M              H         501.0   \n",
       "19996                 1008.0  ...           M              W         301.0   \n",
       "19997                  849.0  ...           M              H         102.0   \n",
       "19998                  558.0  ...           F              H         501.0   \n",
       "19999                  397.0  ...         NaN            NaN         101.0   \n",
       "\n",
       "          Premise_Description Weapon_Used_Code  \\\n",
       "0                      STREET              NaN   \n",
       "1                   SWAP MEET            400.0   \n",
       "2      SINGLE FAMILY DWELLING              NaN   \n",
       "3                      STREET              NaN   \n",
       "4                   MINI-MART            400.0   \n",
       "...                       ...              ...   \n",
       "19995  SINGLE FAMILY DWELLING            400.0   \n",
       "19996             GAS STATION              NaN   \n",
       "19997                SIDEWALK              NaN   \n",
       "19998  SINGLE FAMILY DWELLING              NaN   \n",
       "19999                  STREET              NaN   \n",
       "\n",
       "                                   Weapon_Description Status  \\\n",
       "0                                                 NaN     IC   \n",
       "1      STRONG-ARM (HANDS, FIST, FEET OR BODILY FORCE)     IC   \n",
       "2                                                 NaN     IC   \n",
       "3                                                 NaN     IC   \n",
       "4      STRONG-ARM (HANDS, FIST, FEET OR BODILY FORCE)     IC   \n",
       "...                                               ...    ...   \n",
       "19995  STRONG-ARM (HANDS, FIST, FEET OR BODILY FORCE)     IC   \n",
       "19996                                             NaN     IC   \n",
       "19997                                             NaN     IC   \n",
       "19998                                             NaN     IC   \n",
       "19999                                             NaN     IC   \n",
       "\n",
       "       Status_Description               Crime_Category Month_Occurred  \n",
       "0             Invest Cont              Property Crimes          March  \n",
       "1             Invest Cont              Property Crimes       February  \n",
       "2             Invest Cont              Property Crimes         August  \n",
       "3             Invest Cont              Property Crimes       November  \n",
       "4             Invest Cont              Property Crimes       February  \n",
       "...                   ...                          ...            ...  \n",
       "19995         Invest Cont               Violent Crimes            May  \n",
       "19996         Invest Cont              Property Crimes       December  \n",
       "19997         Invest Cont              Property Crimes      September  \n",
       "19998         Invest Cont  Crimes against Public Order           June  \n",
       "19999         Invest Cont              Property Crimes       February  \n",
       "\n",
       "[20000 rows x 23 columns]"
      ]
     },
     "execution_count": 23,
     "metadata": {},
     "output_type": "execute_result"
    }
   ],
   "source": [
    "training_data"
   ]
  },
  {
   "cell_type": "code",
   "execution_count": 24,
   "id": "df9bc14e",
   "metadata": {
    "execution": {
     "iopub.execute_input": "2024-08-02T11:40:30.968804Z",
     "iopub.status.busy": "2024-08-02T11:40:30.967846Z",
     "iopub.status.idle": "2024-08-02T11:40:30.989005Z",
     "shell.execute_reply": "2024-08-02T11:40:30.987858Z"
    },
    "papermill": {
     "duration": 0.049572,
     "end_time": "2024-08-02T11:40:30.991169",
     "exception": false,
     "start_time": "2024-08-02T11:40:30.941597",
     "status": "completed"
    },
    "tags": []
   },
   "outputs": [
    {
     "data": {
      "text/plain": [
       "Location                     0\n",
       "Cross_Street             16552\n",
       "Latitude                     0\n",
       "Longitude                    0\n",
       "Date_Reported                0\n",
       "Date_Occurred                0\n",
       "Time_Occurred                0\n",
       "Area_ID                      0\n",
       "Area_Name                    0\n",
       "Reporting_District_no        0\n",
       "Part 1-2                     0\n",
       "Modus_Operandi            2741\n",
       "Victim_Age                   0\n",
       "Victim_Sex                2624\n",
       "Victim_Descent            2624\n",
       "Premise_Code                 0\n",
       "Premise_Description          5\n",
       "Weapon_Used_Code         12665\n",
       "Weapon_Description       12665\n",
       "Status                       0\n",
       "Status_Description           0\n",
       "Crime_Category               0\n",
       "Month_Occurred               0\n",
       "dtype: int64"
      ]
     },
     "execution_count": 24,
     "metadata": {},
     "output_type": "execute_result"
    }
   ],
   "source": [
    "training_data.isna().sum()"
   ]
  },
  {
   "cell_type": "code",
   "execution_count": 25,
   "id": "5c376fab",
   "metadata": {
    "execution": {
     "iopub.execute_input": "2024-08-02T11:40:31.043696Z",
     "iopub.status.busy": "2024-08-02T11:40:31.043300Z",
     "iopub.status.idle": "2024-08-02T11:40:31.051746Z",
     "shell.execute_reply": "2024-08-02T11:40:31.050870Z"
    },
    "papermill": {
     "duration": 0.037456,
     "end_time": "2024-08-02T11:40:31.053978",
     "exception": false,
     "start_time": "2024-08-02T11:40:31.016522",
     "status": "completed"
    },
    "tags": []
   },
   "outputs": [],
   "source": [
    "training_data.drop(columns=['Cross_Street','Date_Reported'],inplace=True)\n",
    "#Dropping 'Cross_Street' column as it has maximum null values and 'Date_Reported'column as it has duplicate values of 'Date_Occurred'"
   ]
  },
  {
   "cell_type": "code",
   "execution_count": 26,
   "id": "faa73e39",
   "metadata": {
    "execution": {
     "iopub.execute_input": "2024-08-02T11:40:31.106043Z",
     "iopub.status.busy": "2024-08-02T11:40:31.105638Z",
     "iopub.status.idle": "2024-08-02T11:40:31.366012Z",
     "shell.execute_reply": "2024-08-02T11:40:31.365003Z"
    },
    "papermill": {
     "duration": 0.289418,
     "end_time": "2024-08-02T11:40:31.368549",
     "exception": false,
     "start_time": "2024-08-02T11:40:31.079131",
     "status": "completed"
    },
    "tags": []
   },
   "outputs": [],
   "source": [
    "from sklearn.model_selection import train_test_split\n"
   ]
  },
  {
   "cell_type": "code",
   "execution_count": 27,
   "id": "da267608",
   "metadata": {
    "execution": {
     "iopub.execute_input": "2024-08-02T11:40:31.421275Z",
     "iopub.status.busy": "2024-08-02T11:40:31.420881Z",
     "iopub.status.idle": "2024-08-02T11:40:31.431060Z",
     "shell.execute_reply": "2024-08-02T11:40:31.430212Z"
    },
    "papermill": {
     "duration": 0.039443,
     "end_time": "2024-08-02T11:40:31.433425",
     "exception": false,
     "start_time": "2024-08-02T11:40:31.393982",
     "status": "completed"
    },
    "tags": []
   },
   "outputs": [],
   "source": [
    "x = training_data.drop('Crime_Category', axis=1)\n",
    "y = training_data['Crime_Category']"
   ]
  },
  {
   "cell_type": "code",
   "execution_count": 28,
   "id": "caa3c452",
   "metadata": {
    "execution": {
     "iopub.execute_input": "2024-08-02T11:40:31.487014Z",
     "iopub.status.busy": "2024-08-02T11:40:31.486046Z",
     "iopub.status.idle": "2024-08-02T11:40:31.506854Z",
     "shell.execute_reply": "2024-08-02T11:40:31.505703Z"
    },
    "papermill": {
     "duration": 0.051378,
     "end_time": "2024-08-02T11:40:31.510947",
     "exception": false,
     "start_time": "2024-08-02T11:40:31.459569",
     "status": "completed"
    },
    "tags": []
   },
   "outputs": [],
   "source": [
    "x_train,x_val, y_train, y_val= train_test_split(x,y,random_state=42,test_size=0.1,shuffle=True)"
   ]
  },
  {
   "cell_type": "code",
   "execution_count": 29,
   "id": "e10d707c",
   "metadata": {
    "execution": {
     "iopub.execute_input": "2024-08-02T11:40:31.564531Z",
     "iopub.status.busy": "2024-08-02T11:40:31.564154Z",
     "iopub.status.idle": "2024-08-02T11:40:31.570031Z",
     "shell.execute_reply": "2024-08-02T11:40:31.568754Z"
    },
    "papermill": {
     "duration": 0.034718,
     "end_time": "2024-08-02T11:40:31.572229",
     "exception": false,
     "start_time": "2024-08-02T11:40:31.537511",
     "status": "completed"
    },
    "tags": []
   },
   "outputs": [],
   "source": [
    "numerical_columns = ['Latitude', 'Longitude', 'Time_Occurred', 'Area_ID',\n",
    "       'Reporting_District_no', 'Part 1-2', 'Victim_Age', 'Premise_Code',\n",
    "       'Weapon_Used_Code']\n",
    "\n",
    "categorical_columns = ['Location',\n",
    "       'Area_Name', 'Modus_Operandi', 'Victim_Sex', 'Victim_Descent',\n",
    "       'Premise_Description', 'Weapon_Description', 'Status',\n",
    "       'Status_Description', 'Month_Occurred','Date_Occurred']"
   ]
  },
  {
   "cell_type": "code",
   "execution_count": 30,
   "id": "e5b9a32c",
   "metadata": {
    "execution": {
     "iopub.execute_input": "2024-08-02T11:40:31.624274Z",
     "iopub.status.busy": "2024-08-02T11:40:31.623897Z",
     "iopub.status.idle": "2024-08-02T11:40:32.041641Z",
     "shell.execute_reply": "2024-08-02T11:40:32.040528Z"
    },
    "papermill": {
     "duration": 0.446947,
     "end_time": "2024-08-02T11:40:32.044273",
     "exception": false,
     "start_time": "2024-08-02T11:40:31.597326",
     "status": "completed"
    },
    "tags": []
   },
   "outputs": [],
   "source": [
    "from sklearn.pipeline import Pipeline\n",
    "from sklearn.compose import ColumnTransformer\n",
    "from sklearn.preprocessing import StandardScaler, OneHotEncoder, OrdinalEncoder\n",
    "from sklearn.impute import SimpleImputer\n",
    "from sklearn.svm import SVC\n",
    "from sklearn.ensemble import GradientBoostingClassifier\n",
    "from sklearn.ensemble import RandomForestClassifier\n",
    "from sklearn.linear_model import LogisticRegression\n",
    "from xgboost import XGBClassifier"
   ]
  },
  {
   "cell_type": "code",
   "execution_count": 31,
   "id": "1eb0a24f",
   "metadata": {
    "execution": {
     "iopub.execute_input": "2024-08-02T11:40:32.097697Z",
     "iopub.status.busy": "2024-08-02T11:40:32.097316Z",
     "iopub.status.idle": "2024-08-02T11:40:32.102927Z",
     "shell.execute_reply": "2024-08-02T11:40:32.101782Z"
    },
    "papermill": {
     "duration": 0.034836,
     "end_time": "2024-08-02T11:40:32.105125",
     "exception": false,
     "start_time": "2024-08-02T11:40:32.070289",
     "status": "completed"
    },
    "tags": []
   },
   "outputs": [],
   "source": [
    "numerical_pipe= Pipeline([('imputer', SimpleImputer(strategy='mean')),\n",
    "                         ('scaler', StandardScaler())])"
   ]
  },
  {
   "cell_type": "code",
   "execution_count": 32,
   "id": "14f5885f",
   "metadata": {
    "execution": {
     "iopub.execute_input": "2024-08-02T11:40:32.157691Z",
     "iopub.status.busy": "2024-08-02T11:40:32.157272Z",
     "iopub.status.idle": "2024-08-02T11:40:32.163242Z",
     "shell.execute_reply": "2024-08-02T11:40:32.161832Z"
    },
    "papermill": {
     "duration": 0.035248,
     "end_time": "2024-08-02T11:40:32.165852",
     "exception": false,
     "start_time": "2024-08-02T11:40:32.130604",
     "status": "completed"
    },
    "tags": []
   },
   "outputs": [],
   "source": [
    "categorical_pipe= Pipeline([('imputer', SimpleImputer(strategy='most_frequent')),\n",
    "                         ('Encoder', OneHotEncoder(handle_unknown='ignore'))])"
   ]
  },
  {
   "cell_type": "code",
   "execution_count": 33,
   "id": "6286ada9",
   "metadata": {
    "execution": {
     "iopub.execute_input": "2024-08-02T11:40:32.219459Z",
     "iopub.status.busy": "2024-08-02T11:40:32.219029Z",
     "iopub.status.idle": "2024-08-02T11:40:32.224553Z",
     "shell.execute_reply": "2024-08-02T11:40:32.223490Z"
    },
    "papermill": {
     "duration": 0.034934,
     "end_time": "2024-08-02T11:40:32.226825",
     "exception": false,
     "start_time": "2024-08-02T11:40:32.191891",
     "status": "completed"
    },
    "tags": []
   },
   "outputs": [],
   "source": [
    "ct=ColumnTransformer([('numeric', numerical_pipe, numerical_columns),\n",
    "                      ('categoric', categorical_pipe, categorical_columns)])"
   ]
  },
  {
   "cell_type": "code",
   "execution_count": 34,
   "id": "6d34264f",
   "metadata": {
    "execution": {
     "iopub.execute_input": "2024-08-02T11:40:32.279758Z",
     "iopub.status.busy": "2024-08-02T11:40:32.278721Z",
     "iopub.status.idle": "2024-08-02T11:40:32.308159Z",
     "shell.execute_reply": "2024-08-02T11:40:32.307134Z"
    },
    "papermill": {
     "duration": 0.058437,
     "end_time": "2024-08-02T11:40:32.310504",
     "exception": false,
     "start_time": "2024-08-02T11:40:32.252067",
     "status": "completed"
    },
    "tags": []
   },
   "outputs": [
    {
     "data": {
      "text/html": [
       "<div>\n",
       "<style scoped>\n",
       "    .dataframe tbody tr th:only-of-type {\n",
       "        vertical-align: middle;\n",
       "    }\n",
       "\n",
       "    .dataframe tbody tr th {\n",
       "        vertical-align: top;\n",
       "    }\n",
       "\n",
       "    .dataframe thead th {\n",
       "        text-align: right;\n",
       "    }\n",
       "</style>\n",
       "<table border=\"1\" class=\"dataframe\">\n",
       "  <thead>\n",
       "    <tr style=\"text-align: right;\">\n",
       "      <th></th>\n",
       "      <th>Location</th>\n",
       "      <th>Latitude</th>\n",
       "      <th>Longitude</th>\n",
       "      <th>Date_Occurred</th>\n",
       "      <th>Time_Occurred</th>\n",
       "      <th>Area_ID</th>\n",
       "      <th>Area_Name</th>\n",
       "      <th>Reporting_District_no</th>\n",
       "      <th>Part 1-2</th>\n",
       "      <th>Modus_Operandi</th>\n",
       "      <th>Victim_Age</th>\n",
       "      <th>Victim_Sex</th>\n",
       "      <th>Victim_Descent</th>\n",
       "      <th>Premise_Code</th>\n",
       "      <th>Premise_Description</th>\n",
       "      <th>Weapon_Used_Code</th>\n",
       "      <th>Weapon_Description</th>\n",
       "      <th>Status</th>\n",
       "      <th>Status_Description</th>\n",
       "      <th>Month_Occurred</th>\n",
       "    </tr>\n",
       "  </thead>\n",
       "  <tbody>\n",
       "    <tr>\n",
       "      <th>16270</th>\n",
       "      <td>1800    CRENSHAW                     BL</td>\n",
       "      <td>34.0429</td>\n",
       "      <td>-118.3329</td>\n",
       "      <td>2020-09-16</td>\n",
       "      <td>1800.0</td>\n",
       "      <td>7.0</td>\n",
       "      <td>Wilshire</td>\n",
       "      <td>777.0</td>\n",
       "      <td>2.0</td>\n",
       "      <td>0342</td>\n",
       "      <td>39.0</td>\n",
       "      <td>M</td>\n",
       "      <td>A</td>\n",
       "      <td>121.0</td>\n",
       "      <td>YARD (RESIDENTIAL/BUSINESS)</td>\n",
       "      <td>NaN</td>\n",
       "      <td>NaN</td>\n",
       "      <td>IC</td>\n",
       "      <td>Invest Cont</td>\n",
       "      <td>September</td>\n",
       "    </tr>\n",
       "    <tr>\n",
       "      <th>1383</th>\n",
       "      <td>21200    OXNARD                       ST</td>\n",
       "      <td>34.1837</td>\n",
       "      <td>-118.5846</td>\n",
       "      <td>2020-12-22</td>\n",
       "      <td>1200.0</td>\n",
       "      <td>21.0</td>\n",
       "      <td>Topanga</td>\n",
       "      <td>2158.0</td>\n",
       "      <td>1.0</td>\n",
       "      <td>0394</td>\n",
       "      <td>27.0</td>\n",
       "      <td>M</td>\n",
       "      <td>W</td>\n",
       "      <td>502.0</td>\n",
       "      <td>MULTI-UNIT DWELLING (APARTMENT, DUPLEX, ETC)</td>\n",
       "      <td>NaN</td>\n",
       "      <td>NaN</td>\n",
       "      <td>IC</td>\n",
       "      <td>Invest Cont</td>\n",
       "      <td>December</td>\n",
       "    </tr>\n",
       "    <tr>\n",
       "      <th>3472</th>\n",
       "      <td>800    SANTEE                       ST</td>\n",
       "      <td>34.0401</td>\n",
       "      <td>-118.2533</td>\n",
       "      <td>2020-07-02</td>\n",
       "      <td>2130.0</td>\n",
       "      <td>1.0</td>\n",
       "      <td>Central</td>\n",
       "      <td>176.0</td>\n",
       "      <td>1.0</td>\n",
       "      <td>1606 0344 0321 1822</td>\n",
       "      <td>33.0</td>\n",
       "      <td>M</td>\n",
       "      <td>B</td>\n",
       "      <td>108.0</td>\n",
       "      <td>PARKING LOT</td>\n",
       "      <td>NaN</td>\n",
       "      <td>NaN</td>\n",
       "      <td>IC</td>\n",
       "      <td>Invest Cont</td>\n",
       "      <td>July</td>\n",
       "    </tr>\n",
       "    <tr>\n",
       "      <th>19900</th>\n",
       "      <td>4000 S  MCCLUNG                      DR</td>\n",
       "      <td>34.0164</td>\n",
       "      <td>-118.3312</td>\n",
       "      <td>2020-04-24</td>\n",
       "      <td>700.0</td>\n",
       "      <td>3.0</td>\n",
       "      <td>Southwest</td>\n",
       "      <td>373.0</td>\n",
       "      <td>1.0</td>\n",
       "      <td>1606 0344 0354 1822 0202 1202 1300</td>\n",
       "      <td>60.0</td>\n",
       "      <td>F</td>\n",
       "      <td>B</td>\n",
       "      <td>501.0</td>\n",
       "      <td>SINGLE FAMILY DWELLING</td>\n",
       "      <td>NaN</td>\n",
       "      <td>NaN</td>\n",
       "      <td>AA</td>\n",
       "      <td>Adult Arrest</td>\n",
       "      <td>April</td>\n",
       "    </tr>\n",
       "    <tr>\n",
       "      <th>2150</th>\n",
       "      <td>5000 S  SLAUSON                      AV</td>\n",
       "      <td>33.9954</td>\n",
       "      <td>-118.4097</td>\n",
       "      <td>2020-09-27</td>\n",
       "      <td>1515.0</td>\n",
       "      <td>14.0</td>\n",
       "      <td>Pacific</td>\n",
       "      <td>1458.0</td>\n",
       "      <td>2.0</td>\n",
       "      <td>2000 0913 1814 0416 0444</td>\n",
       "      <td>34.0</td>\n",
       "      <td>M</td>\n",
       "      <td>H</td>\n",
       "      <td>501.0</td>\n",
       "      <td>SINGLE FAMILY DWELLING</td>\n",
       "      <td>400.0</td>\n",
       "      <td>STRONG-ARM (HANDS, FIST, FEET OR BODILY FORCE)</td>\n",
       "      <td>AA</td>\n",
       "      <td>Adult Arrest</td>\n",
       "      <td>September</td>\n",
       "    </tr>\n",
       "    <tr>\n",
       "      <th>...</th>\n",
       "      <td>...</td>\n",
       "      <td>...</td>\n",
       "      <td>...</td>\n",
       "      <td>...</td>\n",
       "      <td>...</td>\n",
       "      <td>...</td>\n",
       "      <td>...</td>\n",
       "      <td>...</td>\n",
       "      <td>...</td>\n",
       "      <td>...</td>\n",
       "      <td>...</td>\n",
       "      <td>...</td>\n",
       "      <td>...</td>\n",
       "      <td>...</td>\n",
       "      <td>...</td>\n",
       "      <td>...</td>\n",
       "      <td>...</td>\n",
       "      <td>...</td>\n",
       "      <td>...</td>\n",
       "      <td>...</td>\n",
       "    </tr>\n",
       "    <tr>\n",
       "      <th>11284</th>\n",
       "      <td>400 S  MAIN                         ST</td>\n",
       "      <td>34.0478</td>\n",
       "      <td>-118.2484</td>\n",
       "      <td>2020-01-12</td>\n",
       "      <td>330.0</td>\n",
       "      <td>1.0</td>\n",
       "      <td>Central</td>\n",
       "      <td>144.0</td>\n",
       "      <td>1.0</td>\n",
       "      <td>0913 2000 1243 0444 0429</td>\n",
       "      <td>36.0</td>\n",
       "      <td>M</td>\n",
       "      <td>H</td>\n",
       "      <td>502.0</td>\n",
       "      <td>MULTI-UNIT DWELLING (APARTMENT, DUPLEX, ETC)</td>\n",
       "      <td>400.0</td>\n",
       "      <td>STRONG-ARM (HANDS, FIST, FEET OR BODILY FORCE)</td>\n",
       "      <td>AA</td>\n",
       "      <td>Adult Arrest</td>\n",
       "      <td>January</td>\n",
       "    </tr>\n",
       "    <tr>\n",
       "      <th>11964</th>\n",
       "      <td>100 S  AVENUE 64</td>\n",
       "      <td>34.1225</td>\n",
       "      <td>-118.1818</td>\n",
       "      <td>2020-09-04</td>\n",
       "      <td>1500.0</td>\n",
       "      <td>11.0</td>\n",
       "      <td>Northeast</td>\n",
       "      <td>1128.0</td>\n",
       "      <td>1.0</td>\n",
       "      <td>NaN</td>\n",
       "      <td>0.0</td>\n",
       "      <td>NaN</td>\n",
       "      <td>NaN</td>\n",
       "      <td>707.0</td>\n",
       "      <td>GARAGE/CARPORT</td>\n",
       "      <td>NaN</td>\n",
       "      <td>NaN</td>\n",
       "      <td>IC</td>\n",
       "      <td>Invest Cont</td>\n",
       "      <td>September</td>\n",
       "    </tr>\n",
       "    <tr>\n",
       "      <th>5390</th>\n",
       "      <td>500 N  LARCHMONT                    BL</td>\n",
       "      <td>34.0790</td>\n",
       "      <td>-118.3236</td>\n",
       "      <td>2020-12-14</td>\n",
       "      <td>1100.0</td>\n",
       "      <td>7.0</td>\n",
       "      <td>Wilshire</td>\n",
       "      <td>719.0</td>\n",
       "      <td>1.0</td>\n",
       "      <td>NaN</td>\n",
       "      <td>0.0</td>\n",
       "      <td>NaN</td>\n",
       "      <td>NaN</td>\n",
       "      <td>101.0</td>\n",
       "      <td>STREET</td>\n",
       "      <td>NaN</td>\n",
       "      <td>NaN</td>\n",
       "      <td>IC</td>\n",
       "      <td>Invest Cont</td>\n",
       "      <td>December</td>\n",
       "    </tr>\n",
       "    <tr>\n",
       "      <th>860</th>\n",
       "      <td>2100 W  84TH                         ST</td>\n",
       "      <td>33.9627</td>\n",
       "      <td>-118.3178</td>\n",
       "      <td>2020-08-02</td>\n",
       "      <td>1230.0</td>\n",
       "      <td>12.0</td>\n",
       "      <td>77th Street</td>\n",
       "      <td>1263.0</td>\n",
       "      <td>2.0</td>\n",
       "      <td>2000 0913 1813 1821 0416 0444</td>\n",
       "      <td>34.0</td>\n",
       "      <td>F</td>\n",
       "      <td>B</td>\n",
       "      <td>501.0</td>\n",
       "      <td>SINGLE FAMILY DWELLING</td>\n",
       "      <td>400.0</td>\n",
       "      <td>STRONG-ARM (HANDS, FIST, FEET OR BODILY FORCE)</td>\n",
       "      <td>IC</td>\n",
       "      <td>Invest Cont</td>\n",
       "      <td>August</td>\n",
       "    </tr>\n",
       "    <tr>\n",
       "      <th>15795</th>\n",
       "      <td>2700    MARENGO                      ST</td>\n",
       "      <td>34.0546</td>\n",
       "      <td>-118.1978</td>\n",
       "      <td>2020-02-28</td>\n",
       "      <td>1930.0</td>\n",
       "      <td>4.0</td>\n",
       "      <td>Hollenbeck</td>\n",
       "      <td>449.0</td>\n",
       "      <td>1.0</td>\n",
       "      <td>NaN</td>\n",
       "      <td>0.0</td>\n",
       "      <td>NaN</td>\n",
       "      <td>NaN</td>\n",
       "      <td>101.0</td>\n",
       "      <td>STREET</td>\n",
       "      <td>NaN</td>\n",
       "      <td>NaN</td>\n",
       "      <td>IC</td>\n",
       "      <td>Invest Cont</td>\n",
       "      <td>February</td>\n",
       "    </tr>\n",
       "  </tbody>\n",
       "</table>\n",
       "<p>18000 rows × 20 columns</p>\n",
       "</div>"
      ],
      "text/plain": [
       "                                       Location  Latitude  Longitude  \\\n",
       "16270   1800    CRENSHAW                     BL   34.0429  -118.3329   \n",
       "1383   21200    OXNARD                       ST   34.1837  -118.5846   \n",
       "3472     800    SANTEE                       ST   34.0401  -118.2533   \n",
       "19900   4000 S  MCCLUNG                      DR   34.0164  -118.3312   \n",
       "2150    5000 S  SLAUSON                      AV   33.9954  -118.4097   \n",
       "...                                         ...       ...        ...   \n",
       "11284    400 S  MAIN                         ST   34.0478  -118.2484   \n",
       "11964                          100 S  AVENUE 64   34.1225  -118.1818   \n",
       "5390     500 N  LARCHMONT                    BL   34.0790  -118.3236   \n",
       "860     2100 W  84TH                         ST   33.9627  -118.3178   \n",
       "15795   2700    MARENGO                      ST   34.0546  -118.1978   \n",
       "\n",
       "      Date_Occurred  Time_Occurred  Area_ID    Area_Name  \\\n",
       "16270    2020-09-16         1800.0      7.0     Wilshire   \n",
       "1383     2020-12-22         1200.0     21.0      Topanga   \n",
       "3472     2020-07-02         2130.0      1.0      Central   \n",
       "19900    2020-04-24          700.0      3.0    Southwest   \n",
       "2150     2020-09-27         1515.0     14.0      Pacific   \n",
       "...             ...            ...      ...          ...   \n",
       "11284    2020-01-12          330.0      1.0      Central   \n",
       "11964    2020-09-04         1500.0     11.0    Northeast   \n",
       "5390     2020-12-14         1100.0      7.0     Wilshire   \n",
       "860      2020-08-02         1230.0     12.0  77th Street   \n",
       "15795    2020-02-28         1930.0      4.0   Hollenbeck   \n",
       "\n",
       "       Reporting_District_no  Part 1-2                      Modus_Operandi  \\\n",
       "16270                  777.0       2.0                                0342   \n",
       "1383                  2158.0       1.0                                0394   \n",
       "3472                   176.0       1.0                 1606 0344 0321 1822   \n",
       "19900                  373.0       1.0  1606 0344 0354 1822 0202 1202 1300   \n",
       "2150                  1458.0       2.0            2000 0913 1814 0416 0444   \n",
       "...                      ...       ...                                 ...   \n",
       "11284                  144.0       1.0            0913 2000 1243 0444 0429   \n",
       "11964                 1128.0       1.0                                 NaN   \n",
       "5390                   719.0       1.0                                 NaN   \n",
       "860                   1263.0       2.0       2000 0913 1813 1821 0416 0444   \n",
       "15795                  449.0       1.0                                 NaN   \n",
       "\n",
       "       Victim_Age Victim_Sex Victim_Descent  Premise_Code  \\\n",
       "16270        39.0          M              A         121.0   \n",
       "1383         27.0          M              W         502.0   \n",
       "3472         33.0          M              B         108.0   \n",
       "19900        60.0          F              B         501.0   \n",
       "2150         34.0          M              H         501.0   \n",
       "...           ...        ...            ...           ...   \n",
       "11284        36.0          M              H         502.0   \n",
       "11964         0.0        NaN            NaN         707.0   \n",
       "5390          0.0        NaN            NaN         101.0   \n",
       "860          34.0          F              B         501.0   \n",
       "15795         0.0        NaN            NaN         101.0   \n",
       "\n",
       "                                Premise_Description  Weapon_Used_Code  \\\n",
       "16270                   YARD (RESIDENTIAL/BUSINESS)               NaN   \n",
       "1383   MULTI-UNIT DWELLING (APARTMENT, DUPLEX, ETC)               NaN   \n",
       "3472                                    PARKING LOT               NaN   \n",
       "19900                        SINGLE FAMILY DWELLING               NaN   \n",
       "2150                         SINGLE FAMILY DWELLING             400.0   \n",
       "...                                             ...               ...   \n",
       "11284  MULTI-UNIT DWELLING (APARTMENT, DUPLEX, ETC)             400.0   \n",
       "11964                                GARAGE/CARPORT               NaN   \n",
       "5390                                         STREET               NaN   \n",
       "860                          SINGLE FAMILY DWELLING             400.0   \n",
       "15795                                        STREET               NaN   \n",
       "\n",
       "                                   Weapon_Description Status  \\\n",
       "16270                                             NaN     IC   \n",
       "1383                                              NaN     IC   \n",
       "3472                                              NaN     IC   \n",
       "19900                                             NaN     AA   \n",
       "2150   STRONG-ARM (HANDS, FIST, FEET OR BODILY FORCE)     AA   \n",
       "...                                               ...    ...   \n",
       "11284  STRONG-ARM (HANDS, FIST, FEET OR BODILY FORCE)     AA   \n",
       "11964                                             NaN     IC   \n",
       "5390                                              NaN     IC   \n",
       "860    STRONG-ARM (HANDS, FIST, FEET OR BODILY FORCE)     IC   \n",
       "15795                                             NaN     IC   \n",
       "\n",
       "      Status_Description Month_Occurred  \n",
       "16270        Invest Cont      September  \n",
       "1383         Invest Cont       December  \n",
       "3472         Invest Cont           July  \n",
       "19900       Adult Arrest          April  \n",
       "2150        Adult Arrest      September  \n",
       "...                  ...            ...  \n",
       "11284       Adult Arrest        January  \n",
       "11964        Invest Cont      September  \n",
       "5390         Invest Cont       December  \n",
       "860          Invest Cont         August  \n",
       "15795        Invest Cont       February  \n",
       "\n",
       "[18000 rows x 20 columns]"
      ]
     },
     "execution_count": 34,
     "metadata": {},
     "output_type": "execute_result"
    }
   ],
   "source": [
    "x_train"
   ]
  },
  {
   "cell_type": "code",
   "execution_count": 35,
   "id": "d7e1eeb6",
   "metadata": {
    "execution": {
     "iopub.execute_input": "2024-08-02T11:40:32.365039Z",
     "iopub.status.busy": "2024-08-02T11:40:32.364328Z",
     "iopub.status.idle": "2024-08-02T11:40:32.369388Z",
     "shell.execute_reply": "2024-08-02T11:40:32.368347Z"
    },
    "papermill": {
     "duration": 0.035242,
     "end_time": "2024-08-02T11:40:32.372334",
     "exception": false,
     "start_time": "2024-08-02T11:40:32.337092",
     "status": "completed"
    },
    "tags": []
   },
   "outputs": [
    {
     "name": "stdout",
     "output_type": "stream",
     "text": [
      "['Latitude', 'Longitude', 'Time_Occurred', 'Area_ID', 'Reporting_District_no', 'Part 1-2', 'Victim_Age', 'Premise_Code', 'Weapon_Used_Code']\n",
      "['Location', 'Area_Name', 'Modus_Operandi', 'Victim_Sex', 'Victim_Descent', 'Premise_Description', 'Weapon_Description', 'Status', 'Status_Description', 'Month_Occurred', 'Date_Occurred']\n"
     ]
    }
   ],
   "source": [
    "print(numerical_columns)\n",
    "print(categorical_columns)"
   ]
  },
  {
   "cell_type": "markdown",
   "id": "0d330166",
   "metadata": {
    "papermill": {
     "duration": 0.02595,
     "end_time": "2024-08-02T11:40:32.424289",
     "exception": false,
     "start_time": "2024-08-02T11:40:32.398339",
     "status": "completed"
    },
    "tags": []
   },
   "source": [
    "# **Model 1(using Gradient Boosting Classifier) and Hyperparameter tuning**"
   ]
  },
  {
   "cell_type": "code",
   "execution_count": 36,
   "id": "4ed7d504",
   "metadata": {
    "execution": {
     "iopub.execute_input": "2024-08-02T11:40:32.478117Z",
     "iopub.status.busy": "2024-08-02T11:40:32.477715Z",
     "iopub.status.idle": "2024-08-02T11:40:32.482762Z",
     "shell.execute_reply": "2024-08-02T11:40:32.481760Z"
    },
    "papermill": {
     "duration": 0.034507,
     "end_time": "2024-08-02T11:40:32.484880",
     "exception": false,
     "start_time": "2024-08-02T11:40:32.450373",
     "status": "completed"
    },
    "tags": []
   },
   "outputs": [],
   "source": [
    "\n",
    "model1  = Pipeline([ ('Column_Transformer', ct),\n",
    "    ('classifier1',GradientBoostingClassifier(n_estimators=100))\n",
    "])\n"
   ]
  },
  {
   "cell_type": "code",
   "execution_count": 37,
   "id": "383ee4e6",
   "metadata": {
    "execution": {
     "iopub.execute_input": "2024-08-02T11:40:32.541098Z",
     "iopub.status.busy": "2024-08-02T11:40:32.540389Z",
     "iopub.status.idle": "2024-08-02T11:40:32.545592Z",
     "shell.execute_reply": "2024-08-02T11:40:32.544551Z"
    },
    "papermill": {
     "duration": 0.037184,
     "end_time": "2024-08-02T11:40:32.547858",
     "exception": false,
     "start_time": "2024-08-02T11:40:32.510674",
     "status": "completed"
    },
    "tags": []
   },
   "outputs": [],
   "source": [
    "param_grid1 = {\n",
    "    'classifier1__max_depth': [3,5,7],\n",
    "    'classifier1__learning_rate': [0.1, 0.2]\n",
    "}\n",
    "\n"
   ]
  },
  {
   "cell_type": "code",
   "execution_count": 38,
   "id": "d8342ae2",
   "metadata": {
    "execution": {
     "iopub.execute_input": "2024-08-02T11:40:32.601872Z",
     "iopub.status.busy": "2024-08-02T11:40:32.600854Z",
     "iopub.status.idle": "2024-08-02T11:40:32.606433Z",
     "shell.execute_reply": "2024-08-02T11:40:32.605313Z"
    },
    "papermill": {
     "duration": 0.035088,
     "end_time": "2024-08-02T11:40:32.608758",
     "exception": false,
     "start_time": "2024-08-02T11:40:32.573670",
     "status": "completed"
    },
    "tags": []
   },
   "outputs": [],
   "source": [
    "from sklearn.model_selection import GridSearchCV"
   ]
  },
  {
   "cell_type": "code",
   "execution_count": 39,
   "id": "e08c6f32",
   "metadata": {
    "execution": {
     "iopub.execute_input": "2024-08-02T11:40:32.663766Z",
     "iopub.status.busy": "2024-08-02T11:40:32.663349Z",
     "iopub.status.idle": "2024-08-02T11:47:37.298800Z",
     "shell.execute_reply": "2024-08-02T11:47:37.297305Z"
    },
    "papermill": {
     "duration": 424.693354,
     "end_time": "2024-08-02T11:47:37.328476",
     "exception": false,
     "start_time": "2024-08-02T11:40:32.635122",
     "status": "completed"
    },
    "tags": []
   },
   "outputs": [
    {
     "data": {
      "text/html": [
       "<style>#sk-container-id-1 {color: black;background-color: white;}#sk-container-id-1 pre{padding: 0;}#sk-container-id-1 div.sk-toggleable {background-color: white;}#sk-container-id-1 label.sk-toggleable__label {cursor: pointer;display: block;width: 100%;margin-bottom: 0;padding: 0.3em;box-sizing: border-box;text-align: center;}#sk-container-id-1 label.sk-toggleable__label-arrow:before {content: \"▸\";float: left;margin-right: 0.25em;color: #696969;}#sk-container-id-1 label.sk-toggleable__label-arrow:hover:before {color: black;}#sk-container-id-1 div.sk-estimator:hover label.sk-toggleable__label-arrow:before {color: black;}#sk-container-id-1 div.sk-toggleable__content {max-height: 0;max-width: 0;overflow: hidden;text-align: left;background-color: #f0f8ff;}#sk-container-id-1 div.sk-toggleable__content pre {margin: 0.2em;color: black;border-radius: 0.25em;background-color: #f0f8ff;}#sk-container-id-1 input.sk-toggleable__control:checked~div.sk-toggleable__content {max-height: 200px;max-width: 100%;overflow: auto;}#sk-container-id-1 input.sk-toggleable__control:checked~label.sk-toggleable__label-arrow:before {content: \"▾\";}#sk-container-id-1 div.sk-estimator input.sk-toggleable__control:checked~label.sk-toggleable__label {background-color: #d4ebff;}#sk-container-id-1 div.sk-label input.sk-toggleable__control:checked~label.sk-toggleable__label {background-color: #d4ebff;}#sk-container-id-1 input.sk-hidden--visually {border: 0;clip: rect(1px 1px 1px 1px);clip: rect(1px, 1px, 1px, 1px);height: 1px;margin: -1px;overflow: hidden;padding: 0;position: absolute;width: 1px;}#sk-container-id-1 div.sk-estimator {font-family: monospace;background-color: #f0f8ff;border: 1px dotted black;border-radius: 0.25em;box-sizing: border-box;margin-bottom: 0.5em;}#sk-container-id-1 div.sk-estimator:hover {background-color: #d4ebff;}#sk-container-id-1 div.sk-parallel-item::after {content: \"\";width: 100%;border-bottom: 1px solid gray;flex-grow: 1;}#sk-container-id-1 div.sk-label:hover label.sk-toggleable__label {background-color: #d4ebff;}#sk-container-id-1 div.sk-serial::before {content: \"\";position: absolute;border-left: 1px solid gray;box-sizing: border-box;top: 0;bottom: 0;left: 50%;z-index: 0;}#sk-container-id-1 div.sk-serial {display: flex;flex-direction: column;align-items: center;background-color: white;padding-right: 0.2em;padding-left: 0.2em;position: relative;}#sk-container-id-1 div.sk-item {position: relative;z-index: 1;}#sk-container-id-1 div.sk-parallel {display: flex;align-items: stretch;justify-content: center;background-color: white;position: relative;}#sk-container-id-1 div.sk-item::before, #sk-container-id-1 div.sk-parallel-item::before {content: \"\";position: absolute;border-left: 1px solid gray;box-sizing: border-box;top: 0;bottom: 0;left: 50%;z-index: -1;}#sk-container-id-1 div.sk-parallel-item {display: flex;flex-direction: column;z-index: 1;position: relative;background-color: white;}#sk-container-id-1 div.sk-parallel-item:first-child::after {align-self: flex-end;width: 50%;}#sk-container-id-1 div.sk-parallel-item:last-child::after {align-self: flex-start;width: 50%;}#sk-container-id-1 div.sk-parallel-item:only-child::after {width: 0;}#sk-container-id-1 div.sk-dashed-wrapped {border: 1px dashed gray;margin: 0 0.4em 0.5em 0.4em;box-sizing: border-box;padding-bottom: 0.4em;background-color: white;}#sk-container-id-1 div.sk-label label {font-family: monospace;font-weight: bold;display: inline-block;line-height: 1.2em;}#sk-container-id-1 div.sk-label-container {text-align: center;}#sk-container-id-1 div.sk-container {/* jupyter's `normalize.less` sets `[hidden] { display: none; }` but bootstrap.min.css set `[hidden] { display: none !important; }` so we also need the `!important` here to be able to override the default hidden behavior on the sphinx rendered scikit-learn.org. See: https://github.com/scikit-learn/scikit-learn/issues/21755 */display: inline-block !important;position: relative;}#sk-container-id-1 div.sk-text-repr-fallback {display: none;}</style><div id=\"sk-container-id-1\" class=\"sk-top-container\"><div class=\"sk-text-repr-fallback\"><pre>GridSearchCV(cv=3,\n",
       "             estimator=Pipeline(steps=[(&#x27;Column_Transformer&#x27;,\n",
       "                                        ColumnTransformer(transformers=[(&#x27;numeric&#x27;,\n",
       "                                                                         Pipeline(steps=[(&#x27;imputer&#x27;,\n",
       "                                                                                          SimpleImputer()),\n",
       "                                                                                         (&#x27;scaler&#x27;,\n",
       "                                                                                          StandardScaler())]),\n",
       "                                                                         [&#x27;Latitude&#x27;,\n",
       "                                                                          &#x27;Longitude&#x27;,\n",
       "                                                                          &#x27;Time_Occurred&#x27;,\n",
       "                                                                          &#x27;Area_ID&#x27;,\n",
       "                                                                          &#x27;Reporting_District_no&#x27;,\n",
       "                                                                          &#x27;Part &#x27;\n",
       "                                                                          &#x27;1-2&#x27;,\n",
       "                                                                          &#x27;Victim_Age&#x27;,\n",
       "                                                                          &#x27;Premise_Code&#x27;,\n",
       "                                                                          &#x27;Weapon_Used_Code&#x27;]),\n",
       "                                                                        (&#x27;categoric&#x27;,\n",
       "                                                                         Pipeline(steps=[(&#x27;i...\n",
       "                                                                                          OneHotEncoder(handle_unknown=&#x27;ignore&#x27;))]),\n",
       "                                                                         [&#x27;Location&#x27;,\n",
       "                                                                          &#x27;Area_Name&#x27;,\n",
       "                                                                          &#x27;Modus_Operandi&#x27;,\n",
       "                                                                          &#x27;Victim_Sex&#x27;,\n",
       "                                                                          &#x27;Victim_Descent&#x27;,\n",
       "                                                                          &#x27;Premise_Description&#x27;,\n",
       "                                                                          &#x27;Weapon_Description&#x27;,\n",
       "                                                                          &#x27;Status&#x27;,\n",
       "                                                                          &#x27;Status_Description&#x27;,\n",
       "                                                                          &#x27;Month_Occurred&#x27;,\n",
       "                                                                          &#x27;Date_Occurred&#x27;])])),\n",
       "                                       (&#x27;classifier1&#x27;,\n",
       "                                        GradientBoostingClassifier())]),\n",
       "             n_jobs=-1,\n",
       "             param_grid={&#x27;classifier1__learning_rate&#x27;: [0.1, 0.2],\n",
       "                         &#x27;classifier1__max_depth&#x27;: [3, 5, 7]},\n",
       "             scoring=&#x27;accuracy&#x27;)</pre><b>In a Jupyter environment, please rerun this cell to show the HTML representation or trust the notebook. <br />On GitHub, the HTML representation is unable to render, please try loading this page with nbviewer.org.</b></div><div class=\"sk-container\" hidden><div class=\"sk-item sk-dashed-wrapped\"><div class=\"sk-label-container\"><div class=\"sk-label sk-toggleable\"><input class=\"sk-toggleable__control sk-hidden--visually\" id=\"sk-estimator-id-1\" type=\"checkbox\" ><label for=\"sk-estimator-id-1\" class=\"sk-toggleable__label sk-toggleable__label-arrow\">GridSearchCV</label><div class=\"sk-toggleable__content\"><pre>GridSearchCV(cv=3,\n",
       "             estimator=Pipeline(steps=[(&#x27;Column_Transformer&#x27;,\n",
       "                                        ColumnTransformer(transformers=[(&#x27;numeric&#x27;,\n",
       "                                                                         Pipeline(steps=[(&#x27;imputer&#x27;,\n",
       "                                                                                          SimpleImputer()),\n",
       "                                                                                         (&#x27;scaler&#x27;,\n",
       "                                                                                          StandardScaler())]),\n",
       "                                                                         [&#x27;Latitude&#x27;,\n",
       "                                                                          &#x27;Longitude&#x27;,\n",
       "                                                                          &#x27;Time_Occurred&#x27;,\n",
       "                                                                          &#x27;Area_ID&#x27;,\n",
       "                                                                          &#x27;Reporting_District_no&#x27;,\n",
       "                                                                          &#x27;Part &#x27;\n",
       "                                                                          &#x27;1-2&#x27;,\n",
       "                                                                          &#x27;Victim_Age&#x27;,\n",
       "                                                                          &#x27;Premise_Code&#x27;,\n",
       "                                                                          &#x27;Weapon_Used_Code&#x27;]),\n",
       "                                                                        (&#x27;categoric&#x27;,\n",
       "                                                                         Pipeline(steps=[(&#x27;i...\n",
       "                                                                                          OneHotEncoder(handle_unknown=&#x27;ignore&#x27;))]),\n",
       "                                                                         [&#x27;Location&#x27;,\n",
       "                                                                          &#x27;Area_Name&#x27;,\n",
       "                                                                          &#x27;Modus_Operandi&#x27;,\n",
       "                                                                          &#x27;Victim_Sex&#x27;,\n",
       "                                                                          &#x27;Victim_Descent&#x27;,\n",
       "                                                                          &#x27;Premise_Description&#x27;,\n",
       "                                                                          &#x27;Weapon_Description&#x27;,\n",
       "                                                                          &#x27;Status&#x27;,\n",
       "                                                                          &#x27;Status_Description&#x27;,\n",
       "                                                                          &#x27;Month_Occurred&#x27;,\n",
       "                                                                          &#x27;Date_Occurred&#x27;])])),\n",
       "                                       (&#x27;classifier1&#x27;,\n",
       "                                        GradientBoostingClassifier())]),\n",
       "             n_jobs=-1,\n",
       "             param_grid={&#x27;classifier1__learning_rate&#x27;: [0.1, 0.2],\n",
       "                         &#x27;classifier1__max_depth&#x27;: [3, 5, 7]},\n",
       "             scoring=&#x27;accuracy&#x27;)</pre></div></div></div><div class=\"sk-parallel\"><div class=\"sk-parallel-item\"><div class=\"sk-item\"><div class=\"sk-label-container\"><div class=\"sk-label sk-toggleable\"><input class=\"sk-toggleable__control sk-hidden--visually\" id=\"sk-estimator-id-2\" type=\"checkbox\" ><label for=\"sk-estimator-id-2\" class=\"sk-toggleable__label sk-toggleable__label-arrow\">estimator: Pipeline</label><div class=\"sk-toggleable__content\"><pre>Pipeline(steps=[(&#x27;Column_Transformer&#x27;,\n",
       "                 ColumnTransformer(transformers=[(&#x27;numeric&#x27;,\n",
       "                                                  Pipeline(steps=[(&#x27;imputer&#x27;,\n",
       "                                                                   SimpleImputer()),\n",
       "                                                                  (&#x27;scaler&#x27;,\n",
       "                                                                   StandardScaler())]),\n",
       "                                                  [&#x27;Latitude&#x27;, &#x27;Longitude&#x27;,\n",
       "                                                   &#x27;Time_Occurred&#x27;, &#x27;Area_ID&#x27;,\n",
       "                                                   &#x27;Reporting_District_no&#x27;,\n",
       "                                                   &#x27;Part 1-2&#x27;, &#x27;Victim_Age&#x27;,\n",
       "                                                   &#x27;Premise_Code&#x27;,\n",
       "                                                   &#x27;Weapon_Used_Code&#x27;]),\n",
       "                                                 (&#x27;categoric&#x27;,\n",
       "                                                  Pipeline(steps=[(&#x27;imputer&#x27;,\n",
       "                                                                   SimpleImputer(strategy=&#x27;most_frequent&#x27;)),\n",
       "                                                                  (&#x27;Encoder&#x27;,\n",
       "                                                                   OneHotEncoder(handle_unknown=&#x27;ignore&#x27;))]),\n",
       "                                                  [&#x27;Location&#x27;, &#x27;Area_Name&#x27;,\n",
       "                                                   &#x27;Modus_Operandi&#x27;,\n",
       "                                                   &#x27;Victim_Sex&#x27;,\n",
       "                                                   &#x27;Victim_Descent&#x27;,\n",
       "                                                   &#x27;Premise_Description&#x27;,\n",
       "                                                   &#x27;Weapon_Description&#x27;,\n",
       "                                                   &#x27;Status&#x27;,\n",
       "                                                   &#x27;Status_Description&#x27;,\n",
       "                                                   &#x27;Month_Occurred&#x27;,\n",
       "                                                   &#x27;Date_Occurred&#x27;])])),\n",
       "                (&#x27;classifier1&#x27;, GradientBoostingClassifier())])</pre></div></div></div><div class=\"sk-serial\"><div class=\"sk-item\"><div class=\"sk-serial\"><div class=\"sk-item sk-dashed-wrapped\"><div class=\"sk-label-container\"><div class=\"sk-label sk-toggleable\"><input class=\"sk-toggleable__control sk-hidden--visually\" id=\"sk-estimator-id-3\" type=\"checkbox\" ><label for=\"sk-estimator-id-3\" class=\"sk-toggleable__label sk-toggleable__label-arrow\">Column_Transformer: ColumnTransformer</label><div class=\"sk-toggleable__content\"><pre>ColumnTransformer(transformers=[(&#x27;numeric&#x27;,\n",
       "                                 Pipeline(steps=[(&#x27;imputer&#x27;, SimpleImputer()),\n",
       "                                                 (&#x27;scaler&#x27;, StandardScaler())]),\n",
       "                                 [&#x27;Latitude&#x27;, &#x27;Longitude&#x27;, &#x27;Time_Occurred&#x27;,\n",
       "                                  &#x27;Area_ID&#x27;, &#x27;Reporting_District_no&#x27;,\n",
       "                                  &#x27;Part 1-2&#x27;, &#x27;Victim_Age&#x27;, &#x27;Premise_Code&#x27;,\n",
       "                                  &#x27;Weapon_Used_Code&#x27;]),\n",
       "                                (&#x27;categoric&#x27;,\n",
       "                                 Pipeline(steps=[(&#x27;imputer&#x27;,\n",
       "                                                  SimpleImputer(strategy=&#x27;most_frequent&#x27;)),\n",
       "                                                 (&#x27;Encoder&#x27;,\n",
       "                                                  OneHotEncoder(handle_unknown=&#x27;ignore&#x27;))]),\n",
       "                                 [&#x27;Location&#x27;, &#x27;Area_Name&#x27;, &#x27;Modus_Operandi&#x27;,\n",
       "                                  &#x27;Victim_Sex&#x27;, &#x27;Victim_Descent&#x27;,\n",
       "                                  &#x27;Premise_Description&#x27;, &#x27;Weapon_Description&#x27;,\n",
       "                                  &#x27;Status&#x27;, &#x27;Status_Description&#x27;,\n",
       "                                  &#x27;Month_Occurred&#x27;, &#x27;Date_Occurred&#x27;])])</pre></div></div></div><div class=\"sk-parallel\"><div class=\"sk-parallel-item\"><div class=\"sk-item\"><div class=\"sk-label-container\"><div class=\"sk-label sk-toggleable\"><input class=\"sk-toggleable__control sk-hidden--visually\" id=\"sk-estimator-id-4\" type=\"checkbox\" ><label for=\"sk-estimator-id-4\" class=\"sk-toggleable__label sk-toggleable__label-arrow\">numeric</label><div class=\"sk-toggleable__content\"><pre>[&#x27;Latitude&#x27;, &#x27;Longitude&#x27;, &#x27;Time_Occurred&#x27;, &#x27;Area_ID&#x27;, &#x27;Reporting_District_no&#x27;, &#x27;Part 1-2&#x27;, &#x27;Victim_Age&#x27;, &#x27;Premise_Code&#x27;, &#x27;Weapon_Used_Code&#x27;]</pre></div></div></div><div class=\"sk-serial\"><div class=\"sk-item\"><div class=\"sk-serial\"><div class=\"sk-item\"><div class=\"sk-estimator sk-toggleable\"><input class=\"sk-toggleable__control sk-hidden--visually\" id=\"sk-estimator-id-5\" type=\"checkbox\" ><label for=\"sk-estimator-id-5\" class=\"sk-toggleable__label sk-toggleable__label-arrow\">SimpleImputer</label><div class=\"sk-toggleable__content\"><pre>SimpleImputer()</pre></div></div></div><div class=\"sk-item\"><div class=\"sk-estimator sk-toggleable\"><input class=\"sk-toggleable__control sk-hidden--visually\" id=\"sk-estimator-id-6\" type=\"checkbox\" ><label for=\"sk-estimator-id-6\" class=\"sk-toggleable__label sk-toggleable__label-arrow\">StandardScaler</label><div class=\"sk-toggleable__content\"><pre>StandardScaler()</pre></div></div></div></div></div></div></div></div><div class=\"sk-parallel-item\"><div class=\"sk-item\"><div class=\"sk-label-container\"><div class=\"sk-label sk-toggleable\"><input class=\"sk-toggleable__control sk-hidden--visually\" id=\"sk-estimator-id-7\" type=\"checkbox\" ><label for=\"sk-estimator-id-7\" class=\"sk-toggleable__label sk-toggleable__label-arrow\">categoric</label><div class=\"sk-toggleable__content\"><pre>[&#x27;Location&#x27;, &#x27;Area_Name&#x27;, &#x27;Modus_Operandi&#x27;, &#x27;Victim_Sex&#x27;, &#x27;Victim_Descent&#x27;, &#x27;Premise_Description&#x27;, &#x27;Weapon_Description&#x27;, &#x27;Status&#x27;, &#x27;Status_Description&#x27;, &#x27;Month_Occurred&#x27;, &#x27;Date_Occurred&#x27;]</pre></div></div></div><div class=\"sk-serial\"><div class=\"sk-item\"><div class=\"sk-serial\"><div class=\"sk-item\"><div class=\"sk-estimator sk-toggleable\"><input class=\"sk-toggleable__control sk-hidden--visually\" id=\"sk-estimator-id-8\" type=\"checkbox\" ><label for=\"sk-estimator-id-8\" class=\"sk-toggleable__label sk-toggleable__label-arrow\">SimpleImputer</label><div class=\"sk-toggleable__content\"><pre>SimpleImputer(strategy=&#x27;most_frequent&#x27;)</pre></div></div></div><div class=\"sk-item\"><div class=\"sk-estimator sk-toggleable\"><input class=\"sk-toggleable__control sk-hidden--visually\" id=\"sk-estimator-id-9\" type=\"checkbox\" ><label for=\"sk-estimator-id-9\" class=\"sk-toggleable__label sk-toggleable__label-arrow\">OneHotEncoder</label><div class=\"sk-toggleable__content\"><pre>OneHotEncoder(handle_unknown=&#x27;ignore&#x27;)</pre></div></div></div></div></div></div></div></div></div></div><div class=\"sk-item\"><div class=\"sk-estimator sk-toggleable\"><input class=\"sk-toggleable__control sk-hidden--visually\" id=\"sk-estimator-id-10\" type=\"checkbox\" ><label for=\"sk-estimator-id-10\" class=\"sk-toggleable__label sk-toggleable__label-arrow\">GradientBoostingClassifier</label><div class=\"sk-toggleable__content\"><pre>GradientBoostingClassifier()</pre></div></div></div></div></div></div></div></div></div></div></div></div>"
      ],
      "text/plain": [
       "GridSearchCV(cv=3,\n",
       "             estimator=Pipeline(steps=[('Column_Transformer',\n",
       "                                        ColumnTransformer(transformers=[('numeric',\n",
       "                                                                         Pipeline(steps=[('imputer',\n",
       "                                                                                          SimpleImputer()),\n",
       "                                                                                         ('scaler',\n",
       "                                                                                          StandardScaler())]),\n",
       "                                                                         ['Latitude',\n",
       "                                                                          'Longitude',\n",
       "                                                                          'Time_Occurred',\n",
       "                                                                          'Area_ID',\n",
       "                                                                          'Reporting_District_no',\n",
       "                                                                          'Part '\n",
       "                                                                          '1-2',\n",
       "                                                                          'Victim_Age',\n",
       "                                                                          'Premise_Code',\n",
       "                                                                          'Weapon_Used_Code']),\n",
       "                                                                        ('categoric',\n",
       "                                                                         Pipeline(steps=[('i...\n",
       "                                                                                          OneHotEncoder(handle_unknown='ignore'))]),\n",
       "                                                                         ['Location',\n",
       "                                                                          'Area_Name',\n",
       "                                                                          'Modus_Operandi',\n",
       "                                                                          'Victim_Sex',\n",
       "                                                                          'Victim_Descent',\n",
       "                                                                          'Premise_Description',\n",
       "                                                                          'Weapon_Description',\n",
       "                                                                          'Status',\n",
       "                                                                          'Status_Description',\n",
       "                                                                          'Month_Occurred',\n",
       "                                                                          'Date_Occurred'])])),\n",
       "                                       ('classifier1',\n",
       "                                        GradientBoostingClassifier())]),\n",
       "             n_jobs=-1,\n",
       "             param_grid={'classifier1__learning_rate': [0.1, 0.2],\n",
       "                         'classifier1__max_depth': [3, 5, 7]},\n",
       "             scoring='accuracy')"
      ]
     },
     "execution_count": 39,
     "metadata": {},
     "output_type": "execute_result"
    }
   ],
   "source": [
    "grid_search1 = GridSearchCV(model1, param_grid1, cv=3, n_jobs=-1, scoring='accuracy')  \n",
    "grid_search1.fit(x_train, y_train)"
   ]
  },
  {
   "cell_type": "code",
   "execution_count": 40,
   "id": "005b39a9",
   "metadata": {
    "execution": {
     "iopub.execute_input": "2024-08-02T11:47:37.382760Z",
     "iopub.status.busy": "2024-08-02T11:47:37.382361Z",
     "iopub.status.idle": "2024-08-02T11:47:37.389003Z",
     "shell.execute_reply": "2024-08-02T11:47:37.387979Z"
    },
    "papermill": {
     "duration": 0.036322,
     "end_time": "2024-08-02T11:47:37.391089",
     "exception": false,
     "start_time": "2024-08-02T11:47:37.354767",
     "status": "completed"
    },
    "tags": []
   },
   "outputs": [
    {
     "data": {
      "text/plain": [
       "{'classifier1__learning_rate': 0.2, 'classifier1__max_depth': 5}"
      ]
     },
     "execution_count": 40,
     "metadata": {},
     "output_type": "execute_result"
    }
   ],
   "source": [
    "grid_search1.best_params_"
   ]
  },
  {
   "cell_type": "code",
   "execution_count": 41,
   "id": "8830afd1",
   "metadata": {
    "execution": {
     "iopub.execute_input": "2024-08-02T11:47:37.446900Z",
     "iopub.status.busy": "2024-08-02T11:47:37.445722Z",
     "iopub.status.idle": "2024-08-02T11:47:37.452711Z",
     "shell.execute_reply": "2024-08-02T11:47:37.451673Z"
    },
    "papermill": {
     "duration": 0.03723,
     "end_time": "2024-08-02T11:47:37.454982",
     "exception": false,
     "start_time": "2024-08-02T11:47:37.417752",
     "status": "completed"
    },
    "tags": []
   },
   "outputs": [
    {
     "data": {
      "text/plain": [
       "0.8860555555555556"
      ]
     },
     "execution_count": 41,
     "metadata": {},
     "output_type": "execute_result"
    }
   ],
   "source": [
    "grid_search1.best_score_"
   ]
  },
  {
   "cell_type": "code",
   "execution_count": 42,
   "id": "b881445c",
   "metadata": {
    "execution": {
     "iopub.execute_input": "2024-08-02T11:47:37.512159Z",
     "iopub.status.busy": "2024-08-02T11:47:37.511453Z",
     "iopub.status.idle": "2024-08-02T11:48:51.515876Z",
     "shell.execute_reply": "2024-08-02T11:48:51.514779Z"
    },
    "papermill": {
     "duration": 74.036029,
     "end_time": "2024-08-02T11:48:51.518632",
     "exception": false,
     "start_time": "2024-08-02T11:47:37.482603",
     "status": "completed"
    },
    "tags": []
   },
   "outputs": [],
   "source": [
    "grid_search1.best_estimator_.fit(x_train, y_train)\n",
    "y_pred11=grid_search1.best_estimator_.predict(x_val)"
   ]
  },
  {
   "cell_type": "code",
   "execution_count": 43,
   "id": "a89535a9",
   "metadata": {
    "execution": {
     "iopub.execute_input": "2024-08-02T11:48:51.576069Z",
     "iopub.status.busy": "2024-08-02T11:48:51.575131Z",
     "iopub.status.idle": "2024-08-02T11:48:51.585787Z",
     "shell.execute_reply": "2024-08-02T11:48:51.584711Z"
    },
    "papermill": {
     "duration": 0.040735,
     "end_time": "2024-08-02T11:48:51.587976",
     "exception": false,
     "start_time": "2024-08-02T11:48:51.547241",
     "status": "completed"
    },
    "tags": []
   },
   "outputs": [
    {
     "data": {
      "text/plain": [
       "0.89"
      ]
     },
     "execution_count": 43,
     "metadata": {},
     "output_type": "execute_result"
    }
   ],
   "source": [
    "import sklearn.metrics as skm\n",
    "skm.accuracy_score(y_val,y_pred11)"
   ]
  },
  {
   "cell_type": "code",
   "execution_count": 44,
   "id": "b80e430a",
   "metadata": {
    "execution": {
     "iopub.execute_input": "2024-08-02T11:48:51.642749Z",
     "iopub.status.busy": "2024-08-02T11:48:51.642350Z",
     "iopub.status.idle": "2024-08-02T11:48:51.710201Z",
     "shell.execute_reply": "2024-08-02T11:48:51.708908Z"
    },
    "papermill": {
     "duration": 0.098054,
     "end_time": "2024-08-02T11:48:51.712624",
     "exception": false,
     "start_time": "2024-08-02T11:48:51.614570",
     "status": "completed"
    },
    "tags": []
   },
   "outputs": [
    {
     "name": "stdout",
     "output_type": "stream",
     "text": [
      "                               precision    recall  f1-score   support\n",
      "\n",
      "       Crimes against Persons       0.60      0.67      0.63        18\n",
      "  Crimes against Public Order       0.83      0.61      0.70       181\n",
      "Fraud and White-Collar Crimes       0.73      0.84      0.78       139\n",
      "                 Other Crimes       0.00      0.00      0.00        19\n",
      "              Property Crimes       0.95      0.94      0.95      1151\n",
      "               Violent Crimes       0.84      0.93      0.88       492\n",
      "\n",
      "                     accuracy                           0.89      2000\n",
      "                    macro avg       0.66      0.66      0.66      2000\n",
      "                 weighted avg       0.89      0.89      0.89      2000\n",
      "\n"
     ]
    }
   ],
   "source": [
    "print(skm.classification_report(y_val,y_pred11))\n"
   ]
  },
  {
   "cell_type": "code",
   "execution_count": 45,
   "id": "1c1990ce",
   "metadata": {
    "execution": {
     "iopub.execute_input": "2024-08-02T11:48:51.769382Z",
     "iopub.status.busy": "2024-08-02T11:48:51.768984Z",
     "iopub.status.idle": "2024-08-02T11:48:51.783571Z",
     "shell.execute_reply": "2024-08-02T11:48:51.782383Z"
    },
    "papermill": {
     "duration": 0.045866,
     "end_time": "2024-08-02T11:48:51.785905",
     "exception": false,
     "start_time": "2024-08-02T11:48:51.740039",
     "status": "completed"
    },
    "tags": []
   },
   "outputs": [
    {
     "name": "stdout",
     "output_type": "stream",
     "text": [
      "[[  12    0    0    0    0    6]\n",
      " [   2  110   27    1   11   30]\n",
      " [   1    7  117    1   13    0]\n",
      " [   0    4    7    0    8    0]\n",
      " [   1    6    9    1 1084   50]\n",
      " [   4    6    0    2   23  457]]\n"
     ]
    }
   ],
   "source": [
    "print(skm.confusion_matrix(y_val,y_pred11))"
   ]
  },
  {
   "cell_type": "markdown",
   "id": "dc5cadcc",
   "metadata": {
    "papermill": {
     "duration": 0.026438,
     "end_time": "2024-08-02T11:48:51.839331",
     "exception": false,
     "start_time": "2024-08-02T11:48:51.812893",
     "status": "completed"
    },
    "tags": []
   },
   "source": [
    "# **Model 2(using SVM algorithm) and Hyperparameter tuning**"
   ]
  },
  {
   "cell_type": "code",
   "execution_count": 46,
   "id": "3eb7686f",
   "metadata": {
    "execution": {
     "iopub.execute_input": "2024-08-02T11:48:51.895768Z",
     "iopub.status.busy": "2024-08-02T11:48:51.894627Z",
     "iopub.status.idle": "2024-08-02T11:52:17.969830Z",
     "shell.execute_reply": "2024-08-02T11:52:17.968667Z"
    },
    "papermill": {
     "duration": 206.133541,
     "end_time": "2024-08-02T11:52:17.999629",
     "exception": false,
     "start_time": "2024-08-02T11:48:51.866088",
     "status": "completed"
    },
    "tags": []
   },
   "outputs": [
    {
     "data": {
      "text/html": [
       "<style>#sk-container-id-2 {color: black;background-color: white;}#sk-container-id-2 pre{padding: 0;}#sk-container-id-2 div.sk-toggleable {background-color: white;}#sk-container-id-2 label.sk-toggleable__label {cursor: pointer;display: block;width: 100%;margin-bottom: 0;padding: 0.3em;box-sizing: border-box;text-align: center;}#sk-container-id-2 label.sk-toggleable__label-arrow:before {content: \"▸\";float: left;margin-right: 0.25em;color: #696969;}#sk-container-id-2 label.sk-toggleable__label-arrow:hover:before {color: black;}#sk-container-id-2 div.sk-estimator:hover label.sk-toggleable__label-arrow:before {color: black;}#sk-container-id-2 div.sk-toggleable__content {max-height: 0;max-width: 0;overflow: hidden;text-align: left;background-color: #f0f8ff;}#sk-container-id-2 div.sk-toggleable__content pre {margin: 0.2em;color: black;border-radius: 0.25em;background-color: #f0f8ff;}#sk-container-id-2 input.sk-toggleable__control:checked~div.sk-toggleable__content {max-height: 200px;max-width: 100%;overflow: auto;}#sk-container-id-2 input.sk-toggleable__control:checked~label.sk-toggleable__label-arrow:before {content: \"▾\";}#sk-container-id-2 div.sk-estimator input.sk-toggleable__control:checked~label.sk-toggleable__label {background-color: #d4ebff;}#sk-container-id-2 div.sk-label input.sk-toggleable__control:checked~label.sk-toggleable__label {background-color: #d4ebff;}#sk-container-id-2 input.sk-hidden--visually {border: 0;clip: rect(1px 1px 1px 1px);clip: rect(1px, 1px, 1px, 1px);height: 1px;margin: -1px;overflow: hidden;padding: 0;position: absolute;width: 1px;}#sk-container-id-2 div.sk-estimator {font-family: monospace;background-color: #f0f8ff;border: 1px dotted black;border-radius: 0.25em;box-sizing: border-box;margin-bottom: 0.5em;}#sk-container-id-2 div.sk-estimator:hover {background-color: #d4ebff;}#sk-container-id-2 div.sk-parallel-item::after {content: \"\";width: 100%;border-bottom: 1px solid gray;flex-grow: 1;}#sk-container-id-2 div.sk-label:hover label.sk-toggleable__label {background-color: #d4ebff;}#sk-container-id-2 div.sk-serial::before {content: \"\";position: absolute;border-left: 1px solid gray;box-sizing: border-box;top: 0;bottom: 0;left: 50%;z-index: 0;}#sk-container-id-2 div.sk-serial {display: flex;flex-direction: column;align-items: center;background-color: white;padding-right: 0.2em;padding-left: 0.2em;position: relative;}#sk-container-id-2 div.sk-item {position: relative;z-index: 1;}#sk-container-id-2 div.sk-parallel {display: flex;align-items: stretch;justify-content: center;background-color: white;position: relative;}#sk-container-id-2 div.sk-item::before, #sk-container-id-2 div.sk-parallel-item::before {content: \"\";position: absolute;border-left: 1px solid gray;box-sizing: border-box;top: 0;bottom: 0;left: 50%;z-index: -1;}#sk-container-id-2 div.sk-parallel-item {display: flex;flex-direction: column;z-index: 1;position: relative;background-color: white;}#sk-container-id-2 div.sk-parallel-item:first-child::after {align-self: flex-end;width: 50%;}#sk-container-id-2 div.sk-parallel-item:last-child::after {align-self: flex-start;width: 50%;}#sk-container-id-2 div.sk-parallel-item:only-child::after {width: 0;}#sk-container-id-2 div.sk-dashed-wrapped {border: 1px dashed gray;margin: 0 0.4em 0.5em 0.4em;box-sizing: border-box;padding-bottom: 0.4em;background-color: white;}#sk-container-id-2 div.sk-label label {font-family: monospace;font-weight: bold;display: inline-block;line-height: 1.2em;}#sk-container-id-2 div.sk-label-container {text-align: center;}#sk-container-id-2 div.sk-container {/* jupyter's `normalize.less` sets `[hidden] { display: none; }` but bootstrap.min.css set `[hidden] { display: none !important; }` so we also need the `!important` here to be able to override the default hidden behavior on the sphinx rendered scikit-learn.org. See: https://github.com/scikit-learn/scikit-learn/issues/21755 */display: inline-block !important;position: relative;}#sk-container-id-2 div.sk-text-repr-fallback {display: none;}</style><div id=\"sk-container-id-2\" class=\"sk-top-container\"><div class=\"sk-text-repr-fallback\"><pre>GridSearchCV(cv=3,\n",
       "             estimator=Pipeline(steps=[(&#x27;column_transformer&#x27;,\n",
       "                                        ColumnTransformer(transformers=[(&#x27;numeric&#x27;,\n",
       "                                                                         Pipeline(steps=[(&#x27;imputer&#x27;,\n",
       "                                                                                          SimpleImputer()),\n",
       "                                                                                         (&#x27;scaler&#x27;,\n",
       "                                                                                          StandardScaler())]),\n",
       "                                                                         [&#x27;Latitude&#x27;,\n",
       "                                                                          &#x27;Longitude&#x27;,\n",
       "                                                                          &#x27;Time_Occurred&#x27;,\n",
       "                                                                          &#x27;Area_ID&#x27;,\n",
       "                                                                          &#x27;Reporting_District_no&#x27;,\n",
       "                                                                          &#x27;Part &#x27;\n",
       "                                                                          &#x27;1-2&#x27;,\n",
       "                                                                          &#x27;Victim_Age&#x27;,\n",
       "                                                                          &#x27;Premise_Code&#x27;,\n",
       "                                                                          &#x27;Weapon_Used_Code&#x27;]),\n",
       "                                                                        (&#x27;categoric&#x27;,\n",
       "                                                                         Pipeline(steps=[(&#x27;i...\n",
       "                                                                         [&#x27;Location&#x27;,\n",
       "                                                                          &#x27;Area_Name&#x27;,\n",
       "                                                                          &#x27;Modus_Operandi&#x27;,\n",
       "                                                                          &#x27;Victim_Sex&#x27;,\n",
       "                                                                          &#x27;Victim_Descent&#x27;,\n",
       "                                                                          &#x27;Premise_Description&#x27;,\n",
       "                                                                          &#x27;Weapon_Description&#x27;,\n",
       "                                                                          &#x27;Status&#x27;,\n",
       "                                                                          &#x27;Status_Description&#x27;,\n",
       "                                                                          &#x27;Month_Occurred&#x27;,\n",
       "                                                                          &#x27;Date_Occurred&#x27;])])),\n",
       "                                       (&#x27;classifier2&#x27;, SVC())]),\n",
       "             n_jobs=-1,\n",
       "             param_grid={&#x27;classifier2__C&#x27;: [0.1, 1],\n",
       "                         &#x27;classifier2__gamma&#x27;: [&#x27;scale&#x27;, &#x27;auto&#x27;, 1.0, 0.1],\n",
       "                         &#x27;classifier2__kernel&#x27;: [&#x27;poly&#x27;]},\n",
       "             scoring=&#x27;accuracy&#x27;)</pre><b>In a Jupyter environment, please rerun this cell to show the HTML representation or trust the notebook. <br />On GitHub, the HTML representation is unable to render, please try loading this page with nbviewer.org.</b></div><div class=\"sk-container\" hidden><div class=\"sk-item sk-dashed-wrapped\"><div class=\"sk-label-container\"><div class=\"sk-label sk-toggleable\"><input class=\"sk-toggleable__control sk-hidden--visually\" id=\"sk-estimator-id-11\" type=\"checkbox\" ><label for=\"sk-estimator-id-11\" class=\"sk-toggleable__label sk-toggleable__label-arrow\">GridSearchCV</label><div class=\"sk-toggleable__content\"><pre>GridSearchCV(cv=3,\n",
       "             estimator=Pipeline(steps=[(&#x27;column_transformer&#x27;,\n",
       "                                        ColumnTransformer(transformers=[(&#x27;numeric&#x27;,\n",
       "                                                                         Pipeline(steps=[(&#x27;imputer&#x27;,\n",
       "                                                                                          SimpleImputer()),\n",
       "                                                                                         (&#x27;scaler&#x27;,\n",
       "                                                                                          StandardScaler())]),\n",
       "                                                                         [&#x27;Latitude&#x27;,\n",
       "                                                                          &#x27;Longitude&#x27;,\n",
       "                                                                          &#x27;Time_Occurred&#x27;,\n",
       "                                                                          &#x27;Area_ID&#x27;,\n",
       "                                                                          &#x27;Reporting_District_no&#x27;,\n",
       "                                                                          &#x27;Part &#x27;\n",
       "                                                                          &#x27;1-2&#x27;,\n",
       "                                                                          &#x27;Victim_Age&#x27;,\n",
       "                                                                          &#x27;Premise_Code&#x27;,\n",
       "                                                                          &#x27;Weapon_Used_Code&#x27;]),\n",
       "                                                                        (&#x27;categoric&#x27;,\n",
       "                                                                         Pipeline(steps=[(&#x27;i...\n",
       "                                                                         [&#x27;Location&#x27;,\n",
       "                                                                          &#x27;Area_Name&#x27;,\n",
       "                                                                          &#x27;Modus_Operandi&#x27;,\n",
       "                                                                          &#x27;Victim_Sex&#x27;,\n",
       "                                                                          &#x27;Victim_Descent&#x27;,\n",
       "                                                                          &#x27;Premise_Description&#x27;,\n",
       "                                                                          &#x27;Weapon_Description&#x27;,\n",
       "                                                                          &#x27;Status&#x27;,\n",
       "                                                                          &#x27;Status_Description&#x27;,\n",
       "                                                                          &#x27;Month_Occurred&#x27;,\n",
       "                                                                          &#x27;Date_Occurred&#x27;])])),\n",
       "                                       (&#x27;classifier2&#x27;, SVC())]),\n",
       "             n_jobs=-1,\n",
       "             param_grid={&#x27;classifier2__C&#x27;: [0.1, 1],\n",
       "                         &#x27;classifier2__gamma&#x27;: [&#x27;scale&#x27;, &#x27;auto&#x27;, 1.0, 0.1],\n",
       "                         &#x27;classifier2__kernel&#x27;: [&#x27;poly&#x27;]},\n",
       "             scoring=&#x27;accuracy&#x27;)</pre></div></div></div><div class=\"sk-parallel\"><div class=\"sk-parallel-item\"><div class=\"sk-item\"><div class=\"sk-label-container\"><div class=\"sk-label sk-toggleable\"><input class=\"sk-toggleable__control sk-hidden--visually\" id=\"sk-estimator-id-12\" type=\"checkbox\" ><label for=\"sk-estimator-id-12\" class=\"sk-toggleable__label sk-toggleable__label-arrow\">estimator: Pipeline</label><div class=\"sk-toggleable__content\"><pre>Pipeline(steps=[(&#x27;column_transformer&#x27;,\n",
       "                 ColumnTransformer(transformers=[(&#x27;numeric&#x27;,\n",
       "                                                  Pipeline(steps=[(&#x27;imputer&#x27;,\n",
       "                                                                   SimpleImputer()),\n",
       "                                                                  (&#x27;scaler&#x27;,\n",
       "                                                                   StandardScaler())]),\n",
       "                                                  [&#x27;Latitude&#x27;, &#x27;Longitude&#x27;,\n",
       "                                                   &#x27;Time_Occurred&#x27;, &#x27;Area_ID&#x27;,\n",
       "                                                   &#x27;Reporting_District_no&#x27;,\n",
       "                                                   &#x27;Part 1-2&#x27;, &#x27;Victim_Age&#x27;,\n",
       "                                                   &#x27;Premise_Code&#x27;,\n",
       "                                                   &#x27;Weapon_Used_Code&#x27;]),\n",
       "                                                 (&#x27;categoric&#x27;,\n",
       "                                                  Pipeline(steps=[(&#x27;imputer&#x27;,\n",
       "                                                                   SimpleImputer(strategy=&#x27;most_frequent&#x27;)),\n",
       "                                                                  (&#x27;Encoder&#x27;,\n",
       "                                                                   OneHotEncoder(handle_unknown=&#x27;ignore&#x27;))]),\n",
       "                                                  [&#x27;Location&#x27;, &#x27;Area_Name&#x27;,\n",
       "                                                   &#x27;Modus_Operandi&#x27;,\n",
       "                                                   &#x27;Victim_Sex&#x27;,\n",
       "                                                   &#x27;Victim_Descent&#x27;,\n",
       "                                                   &#x27;Premise_Description&#x27;,\n",
       "                                                   &#x27;Weapon_Description&#x27;,\n",
       "                                                   &#x27;Status&#x27;,\n",
       "                                                   &#x27;Status_Description&#x27;,\n",
       "                                                   &#x27;Month_Occurred&#x27;,\n",
       "                                                   &#x27;Date_Occurred&#x27;])])),\n",
       "                (&#x27;classifier2&#x27;, SVC())])</pre></div></div></div><div class=\"sk-serial\"><div class=\"sk-item\"><div class=\"sk-serial\"><div class=\"sk-item sk-dashed-wrapped\"><div class=\"sk-label-container\"><div class=\"sk-label sk-toggleable\"><input class=\"sk-toggleable__control sk-hidden--visually\" id=\"sk-estimator-id-13\" type=\"checkbox\" ><label for=\"sk-estimator-id-13\" class=\"sk-toggleable__label sk-toggleable__label-arrow\">column_transformer: ColumnTransformer</label><div class=\"sk-toggleable__content\"><pre>ColumnTransformer(transformers=[(&#x27;numeric&#x27;,\n",
       "                                 Pipeline(steps=[(&#x27;imputer&#x27;, SimpleImputer()),\n",
       "                                                 (&#x27;scaler&#x27;, StandardScaler())]),\n",
       "                                 [&#x27;Latitude&#x27;, &#x27;Longitude&#x27;, &#x27;Time_Occurred&#x27;,\n",
       "                                  &#x27;Area_ID&#x27;, &#x27;Reporting_District_no&#x27;,\n",
       "                                  &#x27;Part 1-2&#x27;, &#x27;Victim_Age&#x27;, &#x27;Premise_Code&#x27;,\n",
       "                                  &#x27;Weapon_Used_Code&#x27;]),\n",
       "                                (&#x27;categoric&#x27;,\n",
       "                                 Pipeline(steps=[(&#x27;imputer&#x27;,\n",
       "                                                  SimpleImputer(strategy=&#x27;most_frequent&#x27;)),\n",
       "                                                 (&#x27;Encoder&#x27;,\n",
       "                                                  OneHotEncoder(handle_unknown=&#x27;ignore&#x27;))]),\n",
       "                                 [&#x27;Location&#x27;, &#x27;Area_Name&#x27;, &#x27;Modus_Operandi&#x27;,\n",
       "                                  &#x27;Victim_Sex&#x27;, &#x27;Victim_Descent&#x27;,\n",
       "                                  &#x27;Premise_Description&#x27;, &#x27;Weapon_Description&#x27;,\n",
       "                                  &#x27;Status&#x27;, &#x27;Status_Description&#x27;,\n",
       "                                  &#x27;Month_Occurred&#x27;, &#x27;Date_Occurred&#x27;])])</pre></div></div></div><div class=\"sk-parallel\"><div class=\"sk-parallel-item\"><div class=\"sk-item\"><div class=\"sk-label-container\"><div class=\"sk-label sk-toggleable\"><input class=\"sk-toggleable__control sk-hidden--visually\" id=\"sk-estimator-id-14\" type=\"checkbox\" ><label for=\"sk-estimator-id-14\" class=\"sk-toggleable__label sk-toggleable__label-arrow\">numeric</label><div class=\"sk-toggleable__content\"><pre>[&#x27;Latitude&#x27;, &#x27;Longitude&#x27;, &#x27;Time_Occurred&#x27;, &#x27;Area_ID&#x27;, &#x27;Reporting_District_no&#x27;, &#x27;Part 1-2&#x27;, &#x27;Victim_Age&#x27;, &#x27;Premise_Code&#x27;, &#x27;Weapon_Used_Code&#x27;]</pre></div></div></div><div class=\"sk-serial\"><div class=\"sk-item\"><div class=\"sk-serial\"><div class=\"sk-item\"><div class=\"sk-estimator sk-toggleable\"><input class=\"sk-toggleable__control sk-hidden--visually\" id=\"sk-estimator-id-15\" type=\"checkbox\" ><label for=\"sk-estimator-id-15\" class=\"sk-toggleable__label sk-toggleable__label-arrow\">SimpleImputer</label><div class=\"sk-toggleable__content\"><pre>SimpleImputer()</pre></div></div></div><div class=\"sk-item\"><div class=\"sk-estimator sk-toggleable\"><input class=\"sk-toggleable__control sk-hidden--visually\" id=\"sk-estimator-id-16\" type=\"checkbox\" ><label for=\"sk-estimator-id-16\" class=\"sk-toggleable__label sk-toggleable__label-arrow\">StandardScaler</label><div class=\"sk-toggleable__content\"><pre>StandardScaler()</pre></div></div></div></div></div></div></div></div><div class=\"sk-parallel-item\"><div class=\"sk-item\"><div class=\"sk-label-container\"><div class=\"sk-label sk-toggleable\"><input class=\"sk-toggleable__control sk-hidden--visually\" id=\"sk-estimator-id-17\" type=\"checkbox\" ><label for=\"sk-estimator-id-17\" class=\"sk-toggleable__label sk-toggleable__label-arrow\">categoric</label><div class=\"sk-toggleable__content\"><pre>[&#x27;Location&#x27;, &#x27;Area_Name&#x27;, &#x27;Modus_Operandi&#x27;, &#x27;Victim_Sex&#x27;, &#x27;Victim_Descent&#x27;, &#x27;Premise_Description&#x27;, &#x27;Weapon_Description&#x27;, &#x27;Status&#x27;, &#x27;Status_Description&#x27;, &#x27;Month_Occurred&#x27;, &#x27;Date_Occurred&#x27;]</pre></div></div></div><div class=\"sk-serial\"><div class=\"sk-item\"><div class=\"sk-serial\"><div class=\"sk-item\"><div class=\"sk-estimator sk-toggleable\"><input class=\"sk-toggleable__control sk-hidden--visually\" id=\"sk-estimator-id-18\" type=\"checkbox\" ><label for=\"sk-estimator-id-18\" class=\"sk-toggleable__label sk-toggleable__label-arrow\">SimpleImputer</label><div class=\"sk-toggleable__content\"><pre>SimpleImputer(strategy=&#x27;most_frequent&#x27;)</pre></div></div></div><div class=\"sk-item\"><div class=\"sk-estimator sk-toggleable\"><input class=\"sk-toggleable__control sk-hidden--visually\" id=\"sk-estimator-id-19\" type=\"checkbox\" ><label for=\"sk-estimator-id-19\" class=\"sk-toggleable__label sk-toggleable__label-arrow\">OneHotEncoder</label><div class=\"sk-toggleable__content\"><pre>OneHotEncoder(handle_unknown=&#x27;ignore&#x27;)</pre></div></div></div></div></div></div></div></div></div></div><div class=\"sk-item\"><div class=\"sk-estimator sk-toggleable\"><input class=\"sk-toggleable__control sk-hidden--visually\" id=\"sk-estimator-id-20\" type=\"checkbox\" ><label for=\"sk-estimator-id-20\" class=\"sk-toggleable__label sk-toggleable__label-arrow\">SVC</label><div class=\"sk-toggleable__content\"><pre>SVC()</pre></div></div></div></div></div></div></div></div></div></div></div></div>"
      ],
      "text/plain": [
       "GridSearchCV(cv=3,\n",
       "             estimator=Pipeline(steps=[('column_transformer',\n",
       "                                        ColumnTransformer(transformers=[('numeric',\n",
       "                                                                         Pipeline(steps=[('imputer',\n",
       "                                                                                          SimpleImputer()),\n",
       "                                                                                         ('scaler',\n",
       "                                                                                          StandardScaler())]),\n",
       "                                                                         ['Latitude',\n",
       "                                                                          'Longitude',\n",
       "                                                                          'Time_Occurred',\n",
       "                                                                          'Area_ID',\n",
       "                                                                          'Reporting_District_no',\n",
       "                                                                          'Part '\n",
       "                                                                          '1-2',\n",
       "                                                                          'Victim_Age',\n",
       "                                                                          'Premise_Code',\n",
       "                                                                          'Weapon_Used_Code']),\n",
       "                                                                        ('categoric',\n",
       "                                                                         Pipeline(steps=[('i...\n",
       "                                                                         ['Location',\n",
       "                                                                          'Area_Name',\n",
       "                                                                          'Modus_Operandi',\n",
       "                                                                          'Victim_Sex',\n",
       "                                                                          'Victim_Descent',\n",
       "                                                                          'Premise_Description',\n",
       "                                                                          'Weapon_Description',\n",
       "                                                                          'Status',\n",
       "                                                                          'Status_Description',\n",
       "                                                                          'Month_Occurred',\n",
       "                                                                          'Date_Occurred'])])),\n",
       "                                       ('classifier2', SVC())]),\n",
       "             n_jobs=-1,\n",
       "             param_grid={'classifier2__C': [0.1, 1],\n",
       "                         'classifier2__gamma': ['scale', 'auto', 1.0, 0.1],\n",
       "                         'classifier2__kernel': ['poly']},\n",
       "             scoring='accuracy')"
      ]
     },
     "execution_count": 46,
     "metadata": {},
     "output_type": "execute_result"
    }
   ],
   "source": [
    "model2 = Pipeline([\n",
    "    ('column_transformer', ct),\n",
    "    ('classifier2',SVC())\n",
    "])\n",
    "param_grid2 = {\n",
    "   'classifier2__C': [0.1, 1],  \n",
    "              'classifier2__gamma': ['scale','auto',1.0 ,0.1], \n",
    "              'classifier2__kernel': ['poly']\n",
    "                                      }\n",
    "grid_search2 = GridSearchCV(model2, param_grid2, cv=3, n_jobs=-1, scoring='accuracy')  \n",
    "grid_search2.fit(x_train, y_train)"
   ]
  },
  {
   "cell_type": "code",
   "execution_count": 47,
   "id": "a08cee39",
   "metadata": {
    "execution": {
     "iopub.execute_input": "2024-08-02T11:52:18.058062Z",
     "iopub.status.busy": "2024-08-02T11:52:18.057632Z",
     "iopub.status.idle": "2024-08-02T11:52:18.064294Z",
     "shell.execute_reply": "2024-08-02T11:52:18.063298Z"
    },
    "papermill": {
     "duration": 0.038094,
     "end_time": "2024-08-02T11:52:18.066362",
     "exception": false,
     "start_time": "2024-08-02T11:52:18.028268",
     "status": "completed"
    },
    "tags": []
   },
   "outputs": [
    {
     "data": {
      "text/plain": [
       "{'classifier2__C': 0.1,\n",
       " 'classifier2__gamma': 1.0,\n",
       " 'classifier2__kernel': 'poly'}"
      ]
     },
     "execution_count": 47,
     "metadata": {},
     "output_type": "execute_result"
    }
   ],
   "source": [
    "grid_search2.best_params_"
   ]
  },
  {
   "cell_type": "code",
   "execution_count": 48,
   "id": "2c1c7985",
   "metadata": {
    "execution": {
     "iopub.execute_input": "2024-08-02T11:52:18.124130Z",
     "iopub.status.busy": "2024-08-02T11:52:18.123671Z",
     "iopub.status.idle": "2024-08-02T11:52:18.130523Z",
     "shell.execute_reply": "2024-08-02T11:52:18.129510Z"
    },
    "papermill": {
     "duration": 0.038446,
     "end_time": "2024-08-02T11:52:18.132947",
     "exception": false,
     "start_time": "2024-08-02T11:52:18.094501",
     "status": "completed"
    },
    "tags": []
   },
   "outputs": [
    {
     "data": {
      "text/plain": [
       "0.8672222222222222"
      ]
     },
     "execution_count": 48,
     "metadata": {},
     "output_type": "execute_result"
    }
   ],
   "source": [
    "grid_search2.best_score_"
   ]
  },
  {
   "cell_type": "code",
   "execution_count": 49,
   "id": "47260e7d",
   "metadata": {
    "execution": {
     "iopub.execute_input": "2024-08-02T11:52:18.191393Z",
     "iopub.status.busy": "2024-08-02T11:52:18.190996Z",
     "iopub.status.idle": "2024-08-02T11:53:12.942138Z",
     "shell.execute_reply": "2024-08-02T11:53:12.940830Z"
    },
    "papermill": {
     "duration": 54.783514,
     "end_time": "2024-08-02T11:53:12.944857",
     "exception": false,
     "start_time": "2024-08-02T11:52:18.161343",
     "status": "completed"
    },
    "tags": []
   },
   "outputs": [],
   "source": [
    "grid_search2.best_estimator_.fit(x_train, y_train)\n",
    "y_pred12=grid_search2.best_estimator_.predict(x_val)"
   ]
  },
  {
   "cell_type": "code",
   "execution_count": 50,
   "id": "caa998f5",
   "metadata": {
    "execution": {
     "iopub.execute_input": "2024-08-02T11:53:13.002522Z",
     "iopub.status.busy": "2024-08-02T11:53:13.002125Z",
     "iopub.status.idle": "2024-08-02T11:53:13.012918Z",
     "shell.execute_reply": "2024-08-02T11:53:13.011713Z"
    },
    "papermill": {
     "duration": 0.042127,
     "end_time": "2024-08-02T11:53:13.015025",
     "exception": false,
     "start_time": "2024-08-02T11:53:12.972898",
     "status": "completed"
    },
    "tags": []
   },
   "outputs": [
    {
     "data": {
      "text/plain": [
       "0.869"
      ]
     },
     "execution_count": 50,
     "metadata": {},
     "output_type": "execute_result"
    }
   ],
   "source": [
    "skm.accuracy_score(y_val,y_pred12)"
   ]
  },
  {
   "cell_type": "code",
   "execution_count": 51,
   "id": "ea1e2c23",
   "metadata": {
    "execution": {
     "iopub.execute_input": "2024-08-02T11:53:13.074248Z",
     "iopub.status.busy": "2024-08-02T11:53:13.073038Z",
     "iopub.status.idle": "2024-08-02T11:53:13.137292Z",
     "shell.execute_reply": "2024-08-02T11:53:13.135901Z"
    },
    "papermill": {
     "duration": 0.096568,
     "end_time": "2024-08-02T11:53:13.139828",
     "exception": false,
     "start_time": "2024-08-02T11:53:13.043260",
     "status": "completed"
    },
    "tags": []
   },
   "outputs": [
    {
     "name": "stdout",
     "output_type": "stream",
     "text": [
      "                               precision    recall  f1-score   support\n",
      "\n",
      "       Crimes against Persons       0.40      0.22      0.29        18\n",
      "  Crimes against Public Order       0.71      0.61      0.66       181\n",
      "Fraud and White-Collar Crimes       0.74      0.83      0.78       139\n",
      "                 Other Crimes       0.33      0.05      0.09        19\n",
      "              Property Crimes       0.93      0.94      0.93      1151\n",
      "               Violent Crimes       0.82      0.88      0.85       492\n",
      "\n",
      "                     accuracy                           0.87      2000\n",
      "                    macro avg       0.66      0.59      0.60      2000\n",
      "                 weighted avg       0.86      0.87      0.86      2000\n",
      "\n"
     ]
    }
   ],
   "source": [
    "print(skm.classification_report(y_val,y_pred12))\n"
   ]
  },
  {
   "cell_type": "code",
   "execution_count": 52,
   "id": "8976f030",
   "metadata": {
    "execution": {
     "iopub.execute_input": "2024-08-02T11:53:13.197985Z",
     "iopub.status.busy": "2024-08-02T11:53:13.197585Z",
     "iopub.status.idle": "2024-08-02T11:53:13.212352Z",
     "shell.execute_reply": "2024-08-02T11:53:13.211050Z"
    },
    "papermill": {
     "duration": 0.046726,
     "end_time": "2024-08-02T11:53:13.214673",
     "exception": false,
     "start_time": "2024-08-02T11:53:13.167947",
     "status": "completed"
    },
    "tags": []
   },
   "outputs": [
    {
     "name": "stdout",
     "output_type": "stream",
     "text": [
      "[[   4    1    1    0    0   12]\n",
      " [   1  110   20    2   17   31]\n",
      " [   0    9  115    0   13    2]\n",
      " [   0    5    7    1    6    0]\n",
      " [   3   14   10    0 1077   47]\n",
      " [   2   15    2    0   42  431]]\n"
     ]
    }
   ],
   "source": [
    "print(skm.confusion_matrix(y_val,y_pred12))"
   ]
  },
  {
   "cell_type": "markdown",
   "id": "359a9a47",
   "metadata": {
    "papermill": {
     "duration": 0.029014,
     "end_time": "2024-08-02T11:53:13.272708",
     "exception": false,
     "start_time": "2024-08-02T11:53:13.243694",
     "status": "completed"
    },
    "tags": []
   },
   "source": [
    "#  **Model 3(using Logistic Regression) and Hyperparameter tuning**"
   ]
  },
  {
   "cell_type": "code",
   "execution_count": 53,
   "id": "7f0ff5d8",
   "metadata": {
    "execution": {
     "iopub.execute_input": "2024-08-02T11:53:13.332726Z",
     "iopub.status.busy": "2024-08-02T11:53:13.332336Z",
     "iopub.status.idle": "2024-08-02T11:54:40.917719Z",
     "shell.execute_reply": "2024-08-02T11:54:40.916550Z"
    },
    "papermill": {
     "duration": 87.647266,
     "end_time": "2024-08-02T11:54:40.949981",
     "exception": false,
     "start_time": "2024-08-02T11:53:13.302715",
     "status": "completed"
    },
    "tags": []
   },
   "outputs": [
    {
     "name": "stderr",
     "output_type": "stream",
     "text": [
      "/opt/conda/lib/python3.10/site-packages/sklearn/linear_model/_logistic.py:1173: FutureWarning: `penalty='none'`has been deprecated in 1.2 and will be removed in 1.4. To keep the past behaviour, set `penalty=None`.\n",
      "  warnings.warn(\n",
      "/opt/conda/lib/python3.10/site-packages/sklearn/linear_model/_logistic.py:1181: UserWarning: Setting penalty=None will ignore the C and l1_ratio parameters\n",
      "  warnings.warn(\n",
      "/opt/conda/lib/python3.10/site-packages/sklearn/linear_model/_logistic.py:1173: FutureWarning: `penalty='none'`has been deprecated in 1.2 and will be removed in 1.4. To keep the past behaviour, set `penalty=None`.\n",
      "  warnings.warn(\n",
      "/opt/conda/lib/python3.10/site-packages/sklearn/linear_model/_logistic.py:1181: UserWarning: Setting penalty=None will ignore the C and l1_ratio parameters\n",
      "  warnings.warn(\n",
      "/opt/conda/lib/python3.10/site-packages/sklearn/linear_model/_logistic.py:1173: FutureWarning: `penalty='none'`has been deprecated in 1.2 and will be removed in 1.4. To keep the past behaviour, set `penalty=None`.\n",
      "  warnings.warn(\n",
      "/opt/conda/lib/python3.10/site-packages/sklearn/linear_model/_logistic.py:1181: UserWarning: Setting penalty=None will ignore the C and l1_ratio parameters\n",
      "  warnings.warn(\n",
      "/opt/conda/lib/python3.10/site-packages/sklearn/linear_model/_logistic.py:1173: FutureWarning: `penalty='none'`has been deprecated in 1.2 and will be removed in 1.4. To keep the past behaviour, set `penalty=None`.\n",
      "  warnings.warn(\n",
      "/opt/conda/lib/python3.10/site-packages/sklearn/linear_model/_logistic.py:1173: FutureWarning: `penalty='none'`has been deprecated in 1.2 and will be removed in 1.4. To keep the past behaviour, set `penalty=None`.\n",
      "  warnings.warn(\n",
      "/opt/conda/lib/python3.10/site-packages/sklearn/linear_model/_logistic.py:1173: FutureWarning: `penalty='none'`has been deprecated in 1.2 and will be removed in 1.4. To keep the past behaviour, set `penalty=None`.\n",
      "  warnings.warn(\n",
      "/opt/conda/lib/python3.10/site-packages/sklearn/linear_model/_logistic.py:1173: FutureWarning: `penalty='none'`has been deprecated in 1.2 and will be removed in 1.4. To keep the past behaviour, set `penalty=None`.\n",
      "  warnings.warn(\n",
      "/opt/conda/lib/python3.10/site-packages/sklearn/linear_model/_logistic.py:1181: UserWarning: Setting penalty=None will ignore the C and l1_ratio parameters\n",
      "  warnings.warn(\n",
      "/opt/conda/lib/python3.10/site-packages/sklearn/linear_model/_logistic.py:1173: FutureWarning: `penalty='none'`has been deprecated in 1.2 and will be removed in 1.4. To keep the past behaviour, set `penalty=None`.\n",
      "  warnings.warn(\n",
      "/opt/conda/lib/python3.10/site-packages/sklearn/linear_model/_logistic.py:1181: UserWarning: Setting penalty=None will ignore the C and l1_ratio parameters\n",
      "  warnings.warn(\n",
      "/opt/conda/lib/python3.10/site-packages/sklearn/linear_model/_logistic.py:1173: FutureWarning: `penalty='none'`has been deprecated in 1.2 and will be removed in 1.4. To keep the past behaviour, set `penalty=None`.\n",
      "  warnings.warn(\n",
      "/opt/conda/lib/python3.10/site-packages/sklearn/linear_model/_logistic.py:1181: UserWarning: Setting penalty=None will ignore the C and l1_ratio parameters\n",
      "  warnings.warn(\n",
      "/opt/conda/lib/python3.10/site-packages/sklearn/model_selection/_validation.py:378: FitFailedWarning: \n",
      "18 fits failed out of a total of 36.\n",
      "The score on these train-test partitions for these parameters will be set to nan.\n",
      "If these failures are not expected, you can try to debug them by setting error_score='raise'.\n",
      "\n",
      "Below are more details about the failures:\n",
      "--------------------------------------------------------------------------------\n",
      "9 fits failed with the following error:\n",
      "Traceback (most recent call last):\n",
      "  File \"/opt/conda/lib/python3.10/site-packages/sklearn/model_selection/_validation.py\", line 686, in _fit_and_score\n",
      "    estimator.fit(X_train, y_train, **fit_params)\n",
      "  File \"/opt/conda/lib/python3.10/site-packages/sklearn/pipeline.py\", line 405, in fit\n",
      "    self._final_estimator.fit(Xt, y, **fit_params_last_step)\n",
      "  File \"/opt/conda/lib/python3.10/site-packages/sklearn/linear_model/_logistic.py\", line 1162, in fit\n",
      "    solver = _check_solver(self.solver, self.penalty, self.dual)\n",
      "  File \"/opt/conda/lib/python3.10/site-packages/sklearn/linear_model/_logistic.py\", line 54, in _check_solver\n",
      "    raise ValueError(\n",
      "ValueError: Solver lbfgs supports only 'l2' or 'none' penalties, got l1 penalty.\n",
      "\n",
      "--------------------------------------------------------------------------------\n",
      "9 fits failed with the following error:\n",
      "Traceback (most recent call last):\n",
      "  File \"/opt/conda/lib/python3.10/site-packages/sklearn/model_selection/_validation.py\", line 686, in _fit_and_score\n",
      "    estimator.fit(X_train, y_train, **fit_params)\n",
      "  File \"/opt/conda/lib/python3.10/site-packages/sklearn/pipeline.py\", line 405, in fit\n",
      "    self._final_estimator.fit(Xt, y, **fit_params_last_step)\n",
      "  File \"/opt/conda/lib/python3.10/site-packages/sklearn/linear_model/_logistic.py\", line 1162, in fit\n",
      "    solver = _check_solver(self.solver, self.penalty, self.dual)\n",
      "  File \"/opt/conda/lib/python3.10/site-packages/sklearn/linear_model/_logistic.py\", line 54, in _check_solver\n",
      "    raise ValueError(\n",
      "ValueError: Solver lbfgs supports only 'l2' or 'none' penalties, got elasticnet penalty.\n",
      "\n",
      "  warnings.warn(some_fits_failed_message, FitFailedWarning)\n",
      "/opt/conda/lib/python3.10/site-packages/sklearn/model_selection/_search.py:952: UserWarning: One or more of the test scores are non-finite: [       nan 0.82922222        nan 0.84344444        nan 0.84833333\n",
      "        nan 0.84344444        nan 0.85261111        nan 0.84344444]\n",
      "  warnings.warn(\n"
     ]
    },
    {
     "data": {
      "text/html": [
       "<style>#sk-container-id-3 {color: black;background-color: white;}#sk-container-id-3 pre{padding: 0;}#sk-container-id-3 div.sk-toggleable {background-color: white;}#sk-container-id-3 label.sk-toggleable__label {cursor: pointer;display: block;width: 100%;margin-bottom: 0;padding: 0.3em;box-sizing: border-box;text-align: center;}#sk-container-id-3 label.sk-toggleable__label-arrow:before {content: \"▸\";float: left;margin-right: 0.25em;color: #696969;}#sk-container-id-3 label.sk-toggleable__label-arrow:hover:before {color: black;}#sk-container-id-3 div.sk-estimator:hover label.sk-toggleable__label-arrow:before {color: black;}#sk-container-id-3 div.sk-toggleable__content {max-height: 0;max-width: 0;overflow: hidden;text-align: left;background-color: #f0f8ff;}#sk-container-id-3 div.sk-toggleable__content pre {margin: 0.2em;color: black;border-radius: 0.25em;background-color: #f0f8ff;}#sk-container-id-3 input.sk-toggleable__control:checked~div.sk-toggleable__content {max-height: 200px;max-width: 100%;overflow: auto;}#sk-container-id-3 input.sk-toggleable__control:checked~label.sk-toggleable__label-arrow:before {content: \"▾\";}#sk-container-id-3 div.sk-estimator input.sk-toggleable__control:checked~label.sk-toggleable__label {background-color: #d4ebff;}#sk-container-id-3 div.sk-label input.sk-toggleable__control:checked~label.sk-toggleable__label {background-color: #d4ebff;}#sk-container-id-3 input.sk-hidden--visually {border: 0;clip: rect(1px 1px 1px 1px);clip: rect(1px, 1px, 1px, 1px);height: 1px;margin: -1px;overflow: hidden;padding: 0;position: absolute;width: 1px;}#sk-container-id-3 div.sk-estimator {font-family: monospace;background-color: #f0f8ff;border: 1px dotted black;border-radius: 0.25em;box-sizing: border-box;margin-bottom: 0.5em;}#sk-container-id-3 div.sk-estimator:hover {background-color: #d4ebff;}#sk-container-id-3 div.sk-parallel-item::after {content: \"\";width: 100%;border-bottom: 1px solid gray;flex-grow: 1;}#sk-container-id-3 div.sk-label:hover label.sk-toggleable__label {background-color: #d4ebff;}#sk-container-id-3 div.sk-serial::before {content: \"\";position: absolute;border-left: 1px solid gray;box-sizing: border-box;top: 0;bottom: 0;left: 50%;z-index: 0;}#sk-container-id-3 div.sk-serial {display: flex;flex-direction: column;align-items: center;background-color: white;padding-right: 0.2em;padding-left: 0.2em;position: relative;}#sk-container-id-3 div.sk-item {position: relative;z-index: 1;}#sk-container-id-3 div.sk-parallel {display: flex;align-items: stretch;justify-content: center;background-color: white;position: relative;}#sk-container-id-3 div.sk-item::before, #sk-container-id-3 div.sk-parallel-item::before {content: \"\";position: absolute;border-left: 1px solid gray;box-sizing: border-box;top: 0;bottom: 0;left: 50%;z-index: -1;}#sk-container-id-3 div.sk-parallel-item {display: flex;flex-direction: column;z-index: 1;position: relative;background-color: white;}#sk-container-id-3 div.sk-parallel-item:first-child::after {align-self: flex-end;width: 50%;}#sk-container-id-3 div.sk-parallel-item:last-child::after {align-self: flex-start;width: 50%;}#sk-container-id-3 div.sk-parallel-item:only-child::after {width: 0;}#sk-container-id-3 div.sk-dashed-wrapped {border: 1px dashed gray;margin: 0 0.4em 0.5em 0.4em;box-sizing: border-box;padding-bottom: 0.4em;background-color: white;}#sk-container-id-3 div.sk-label label {font-family: monospace;font-weight: bold;display: inline-block;line-height: 1.2em;}#sk-container-id-3 div.sk-label-container {text-align: center;}#sk-container-id-3 div.sk-container {/* jupyter's `normalize.less` sets `[hidden] { display: none; }` but bootstrap.min.css set `[hidden] { display: none !important; }` so we also need the `!important` here to be able to override the default hidden behavior on the sphinx rendered scikit-learn.org. See: https://github.com/scikit-learn/scikit-learn/issues/21755 */display: inline-block !important;position: relative;}#sk-container-id-3 div.sk-text-repr-fallback {display: none;}</style><div id=\"sk-container-id-3\" class=\"sk-top-container\"><div class=\"sk-text-repr-fallback\"><pre>GridSearchCV(cv=3,\n",
       "             estimator=Pipeline(steps=[(&#x27;column_transformer&#x27;,\n",
       "                                        ColumnTransformer(transformers=[(&#x27;numeric&#x27;,\n",
       "                                                                         Pipeline(steps=[(&#x27;imputer&#x27;,\n",
       "                                                                                          SimpleImputer()),\n",
       "                                                                                         (&#x27;scaler&#x27;,\n",
       "                                                                                          StandardScaler())]),\n",
       "                                                                         [&#x27;Latitude&#x27;,\n",
       "                                                                          &#x27;Longitude&#x27;,\n",
       "                                                                          &#x27;Time_Occurred&#x27;,\n",
       "                                                                          &#x27;Area_ID&#x27;,\n",
       "                                                                          &#x27;Reporting_District_no&#x27;,\n",
       "                                                                          &#x27;Part &#x27;\n",
       "                                                                          &#x27;1-2&#x27;,\n",
       "                                                                          &#x27;Victim_Age&#x27;,\n",
       "                                                                          &#x27;Premise_Code&#x27;,\n",
       "                                                                          &#x27;Weapon_Used_Code&#x27;]),\n",
       "                                                                        (&#x27;categoric&#x27;,\n",
       "                                                                         Pipeline(steps=[(&#x27;i...\n",
       "                                                                         [&#x27;Location&#x27;,\n",
       "                                                                          &#x27;Area_Name&#x27;,\n",
       "                                                                          &#x27;Modus_Operandi&#x27;,\n",
       "                                                                          &#x27;Victim_Sex&#x27;,\n",
       "                                                                          &#x27;Victim_Descent&#x27;,\n",
       "                                                                          &#x27;Premise_Description&#x27;,\n",
       "                                                                          &#x27;Weapon_Description&#x27;,\n",
       "                                                                          &#x27;Status&#x27;,\n",
       "                                                                          &#x27;Status_Description&#x27;,\n",
       "                                                                          &#x27;Month_Occurred&#x27;,\n",
       "                                                                          &#x27;Date_Occurred&#x27;])])),\n",
       "                                       (&#x27;classifier3&#x27;,\n",
       "                                        LogisticRegression(max_iter=1000))]),\n",
       "             n_jobs=-1,\n",
       "             param_grid={&#x27;classifier3__C&#x27;: [0.1, 1, 10],\n",
       "                         &#x27;classifier3__penalty&#x27;: [&#x27;l1&#x27;, &#x27;l2&#x27;, &#x27;elasticnet&#x27;,\n",
       "                                                  &#x27;none&#x27;]},\n",
       "             scoring=&#x27;accuracy&#x27;)</pre><b>In a Jupyter environment, please rerun this cell to show the HTML representation or trust the notebook. <br />On GitHub, the HTML representation is unable to render, please try loading this page with nbviewer.org.</b></div><div class=\"sk-container\" hidden><div class=\"sk-item sk-dashed-wrapped\"><div class=\"sk-label-container\"><div class=\"sk-label sk-toggleable\"><input class=\"sk-toggleable__control sk-hidden--visually\" id=\"sk-estimator-id-21\" type=\"checkbox\" ><label for=\"sk-estimator-id-21\" class=\"sk-toggleable__label sk-toggleable__label-arrow\">GridSearchCV</label><div class=\"sk-toggleable__content\"><pre>GridSearchCV(cv=3,\n",
       "             estimator=Pipeline(steps=[(&#x27;column_transformer&#x27;,\n",
       "                                        ColumnTransformer(transformers=[(&#x27;numeric&#x27;,\n",
       "                                                                         Pipeline(steps=[(&#x27;imputer&#x27;,\n",
       "                                                                                          SimpleImputer()),\n",
       "                                                                                         (&#x27;scaler&#x27;,\n",
       "                                                                                          StandardScaler())]),\n",
       "                                                                         [&#x27;Latitude&#x27;,\n",
       "                                                                          &#x27;Longitude&#x27;,\n",
       "                                                                          &#x27;Time_Occurred&#x27;,\n",
       "                                                                          &#x27;Area_ID&#x27;,\n",
       "                                                                          &#x27;Reporting_District_no&#x27;,\n",
       "                                                                          &#x27;Part &#x27;\n",
       "                                                                          &#x27;1-2&#x27;,\n",
       "                                                                          &#x27;Victim_Age&#x27;,\n",
       "                                                                          &#x27;Premise_Code&#x27;,\n",
       "                                                                          &#x27;Weapon_Used_Code&#x27;]),\n",
       "                                                                        (&#x27;categoric&#x27;,\n",
       "                                                                         Pipeline(steps=[(&#x27;i...\n",
       "                                                                         [&#x27;Location&#x27;,\n",
       "                                                                          &#x27;Area_Name&#x27;,\n",
       "                                                                          &#x27;Modus_Operandi&#x27;,\n",
       "                                                                          &#x27;Victim_Sex&#x27;,\n",
       "                                                                          &#x27;Victim_Descent&#x27;,\n",
       "                                                                          &#x27;Premise_Description&#x27;,\n",
       "                                                                          &#x27;Weapon_Description&#x27;,\n",
       "                                                                          &#x27;Status&#x27;,\n",
       "                                                                          &#x27;Status_Description&#x27;,\n",
       "                                                                          &#x27;Month_Occurred&#x27;,\n",
       "                                                                          &#x27;Date_Occurred&#x27;])])),\n",
       "                                       (&#x27;classifier3&#x27;,\n",
       "                                        LogisticRegression(max_iter=1000))]),\n",
       "             n_jobs=-1,\n",
       "             param_grid={&#x27;classifier3__C&#x27;: [0.1, 1, 10],\n",
       "                         &#x27;classifier3__penalty&#x27;: [&#x27;l1&#x27;, &#x27;l2&#x27;, &#x27;elasticnet&#x27;,\n",
       "                                                  &#x27;none&#x27;]},\n",
       "             scoring=&#x27;accuracy&#x27;)</pre></div></div></div><div class=\"sk-parallel\"><div class=\"sk-parallel-item\"><div class=\"sk-item\"><div class=\"sk-label-container\"><div class=\"sk-label sk-toggleable\"><input class=\"sk-toggleable__control sk-hidden--visually\" id=\"sk-estimator-id-22\" type=\"checkbox\" ><label for=\"sk-estimator-id-22\" class=\"sk-toggleable__label sk-toggleable__label-arrow\">estimator: Pipeline</label><div class=\"sk-toggleable__content\"><pre>Pipeline(steps=[(&#x27;column_transformer&#x27;,\n",
       "                 ColumnTransformer(transformers=[(&#x27;numeric&#x27;,\n",
       "                                                  Pipeline(steps=[(&#x27;imputer&#x27;,\n",
       "                                                                   SimpleImputer()),\n",
       "                                                                  (&#x27;scaler&#x27;,\n",
       "                                                                   StandardScaler())]),\n",
       "                                                  [&#x27;Latitude&#x27;, &#x27;Longitude&#x27;,\n",
       "                                                   &#x27;Time_Occurred&#x27;, &#x27;Area_ID&#x27;,\n",
       "                                                   &#x27;Reporting_District_no&#x27;,\n",
       "                                                   &#x27;Part 1-2&#x27;, &#x27;Victim_Age&#x27;,\n",
       "                                                   &#x27;Premise_Code&#x27;,\n",
       "                                                   &#x27;Weapon_Used_Code&#x27;]),\n",
       "                                                 (&#x27;categoric&#x27;,\n",
       "                                                  Pipeline(steps=[(&#x27;imputer&#x27;,\n",
       "                                                                   SimpleImputer(strategy=&#x27;most_frequent&#x27;)),\n",
       "                                                                  (&#x27;Encoder&#x27;,\n",
       "                                                                   OneHotEncoder(handle_unknown=&#x27;ignore&#x27;))]),\n",
       "                                                  [&#x27;Location&#x27;, &#x27;Area_Name&#x27;,\n",
       "                                                   &#x27;Modus_Operandi&#x27;,\n",
       "                                                   &#x27;Victim_Sex&#x27;,\n",
       "                                                   &#x27;Victim_Descent&#x27;,\n",
       "                                                   &#x27;Premise_Description&#x27;,\n",
       "                                                   &#x27;Weapon_Description&#x27;,\n",
       "                                                   &#x27;Status&#x27;,\n",
       "                                                   &#x27;Status_Description&#x27;,\n",
       "                                                   &#x27;Month_Occurred&#x27;,\n",
       "                                                   &#x27;Date_Occurred&#x27;])])),\n",
       "                (&#x27;classifier3&#x27;, LogisticRegression(max_iter=1000))])</pre></div></div></div><div class=\"sk-serial\"><div class=\"sk-item\"><div class=\"sk-serial\"><div class=\"sk-item sk-dashed-wrapped\"><div class=\"sk-label-container\"><div class=\"sk-label sk-toggleable\"><input class=\"sk-toggleable__control sk-hidden--visually\" id=\"sk-estimator-id-23\" type=\"checkbox\" ><label for=\"sk-estimator-id-23\" class=\"sk-toggleable__label sk-toggleable__label-arrow\">column_transformer: ColumnTransformer</label><div class=\"sk-toggleable__content\"><pre>ColumnTransformer(transformers=[(&#x27;numeric&#x27;,\n",
       "                                 Pipeline(steps=[(&#x27;imputer&#x27;, SimpleImputer()),\n",
       "                                                 (&#x27;scaler&#x27;, StandardScaler())]),\n",
       "                                 [&#x27;Latitude&#x27;, &#x27;Longitude&#x27;, &#x27;Time_Occurred&#x27;,\n",
       "                                  &#x27;Area_ID&#x27;, &#x27;Reporting_District_no&#x27;,\n",
       "                                  &#x27;Part 1-2&#x27;, &#x27;Victim_Age&#x27;, &#x27;Premise_Code&#x27;,\n",
       "                                  &#x27;Weapon_Used_Code&#x27;]),\n",
       "                                (&#x27;categoric&#x27;,\n",
       "                                 Pipeline(steps=[(&#x27;imputer&#x27;,\n",
       "                                                  SimpleImputer(strategy=&#x27;most_frequent&#x27;)),\n",
       "                                                 (&#x27;Encoder&#x27;,\n",
       "                                                  OneHotEncoder(handle_unknown=&#x27;ignore&#x27;))]),\n",
       "                                 [&#x27;Location&#x27;, &#x27;Area_Name&#x27;, &#x27;Modus_Operandi&#x27;,\n",
       "                                  &#x27;Victim_Sex&#x27;, &#x27;Victim_Descent&#x27;,\n",
       "                                  &#x27;Premise_Description&#x27;, &#x27;Weapon_Description&#x27;,\n",
       "                                  &#x27;Status&#x27;, &#x27;Status_Description&#x27;,\n",
       "                                  &#x27;Month_Occurred&#x27;, &#x27;Date_Occurred&#x27;])])</pre></div></div></div><div class=\"sk-parallel\"><div class=\"sk-parallel-item\"><div class=\"sk-item\"><div class=\"sk-label-container\"><div class=\"sk-label sk-toggleable\"><input class=\"sk-toggleable__control sk-hidden--visually\" id=\"sk-estimator-id-24\" type=\"checkbox\" ><label for=\"sk-estimator-id-24\" class=\"sk-toggleable__label sk-toggleable__label-arrow\">numeric</label><div class=\"sk-toggleable__content\"><pre>[&#x27;Latitude&#x27;, &#x27;Longitude&#x27;, &#x27;Time_Occurred&#x27;, &#x27;Area_ID&#x27;, &#x27;Reporting_District_no&#x27;, &#x27;Part 1-2&#x27;, &#x27;Victim_Age&#x27;, &#x27;Premise_Code&#x27;, &#x27;Weapon_Used_Code&#x27;]</pre></div></div></div><div class=\"sk-serial\"><div class=\"sk-item\"><div class=\"sk-serial\"><div class=\"sk-item\"><div class=\"sk-estimator sk-toggleable\"><input class=\"sk-toggleable__control sk-hidden--visually\" id=\"sk-estimator-id-25\" type=\"checkbox\" ><label for=\"sk-estimator-id-25\" class=\"sk-toggleable__label sk-toggleable__label-arrow\">SimpleImputer</label><div class=\"sk-toggleable__content\"><pre>SimpleImputer()</pre></div></div></div><div class=\"sk-item\"><div class=\"sk-estimator sk-toggleable\"><input class=\"sk-toggleable__control sk-hidden--visually\" id=\"sk-estimator-id-26\" type=\"checkbox\" ><label for=\"sk-estimator-id-26\" class=\"sk-toggleable__label sk-toggleable__label-arrow\">StandardScaler</label><div class=\"sk-toggleable__content\"><pre>StandardScaler()</pre></div></div></div></div></div></div></div></div><div class=\"sk-parallel-item\"><div class=\"sk-item\"><div class=\"sk-label-container\"><div class=\"sk-label sk-toggleable\"><input class=\"sk-toggleable__control sk-hidden--visually\" id=\"sk-estimator-id-27\" type=\"checkbox\" ><label for=\"sk-estimator-id-27\" class=\"sk-toggleable__label sk-toggleable__label-arrow\">categoric</label><div class=\"sk-toggleable__content\"><pre>[&#x27;Location&#x27;, &#x27;Area_Name&#x27;, &#x27;Modus_Operandi&#x27;, &#x27;Victim_Sex&#x27;, &#x27;Victim_Descent&#x27;, &#x27;Premise_Description&#x27;, &#x27;Weapon_Description&#x27;, &#x27;Status&#x27;, &#x27;Status_Description&#x27;, &#x27;Month_Occurred&#x27;, &#x27;Date_Occurred&#x27;]</pre></div></div></div><div class=\"sk-serial\"><div class=\"sk-item\"><div class=\"sk-serial\"><div class=\"sk-item\"><div class=\"sk-estimator sk-toggleable\"><input class=\"sk-toggleable__control sk-hidden--visually\" id=\"sk-estimator-id-28\" type=\"checkbox\" ><label for=\"sk-estimator-id-28\" class=\"sk-toggleable__label sk-toggleable__label-arrow\">SimpleImputer</label><div class=\"sk-toggleable__content\"><pre>SimpleImputer(strategy=&#x27;most_frequent&#x27;)</pre></div></div></div><div class=\"sk-item\"><div class=\"sk-estimator sk-toggleable\"><input class=\"sk-toggleable__control sk-hidden--visually\" id=\"sk-estimator-id-29\" type=\"checkbox\" ><label for=\"sk-estimator-id-29\" class=\"sk-toggleable__label sk-toggleable__label-arrow\">OneHotEncoder</label><div class=\"sk-toggleable__content\"><pre>OneHotEncoder(handle_unknown=&#x27;ignore&#x27;)</pre></div></div></div></div></div></div></div></div></div></div><div class=\"sk-item\"><div class=\"sk-estimator sk-toggleable\"><input class=\"sk-toggleable__control sk-hidden--visually\" id=\"sk-estimator-id-30\" type=\"checkbox\" ><label for=\"sk-estimator-id-30\" class=\"sk-toggleable__label sk-toggleable__label-arrow\">LogisticRegression</label><div class=\"sk-toggleable__content\"><pre>LogisticRegression(max_iter=1000)</pre></div></div></div></div></div></div></div></div></div></div></div></div>"
      ],
      "text/plain": [
       "GridSearchCV(cv=3,\n",
       "             estimator=Pipeline(steps=[('column_transformer',\n",
       "                                        ColumnTransformer(transformers=[('numeric',\n",
       "                                                                         Pipeline(steps=[('imputer',\n",
       "                                                                                          SimpleImputer()),\n",
       "                                                                                         ('scaler',\n",
       "                                                                                          StandardScaler())]),\n",
       "                                                                         ['Latitude',\n",
       "                                                                          'Longitude',\n",
       "                                                                          'Time_Occurred',\n",
       "                                                                          'Area_ID',\n",
       "                                                                          'Reporting_District_no',\n",
       "                                                                          'Part '\n",
       "                                                                          '1-2',\n",
       "                                                                          'Victim_Age',\n",
       "                                                                          'Premise_Code',\n",
       "                                                                          'Weapon_Used_Code']),\n",
       "                                                                        ('categoric',\n",
       "                                                                         Pipeline(steps=[('i...\n",
       "                                                                         ['Location',\n",
       "                                                                          'Area_Name',\n",
       "                                                                          'Modus_Operandi',\n",
       "                                                                          'Victim_Sex',\n",
       "                                                                          'Victim_Descent',\n",
       "                                                                          'Premise_Description',\n",
       "                                                                          'Weapon_Description',\n",
       "                                                                          'Status',\n",
       "                                                                          'Status_Description',\n",
       "                                                                          'Month_Occurred',\n",
       "                                                                          'Date_Occurred'])])),\n",
       "                                       ('classifier3',\n",
       "                                        LogisticRegression(max_iter=1000))]),\n",
       "             n_jobs=-1,\n",
       "             param_grid={'classifier3__C': [0.1, 1, 10],\n",
       "                         'classifier3__penalty': ['l1', 'l2', 'elasticnet',\n",
       "                                                  'none']},\n",
       "             scoring='accuracy')"
      ]
     },
     "execution_count": 53,
     "metadata": {},
     "output_type": "execute_result"
    }
   ],
   "source": [
    "model3 = Pipeline([\n",
    "    ('column_transformer', ct),\n",
    "    ('classifier3', LogisticRegression(max_iter=1000))\n",
    "])\n",
    "param_grid3 = {\n",
    "   'classifier3__C': [0.1,1,10],\n",
    "    'classifier3__penalty': ['l1','l2','elasticnet','none']\n",
    "                                      }\n",
    "grid_search3 = GridSearchCV(model3, param_grid3, cv=3, n_jobs=-1, scoring='accuracy')  \n",
    "grid_search3.fit(x_train, y_train)"
   ]
  },
  {
   "cell_type": "code",
   "execution_count": 54,
   "id": "6ac64d33",
   "metadata": {
    "execution": {
     "iopub.execute_input": "2024-08-02T11:54:41.010784Z",
     "iopub.status.busy": "2024-08-02T11:54:41.010372Z",
     "iopub.status.idle": "2024-08-02T11:54:41.017740Z",
     "shell.execute_reply": "2024-08-02T11:54:41.016611Z"
    },
    "papermill": {
     "duration": 0.041822,
     "end_time": "2024-08-02T11:54:41.021252",
     "exception": false,
     "start_time": "2024-08-02T11:54:40.979430",
     "status": "completed"
    },
    "tags": []
   },
   "outputs": [
    {
     "data": {
      "text/plain": [
       "{'classifier3__C': 10, 'classifier3__penalty': 'l2'}"
      ]
     },
     "execution_count": 54,
     "metadata": {},
     "output_type": "execute_result"
    }
   ],
   "source": [
    "grid_search3.best_params_"
   ]
  },
  {
   "cell_type": "code",
   "execution_count": 55,
   "id": "2fdf5233",
   "metadata": {
    "execution": {
     "iopub.execute_input": "2024-08-02T11:54:41.086343Z",
     "iopub.status.busy": "2024-08-02T11:54:41.085943Z",
     "iopub.status.idle": "2024-08-02T11:54:41.093480Z",
     "shell.execute_reply": "2024-08-02T11:54:41.092362Z"
    },
    "papermill": {
     "duration": 0.042571,
     "end_time": "2024-08-02T11:54:41.095975",
     "exception": false,
     "start_time": "2024-08-02T11:54:41.053404",
     "status": "completed"
    },
    "tags": []
   },
   "outputs": [
    {
     "data": {
      "text/plain": [
       "0.8526111111111111"
      ]
     },
     "execution_count": 55,
     "metadata": {},
     "output_type": "execute_result"
    }
   ],
   "source": [
    "grid_search3.best_score_"
   ]
  },
  {
   "cell_type": "code",
   "execution_count": 56,
   "id": "4d5daaff",
   "metadata": {
    "execution": {
     "iopub.execute_input": "2024-08-02T11:54:41.159221Z",
     "iopub.status.busy": "2024-08-02T11:54:41.158782Z",
     "iopub.status.idle": "2024-08-02T11:55:28.507982Z",
     "shell.execute_reply": "2024-08-02T11:55:28.506712Z"
    },
    "papermill": {
     "duration": 47.414021,
     "end_time": "2024-08-02T11:55:28.540044",
     "exception": false,
     "start_time": "2024-08-02T11:54:41.126023",
     "status": "completed"
    },
    "tags": []
   },
   "outputs": [
    {
     "data": {
      "text/plain": [
       "0.8575"
      ]
     },
     "execution_count": 56,
     "metadata": {},
     "output_type": "execute_result"
    }
   ],
   "source": [
    "grid_search3.best_estimator_.fit(x_train, y_train)\n",
    "y_pred13=grid_search3.best_estimator_.predict(x_val)\n",
    "skm.accuracy_score(y_val,y_pred13)"
   ]
  },
  {
   "cell_type": "code",
   "execution_count": 57,
   "id": "bf7f7dee",
   "metadata": {
    "execution": {
     "iopub.execute_input": "2024-08-02T11:55:28.602335Z",
     "iopub.status.busy": "2024-08-02T11:55:28.601947Z",
     "iopub.status.idle": "2024-08-02T11:55:28.689539Z",
     "shell.execute_reply": "2024-08-02T11:55:28.688348Z"
    },
    "papermill": {
     "duration": 0.122364,
     "end_time": "2024-08-02T11:55:28.692517",
     "exception": false,
     "start_time": "2024-08-02T11:55:28.570153",
     "status": "completed"
    },
    "tags": []
   },
   "outputs": [
    {
     "name": "stdout",
     "output_type": "stream",
     "text": [
      "                               precision    recall  f1-score   support\n",
      "\n",
      "       Crimes against Persons       0.40      0.11      0.17        18\n",
      "  Crimes against Public Order       0.72      0.59      0.65       181\n",
      "Fraud and White-Collar Crimes       0.80      0.83      0.81       139\n",
      "                 Other Crimes       0.00      0.00      0.00        19\n",
      "              Property Crimes       0.93      0.94      0.93      1151\n",
      "               Violent Crimes       0.77      0.82      0.79       492\n",
      "\n",
      "                     accuracy                           0.86      2000\n",
      "                    macro avg       0.60      0.55      0.56      2000\n",
      "                 weighted avg       0.85      0.86      0.85      2000\n",
      "\n"
     ]
    }
   ],
   "source": [
    "print(skm.classification_report(y_val,y_pred13))"
   ]
  },
  {
   "cell_type": "code",
   "execution_count": 58,
   "id": "dca2c5b4",
   "metadata": {
    "execution": {
     "iopub.execute_input": "2024-08-02T11:55:28.758707Z",
     "iopub.status.busy": "2024-08-02T11:55:28.758296Z",
     "iopub.status.idle": "2024-08-02T11:55:28.773209Z",
     "shell.execute_reply": "2024-08-02T11:55:28.772031Z"
    },
    "papermill": {
     "duration": 0.049576,
     "end_time": "2024-08-02T11:55:28.775733",
     "exception": false,
     "start_time": "2024-08-02T11:55:28.726157",
     "status": "completed"
    },
    "tags": []
   },
   "outputs": [
    {
     "name": "stdout",
     "output_type": "stream",
     "text": [
      "[[   2    2    1    0    0   13]\n",
      " [   2  107   17    2   12   41]\n",
      " [   0    7  115    0    5   12]\n",
      " [   0    5    4    0    1    9]\n",
      " [   0   10    7    0 1086   48]\n",
      " [   1   18    0    0   68  405]]\n"
     ]
    }
   ],
   "source": [
    "print(skm.confusion_matrix(y_val,y_pred13))"
   ]
  },
  {
   "cell_type": "code",
   "execution_count": null,
   "id": "6157ad5d",
   "metadata": {
    "papermill": {
     "duration": 0.030727,
     "end_time": "2024-08-02T11:55:28.837238",
     "exception": false,
     "start_time": "2024-08-02T11:55:28.806511",
     "status": "completed"
    },
    "tags": []
   },
   "outputs": [],
   "source": []
  },
  {
   "cell_type": "markdown",
   "id": "6b01a095",
   "metadata": {
    "papermill": {
     "duration": 0.030923,
     "end_time": "2024-08-02T11:55:28.899964",
     "exception": false,
     "start_time": "2024-08-02T11:55:28.869041",
     "status": "completed"
    },
    "tags": []
   },
   "source": [
    "# **Prediction on Test data using the Best Model(Model1 : Gradient Boosting Classifier)**"
   ]
  },
  {
   "cell_type": "code",
   "execution_count": 59,
   "id": "6853260a",
   "metadata": {
    "execution": {
     "iopub.execute_input": "2024-08-02T11:55:28.962556Z",
     "iopub.status.busy": "2024-08-02T11:55:28.962101Z",
     "iopub.status.idle": "2024-08-02T11:55:29.010228Z",
     "shell.execute_reply": "2024-08-02T11:55:29.009067Z"
    },
    "papermill": {
     "duration": 0.08266,
     "end_time": "2024-08-02T11:55:29.012919",
     "exception": false,
     "start_time": "2024-08-02T11:55:28.930259",
     "status": "completed"
    },
    "tags": []
   },
   "outputs": [],
   "source": [
    "test_data = pd.read_csv('/kaggle/input/crime-cast-forecasting-crime-categories/test.csv')"
   ]
  },
  {
   "cell_type": "code",
   "execution_count": 60,
   "id": "a4e1084f",
   "metadata": {
    "execution": {
     "iopub.execute_input": "2024-08-02T11:55:29.075932Z",
     "iopub.status.busy": "2024-08-02T11:55:29.075462Z",
     "iopub.status.idle": "2024-08-02T11:55:29.131671Z",
     "shell.execute_reply": "2024-08-02T11:55:29.130434Z"
    },
    "papermill": {
     "duration": 0.090039,
     "end_time": "2024-08-02T11:55:29.133918",
     "exception": false,
     "start_time": "2024-08-02T11:55:29.043879",
     "status": "completed"
    },
    "tags": []
   },
   "outputs": [
    {
     "name": "stderr",
     "output_type": "stream",
     "text": [
      "/tmp/ipykernel_17/1312291385.py:1: UserWarning: Could not infer format, so each element will be parsed individually, falling back to `dateutil`. To ensure parsing is consistent and as-expected, please specify a format.\n",
      "  test_data['Date_Occurred']=pd.to_datetime(test_data['Date_Occurred'])\n"
     ]
    }
   ],
   "source": [
    "test_data['Date_Occurred']=pd.to_datetime(test_data['Date_Occurred'])\n",
    "test_data['Month_Occurred'] = test_data['Date_Occurred'].dt.month_name()\n"
   ]
  },
  {
   "cell_type": "code",
   "execution_count": 61,
   "id": "4f77ffc0",
   "metadata": {
    "execution": {
     "iopub.execute_input": "2024-08-02T11:55:29.197895Z",
     "iopub.status.busy": "2024-08-02T11:55:29.196974Z",
     "iopub.status.idle": "2024-08-02T11:55:29.205002Z",
     "shell.execute_reply": "2024-08-02T11:55:29.203712Z"
    },
    "papermill": {
     "duration": 0.042534,
     "end_time": "2024-08-02T11:55:29.207405",
     "exception": false,
     "start_time": "2024-08-02T11:55:29.164871",
     "status": "completed"
    },
    "tags": []
   },
   "outputs": [],
   "source": [
    "test_data.drop(columns=['Cross_Street','Date_Reported'],inplace=True)"
   ]
  },
  {
   "cell_type": "code",
   "execution_count": 62,
   "id": "201e6bfd",
   "metadata": {
    "execution": {
     "iopub.execute_input": "2024-08-02T11:55:29.273694Z",
     "iopub.status.busy": "2024-08-02T11:55:29.273270Z",
     "iopub.status.idle": "2024-08-02T11:55:29.438227Z",
     "shell.execute_reply": "2024-08-02T11:55:29.436986Z"
    },
    "papermill": {
     "duration": 0.203141,
     "end_time": "2024-08-02T11:55:29.441099",
     "exception": false,
     "start_time": "2024-08-02T11:55:29.237958",
     "status": "completed"
    },
    "tags": []
   },
   "outputs": [],
   "source": [
    "y_pred2=grid_search1.predict(test_data)\n"
   ]
  },
  {
   "cell_type": "markdown",
   "id": "057a0268",
   "metadata": {
    "papermill": {
     "duration": 0.03058,
     "end_time": "2024-08-02T11:55:29.502613",
     "exception": false,
     "start_time": "2024-08-02T11:55:29.472033",
     "status": "completed"
    },
    "tags": []
   },
   "source": [
    "# **Submission**"
   ]
  },
  {
   "cell_type": "code",
   "execution_count": 63,
   "id": "c6ec4964",
   "metadata": {
    "execution": {
     "iopub.execute_input": "2024-08-02T11:55:29.566346Z",
     "iopub.status.busy": "2024-08-02T11:55:29.565940Z",
     "iopub.status.idle": "2024-08-02T11:55:29.571868Z",
     "shell.execute_reply": "2024-08-02T11:55:29.570779Z"
    },
    "papermill": {
     "duration": 0.04037,
     "end_time": "2024-08-02T11:55:29.574284",
     "exception": false,
     "start_time": "2024-08-02T11:55:29.533914",
     "status": "completed"
    },
    "tags": []
   },
   "outputs": [],
   "source": [
    "submission = pd.DataFrame({\n",
    "    'ID': range(1, len(y_pred2) + 1),  \n",
    "    'Crime_Category': y_pred2\n",
    "})"
   ]
  },
  {
   "cell_type": "code",
   "execution_count": 64,
   "id": "32e86646",
   "metadata": {
    "execution": {
     "iopub.execute_input": "2024-08-02T11:55:29.637188Z",
     "iopub.status.busy": "2024-08-02T11:55:29.636606Z",
     "iopub.status.idle": "2024-08-02T11:55:29.648993Z",
     "shell.execute_reply": "2024-08-02T11:55:29.647709Z"
    },
    "papermill": {
     "duration": 0.046327,
     "end_time": "2024-08-02T11:55:29.651328",
     "exception": false,
     "start_time": "2024-08-02T11:55:29.605001",
     "status": "completed"
    },
    "tags": []
   },
   "outputs": [
    {
     "data": {
      "text/html": [
       "<div>\n",
       "<style scoped>\n",
       "    .dataframe tbody tr th:only-of-type {\n",
       "        vertical-align: middle;\n",
       "    }\n",
       "\n",
       "    .dataframe tbody tr th {\n",
       "        vertical-align: top;\n",
       "    }\n",
       "\n",
       "    .dataframe thead th {\n",
       "        text-align: right;\n",
       "    }\n",
       "</style>\n",
       "<table border=\"1\" class=\"dataframe\">\n",
       "  <thead>\n",
       "    <tr style=\"text-align: right;\">\n",
       "      <th></th>\n",
       "      <th>ID</th>\n",
       "      <th>Crime_Category</th>\n",
       "    </tr>\n",
       "  </thead>\n",
       "  <tbody>\n",
       "    <tr>\n",
       "      <th>0</th>\n",
       "      <td>1</td>\n",
       "      <td>Violent Crimes</td>\n",
       "    </tr>\n",
       "    <tr>\n",
       "      <th>1</th>\n",
       "      <td>2</td>\n",
       "      <td>Property Crimes</td>\n",
       "    </tr>\n",
       "    <tr>\n",
       "      <th>2</th>\n",
       "      <td>3</td>\n",
       "      <td>Fraud and White-Collar Crimes</td>\n",
       "    </tr>\n",
       "    <tr>\n",
       "      <th>3</th>\n",
       "      <td>4</td>\n",
       "      <td>Property Crimes</td>\n",
       "    </tr>\n",
       "    <tr>\n",
       "      <th>4</th>\n",
       "      <td>5</td>\n",
       "      <td>Crimes against Public Order</td>\n",
       "    </tr>\n",
       "    <tr>\n",
       "      <th>...</th>\n",
       "      <td>...</td>\n",
       "      <td>...</td>\n",
       "    </tr>\n",
       "    <tr>\n",
       "      <th>4995</th>\n",
       "      <td>4996</td>\n",
       "      <td>Property Crimes</td>\n",
       "    </tr>\n",
       "    <tr>\n",
       "      <th>4996</th>\n",
       "      <td>4997</td>\n",
       "      <td>Property Crimes</td>\n",
       "    </tr>\n",
       "    <tr>\n",
       "      <th>4997</th>\n",
       "      <td>4998</td>\n",
       "      <td>Violent Crimes</td>\n",
       "    </tr>\n",
       "    <tr>\n",
       "      <th>4998</th>\n",
       "      <td>4999</td>\n",
       "      <td>Violent Crimes</td>\n",
       "    </tr>\n",
       "    <tr>\n",
       "      <th>4999</th>\n",
       "      <td>5000</td>\n",
       "      <td>Property Crimes</td>\n",
       "    </tr>\n",
       "  </tbody>\n",
       "</table>\n",
       "<p>5000 rows × 2 columns</p>\n",
       "</div>"
      ],
      "text/plain": [
       "        ID                 Crime_Category\n",
       "0        1                 Violent Crimes\n",
       "1        2                Property Crimes\n",
       "2        3  Fraud and White-Collar Crimes\n",
       "3        4                Property Crimes\n",
       "4        5    Crimes against Public Order\n",
       "...    ...                            ...\n",
       "4995  4996                Property Crimes\n",
       "4996  4997                Property Crimes\n",
       "4997  4998                 Violent Crimes\n",
       "4998  4999                 Violent Crimes\n",
       "4999  5000                Property Crimes\n",
       "\n",
       "[5000 rows x 2 columns]"
      ]
     },
     "execution_count": 64,
     "metadata": {},
     "output_type": "execute_result"
    }
   ],
   "source": [
    "submission"
   ]
  },
  {
   "cell_type": "code",
   "execution_count": 65,
   "id": "beadc455",
   "metadata": {
    "execution": {
     "iopub.execute_input": "2024-08-02T11:55:29.713900Z",
     "iopub.status.busy": "2024-08-02T11:55:29.713481Z",
     "iopub.status.idle": "2024-08-02T11:55:29.729336Z",
     "shell.execute_reply": "2024-08-02T11:55:29.728014Z"
    },
    "papermill": {
     "duration": 0.050881,
     "end_time": "2024-08-02T11:55:29.732235",
     "exception": false,
     "start_time": "2024-08-02T11:55:29.681354",
     "status": "completed"
    },
    "tags": []
   },
   "outputs": [],
   "source": [
    "submission.to_csv('/kaggle/working/submission.csv', index=False)"
   ]
  },
  {
   "cell_type": "code",
   "execution_count": null,
   "id": "6ea58987",
   "metadata": {
    "papermill": {
     "duration": 0.031065,
     "end_time": "2024-08-02T11:55:29.793854",
     "exception": false,
     "start_time": "2024-08-02T11:55:29.762789",
     "status": "completed"
    },
    "tags": []
   },
   "outputs": [],
   "source": []
  },
  {
   "cell_type": "code",
   "execution_count": null,
   "id": "66136bd7",
   "metadata": {
    "papermill": {
     "duration": 0.030962,
     "end_time": "2024-08-02T11:55:29.855650",
     "exception": false,
     "start_time": "2024-08-02T11:55:29.824688",
     "status": "completed"
    },
    "tags": []
   },
   "outputs": [],
   "source": []
  },
  {
   "cell_type": "code",
   "execution_count": null,
   "id": "a676285d",
   "metadata": {
    "papermill": {
     "duration": 0.029866,
     "end_time": "2024-08-02T11:55:29.915846",
     "exception": false,
     "start_time": "2024-08-02T11:55:29.885980",
     "status": "completed"
    },
    "tags": []
   },
   "outputs": [],
   "source": []
  },
  {
   "cell_type": "code",
   "execution_count": null,
   "id": "61a6944a",
   "metadata": {
    "papermill": {
     "duration": 0.030385,
     "end_time": "2024-08-02T11:55:29.976363",
     "exception": false,
     "start_time": "2024-08-02T11:55:29.945978",
     "status": "completed"
    },
    "tags": []
   },
   "outputs": [],
   "source": []
  },
  {
   "cell_type": "code",
   "execution_count": null,
   "id": "7bddd028",
   "metadata": {
    "papermill": {
     "duration": 0.031219,
     "end_time": "2024-08-02T11:55:30.038772",
     "exception": false,
     "start_time": "2024-08-02T11:55:30.007553",
     "status": "completed"
    },
    "tags": []
   },
   "outputs": [],
   "source": []
  },
  {
   "cell_type": "code",
   "execution_count": null,
   "id": "084869bf",
   "metadata": {
    "papermill": {
     "duration": 0.030676,
     "end_time": "2024-08-02T11:55:30.101246",
     "exception": false,
     "start_time": "2024-08-02T11:55:30.070570",
     "status": "completed"
    },
    "tags": []
   },
   "outputs": [],
   "source": []
  },
  {
   "cell_type": "code",
   "execution_count": null,
   "id": "f31c3ee7",
   "metadata": {
    "papermill": {
     "duration": 0.029929,
     "end_time": "2024-08-02T11:55:30.161572",
     "exception": false,
     "start_time": "2024-08-02T11:55:30.131643",
     "status": "completed"
    },
    "tags": []
   },
   "outputs": [],
   "source": []
  }
 ],
 "metadata": {
  "kaggle": {
   "accelerator": "none",
   "dataSources": [
    {
     "databundleVersionId": 8446444,
     "sourceId": 77420,
     "sourceType": "competition"
    }
   ],
   "dockerImageVersionId": 30732,
   "isGpuEnabled": false,
   "isInternetEnabled": true,
   "language": "python",
   "sourceType": "notebook"
  },
  "kernelspec": {
   "display_name": "Python 3",
   "language": "python",
   "name": "python3"
  },
  "language_info": {
   "codemirror_mode": {
    "name": "ipython",
    "version": 3
   },
   "file_extension": ".py",
   "mimetype": "text/x-python",
   "name": "python",
   "nbconvert_exporter": "python",
   "pygments_lexer": "ipython3",
   "version": "3.10.13"
  },
  "papermill": {
   "default_parameters": {},
   "duration": 911.261552,
   "end_time": "2024-08-02T11:55:32.817392",
   "environment_variables": {},
   "exception": null,
   "input_path": "__notebook__.ipynb",
   "output_path": "__notebook__.ipynb",
   "parameters": {},
   "start_time": "2024-08-02T11:40:21.555840",
   "version": "2.5.0"
  }
 },
 "nbformat": 4,
 "nbformat_minor": 5
}
